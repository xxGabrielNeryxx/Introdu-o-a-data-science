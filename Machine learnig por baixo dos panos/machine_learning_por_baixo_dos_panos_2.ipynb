{
  "nbformat": 4,
  "nbformat_minor": 0,
  "metadata": {
    "colab": {
      "provenance": [],
      "collapsed_sections": [
        "ZofFYHGtLp4e",
        "kStou3gZS5-u",
        "NWJD02A7X4Ij"
      ]
    },
    "kernelspec": {
      "name": "python3",
      "display_name": "Python 3"
    },
    "language_info": {
      "name": "python"
    }
  },
  "cells": [
    {
      "cell_type": "code",
      "execution_count": null,
      "metadata": {
        "id": "zkezkOj5MKbF"
      },
      "outputs": [],
      "source": [
        "import pandas as pd\n",
        "pd.set_option('display.max_columns', 39)"
      ]
    },
    {
      "cell_type": "code",
      "source": [
        "#Importando base dados com informações de evasão dos clientes de uma empresa de telecomunicações\n",
        "#Objetivo: saber se um cliente vai ou não sair (churn)\n",
        "dados = pd.read_csv('https://raw.githubusercontent.com/alura-cursos/ML_Classificacao_por_tras_dos_panos/main/Dados/Customer-Churn.csv')\n",
        "dados.head()"
      ],
      "metadata": {
        "colab": {
          "base_uri": "https://localhost:8080/",
          "height": 270
        },
        "id": "h_vQmMhXMi00",
        "outputId": "1b7a2a6b-45ce-480d-8626-a60cf88a7658"
      },
      "execution_count": null,
      "outputs": [
        {
          "output_type": "execute_result",
          "data": {
            "text/plain": [
              "   Maior65Anos Conjuge Dependentes  MesesDeContrato TelefoneFixo  \\\n",
              "0            0     Sim         Nao                1          Nao   \n",
              "1            0     Nao         Nao               34          Sim   \n",
              "2            0     Nao         Nao                2          Sim   \n",
              "3            0     Nao         Nao               45          Nao   \n",
              "4            0     Nao         Nao                2          Sim   \n",
              "\n",
              "  VariasLinhasTelefonicas ServicoDeInternet SegurancaOnline BackupOnline  \\\n",
              "0    SemServicoTelefonico               DSL             Nao          Sim   \n",
              "1                     Nao               DSL             Sim          Nao   \n",
              "2                     Nao               DSL             Sim          Sim   \n",
              "3    SemServicoTelefonico               DSL             Sim          Nao   \n",
              "4                     Nao       FibraOptica             Nao          Nao   \n",
              "\n",
              "  SeguroNoDispositivo SuporteTecnico TVaCabo StreamingDeFilmes TipoDeContrato  \\\n",
              "0                 Nao            Nao     Nao               Nao    Mensalmente   \n",
              "1                 Sim            Nao     Nao               Nao          UmAno   \n",
              "2                 Nao            Nao     Nao               Nao    Mensalmente   \n",
              "3                 Sim            Sim     Nao               Nao          UmAno   \n",
              "4                 Nao            Nao     Nao               Nao    Mensalmente   \n",
              "\n",
              "  PagamentoOnline FormaDePagamento  ContaMensal Churn  \n",
              "0             Sim    ChequeDigital        29.85   Nao  \n",
              "1             Nao      ChequePapel        56.95   Nao  \n",
              "2             Sim      ChequePapel        53.85   Sim  \n",
              "3             Nao    DebitoEmConta        42.30   Nao  \n",
              "4             Sim    ChequeDigital        70.70   Sim  "
            ],
            "text/html": [
              "\n",
              "  <div id=\"df-b5eb5b3e-b11c-4e36-b815-8b7e7a215544\">\n",
              "    <div class=\"colab-df-container\">\n",
              "      <div>\n",
              "<style scoped>\n",
              "    .dataframe tbody tr th:only-of-type {\n",
              "        vertical-align: middle;\n",
              "    }\n",
              "\n",
              "    .dataframe tbody tr th {\n",
              "        vertical-align: top;\n",
              "    }\n",
              "\n",
              "    .dataframe thead th {\n",
              "        text-align: right;\n",
              "    }\n",
              "</style>\n",
              "<table border=\"1\" class=\"dataframe\">\n",
              "  <thead>\n",
              "    <tr style=\"text-align: right;\">\n",
              "      <th></th>\n",
              "      <th>Maior65Anos</th>\n",
              "      <th>Conjuge</th>\n",
              "      <th>Dependentes</th>\n",
              "      <th>MesesDeContrato</th>\n",
              "      <th>TelefoneFixo</th>\n",
              "      <th>VariasLinhasTelefonicas</th>\n",
              "      <th>ServicoDeInternet</th>\n",
              "      <th>SegurancaOnline</th>\n",
              "      <th>BackupOnline</th>\n",
              "      <th>SeguroNoDispositivo</th>\n",
              "      <th>SuporteTecnico</th>\n",
              "      <th>TVaCabo</th>\n",
              "      <th>StreamingDeFilmes</th>\n",
              "      <th>TipoDeContrato</th>\n",
              "      <th>PagamentoOnline</th>\n",
              "      <th>FormaDePagamento</th>\n",
              "      <th>ContaMensal</th>\n",
              "      <th>Churn</th>\n",
              "    </tr>\n",
              "  </thead>\n",
              "  <tbody>\n",
              "    <tr>\n",
              "      <th>0</th>\n",
              "      <td>0</td>\n",
              "      <td>Sim</td>\n",
              "      <td>Nao</td>\n",
              "      <td>1</td>\n",
              "      <td>Nao</td>\n",
              "      <td>SemServicoTelefonico</td>\n",
              "      <td>DSL</td>\n",
              "      <td>Nao</td>\n",
              "      <td>Sim</td>\n",
              "      <td>Nao</td>\n",
              "      <td>Nao</td>\n",
              "      <td>Nao</td>\n",
              "      <td>Nao</td>\n",
              "      <td>Mensalmente</td>\n",
              "      <td>Sim</td>\n",
              "      <td>ChequeDigital</td>\n",
              "      <td>29.85</td>\n",
              "      <td>Nao</td>\n",
              "    </tr>\n",
              "    <tr>\n",
              "      <th>1</th>\n",
              "      <td>0</td>\n",
              "      <td>Nao</td>\n",
              "      <td>Nao</td>\n",
              "      <td>34</td>\n",
              "      <td>Sim</td>\n",
              "      <td>Nao</td>\n",
              "      <td>DSL</td>\n",
              "      <td>Sim</td>\n",
              "      <td>Nao</td>\n",
              "      <td>Sim</td>\n",
              "      <td>Nao</td>\n",
              "      <td>Nao</td>\n",
              "      <td>Nao</td>\n",
              "      <td>UmAno</td>\n",
              "      <td>Nao</td>\n",
              "      <td>ChequePapel</td>\n",
              "      <td>56.95</td>\n",
              "      <td>Nao</td>\n",
              "    </tr>\n",
              "    <tr>\n",
              "      <th>2</th>\n",
              "      <td>0</td>\n",
              "      <td>Nao</td>\n",
              "      <td>Nao</td>\n",
              "      <td>2</td>\n",
              "      <td>Sim</td>\n",
              "      <td>Nao</td>\n",
              "      <td>DSL</td>\n",
              "      <td>Sim</td>\n",
              "      <td>Sim</td>\n",
              "      <td>Nao</td>\n",
              "      <td>Nao</td>\n",
              "      <td>Nao</td>\n",
              "      <td>Nao</td>\n",
              "      <td>Mensalmente</td>\n",
              "      <td>Sim</td>\n",
              "      <td>ChequePapel</td>\n",
              "      <td>53.85</td>\n",
              "      <td>Sim</td>\n",
              "    </tr>\n",
              "    <tr>\n",
              "      <th>3</th>\n",
              "      <td>0</td>\n",
              "      <td>Nao</td>\n",
              "      <td>Nao</td>\n",
              "      <td>45</td>\n",
              "      <td>Nao</td>\n",
              "      <td>SemServicoTelefonico</td>\n",
              "      <td>DSL</td>\n",
              "      <td>Sim</td>\n",
              "      <td>Nao</td>\n",
              "      <td>Sim</td>\n",
              "      <td>Sim</td>\n",
              "      <td>Nao</td>\n",
              "      <td>Nao</td>\n",
              "      <td>UmAno</td>\n",
              "      <td>Nao</td>\n",
              "      <td>DebitoEmConta</td>\n",
              "      <td>42.30</td>\n",
              "      <td>Nao</td>\n",
              "    </tr>\n",
              "    <tr>\n",
              "      <th>4</th>\n",
              "      <td>0</td>\n",
              "      <td>Nao</td>\n",
              "      <td>Nao</td>\n",
              "      <td>2</td>\n",
              "      <td>Sim</td>\n",
              "      <td>Nao</td>\n",
              "      <td>FibraOptica</td>\n",
              "      <td>Nao</td>\n",
              "      <td>Nao</td>\n",
              "      <td>Nao</td>\n",
              "      <td>Nao</td>\n",
              "      <td>Nao</td>\n",
              "      <td>Nao</td>\n",
              "      <td>Mensalmente</td>\n",
              "      <td>Sim</td>\n",
              "      <td>ChequeDigital</td>\n",
              "      <td>70.70</td>\n",
              "      <td>Sim</td>\n",
              "    </tr>\n",
              "  </tbody>\n",
              "</table>\n",
              "</div>\n",
              "      <button class=\"colab-df-convert\" onclick=\"convertToInteractive('df-b5eb5b3e-b11c-4e36-b815-8b7e7a215544')\"\n",
              "              title=\"Convert this dataframe to an interactive table.\"\n",
              "              style=\"display:none;\">\n",
              "        \n",
              "  <svg xmlns=\"http://www.w3.org/2000/svg\" height=\"24px\"viewBox=\"0 0 24 24\"\n",
              "       width=\"24px\">\n",
              "    <path d=\"M0 0h24v24H0V0z\" fill=\"none\"/>\n",
              "    <path d=\"M18.56 5.44l.94 2.06.94-2.06 2.06-.94-2.06-.94-.94-2.06-.94 2.06-2.06.94zm-11 1L8.5 8.5l.94-2.06 2.06-.94-2.06-.94L8.5 2.5l-.94 2.06-2.06.94zm10 10l.94 2.06.94-2.06 2.06-.94-2.06-.94-.94-2.06-.94 2.06-2.06.94z\"/><path d=\"M17.41 7.96l-1.37-1.37c-.4-.4-.92-.59-1.43-.59-.52 0-1.04.2-1.43.59L10.3 9.45l-7.72 7.72c-.78.78-.78 2.05 0 2.83L4 21.41c.39.39.9.59 1.41.59.51 0 1.02-.2 1.41-.59l7.78-7.78 2.81-2.81c.8-.78.8-2.07 0-2.86zM5.41 20L4 18.59l7.72-7.72 1.47 1.35L5.41 20z\"/>\n",
              "  </svg>\n",
              "      </button>\n",
              "      \n",
              "  <style>\n",
              "    .colab-df-container {\n",
              "      display:flex;\n",
              "      flex-wrap:wrap;\n",
              "      gap: 12px;\n",
              "    }\n",
              "\n",
              "    .colab-df-convert {\n",
              "      background-color: #E8F0FE;\n",
              "      border: none;\n",
              "      border-radius: 50%;\n",
              "      cursor: pointer;\n",
              "      display: none;\n",
              "      fill: #1967D2;\n",
              "      height: 32px;\n",
              "      padding: 0 0 0 0;\n",
              "      width: 32px;\n",
              "    }\n",
              "\n",
              "    .colab-df-convert:hover {\n",
              "      background-color: #E2EBFA;\n",
              "      box-shadow: 0px 1px 2px rgba(60, 64, 67, 0.3), 0px 1px 3px 1px rgba(60, 64, 67, 0.15);\n",
              "      fill: #174EA6;\n",
              "    }\n",
              "\n",
              "    [theme=dark] .colab-df-convert {\n",
              "      background-color: #3B4455;\n",
              "      fill: #D2E3FC;\n",
              "    }\n",
              "\n",
              "    [theme=dark] .colab-df-convert:hover {\n",
              "      background-color: #434B5C;\n",
              "      box-shadow: 0px 1px 3px 1px rgba(0, 0, 0, 0.15);\n",
              "      filter: drop-shadow(0px 1px 2px rgba(0, 0, 0, 0.3));\n",
              "      fill: #FFFFFF;\n",
              "    }\n",
              "  </style>\n",
              "\n",
              "      <script>\n",
              "        const buttonEl =\n",
              "          document.querySelector('#df-b5eb5b3e-b11c-4e36-b815-8b7e7a215544 button.colab-df-convert');\n",
              "        buttonEl.style.display =\n",
              "          google.colab.kernel.accessAllowed ? 'block' : 'none';\n",
              "\n",
              "        async function convertToInteractive(key) {\n",
              "          const element = document.querySelector('#df-b5eb5b3e-b11c-4e36-b815-8b7e7a215544');\n",
              "          const dataTable =\n",
              "            await google.colab.kernel.invokeFunction('convertToInteractive',\n",
              "                                                     [key], {});\n",
              "          if (!dataTable) return;\n",
              "\n",
              "          const docLinkHtml = 'Like what you see? Visit the ' +\n",
              "            '<a target=\"_blank\" href=https://colab.research.google.com/notebooks/data_table.ipynb>data table notebook</a>'\n",
              "            + ' to learn more about interactive tables.';\n",
              "          element.innerHTML = '';\n",
              "          dataTable['output_type'] = 'display_data';\n",
              "          await google.colab.output.renderOutput(dataTable, element);\n",
              "          const docLink = document.createElement('div');\n",
              "          docLink.innerHTML = docLinkHtml;\n",
              "          element.appendChild(docLink);\n",
              "        }\n",
              "      </script>\n",
              "    </div>\n",
              "  </div>\n",
              "  "
            ]
          },
          "metadata": {},
          "execution_count": 254
        }
      ]
    },
    {
      "cell_type": "code",
      "source": [
        "dados.shape"
      ],
      "metadata": {
        "colab": {
          "base_uri": "https://localhost:8080/"
        },
        "id": "Tg_6tyGxOFdp",
        "outputId": "f8b3fb72-515e-4626-e581-298316c97098"
      },
      "execution_count": null,
      "outputs": [
        {
          "output_type": "execute_result",
          "data": {
            "text/plain": [
              "(7043, 18)"
            ]
          },
          "metadata": {},
          "execution_count": 255
        }
      ]
    },
    {
      "cell_type": "markdown",
      "source": [
        "# Transformando as variáveis categóricas \n"
      ],
      "metadata": {
        "id": "Cit-6l28TKX2"
      }
    },
    {
      "cell_type": "code",
      "source": [
        "#Forma manual\n",
        "\n",
        "dic = {\n",
        "    'Sim':1,\n",
        "    'Nao':0\n",
        "}\n",
        "\n",
        "#replace substitui os valores das celulas de um DF de acordo com um dicionario\n",
        "dadosmodificados = dados[['Conjuge', 'Dependentes', 'TelefoneFixo', 'PagamentoOnline', 'Churn']].replace(dic) \n",
        "dadosmodificados\n"
      ],
      "metadata": {
        "colab": {
          "base_uri": "https://localhost:8080/",
          "height": 424
        },
        "id": "IfHB2oxATRjr",
        "outputId": "b442901d-aaf6-4c40-c4e2-23bd7869a866"
      },
      "execution_count": null,
      "outputs": [
        {
          "output_type": "execute_result",
          "data": {
            "text/plain": [
              "      Conjuge  Dependentes  TelefoneFixo  PagamentoOnline  Churn\n",
              "0           1            0             0                1      0\n",
              "1           0            0             1                0      0\n",
              "2           0            0             1                1      1\n",
              "3           0            0             0                0      0\n",
              "4           0            0             1                1      1\n",
              "...       ...          ...           ...              ...    ...\n",
              "7038        1            1             1                1      0\n",
              "7039        1            1             1                1      0\n",
              "7040        1            1             0                1      0\n",
              "7041        1            0             1                1      1\n",
              "7042        0            0             1                1      0\n",
              "\n",
              "[7043 rows x 5 columns]"
            ],
            "text/html": [
              "\n",
              "  <div id=\"df-db413be4-8335-40b7-a288-adf4f54b4a67\">\n",
              "    <div class=\"colab-df-container\">\n",
              "      <div>\n",
              "<style scoped>\n",
              "    .dataframe tbody tr th:only-of-type {\n",
              "        vertical-align: middle;\n",
              "    }\n",
              "\n",
              "    .dataframe tbody tr th {\n",
              "        vertical-align: top;\n",
              "    }\n",
              "\n",
              "    .dataframe thead th {\n",
              "        text-align: right;\n",
              "    }\n",
              "</style>\n",
              "<table border=\"1\" class=\"dataframe\">\n",
              "  <thead>\n",
              "    <tr style=\"text-align: right;\">\n",
              "      <th></th>\n",
              "      <th>Conjuge</th>\n",
              "      <th>Dependentes</th>\n",
              "      <th>TelefoneFixo</th>\n",
              "      <th>PagamentoOnline</th>\n",
              "      <th>Churn</th>\n",
              "    </tr>\n",
              "  </thead>\n",
              "  <tbody>\n",
              "    <tr>\n",
              "      <th>0</th>\n",
              "      <td>1</td>\n",
              "      <td>0</td>\n",
              "      <td>0</td>\n",
              "      <td>1</td>\n",
              "      <td>0</td>\n",
              "    </tr>\n",
              "    <tr>\n",
              "      <th>1</th>\n",
              "      <td>0</td>\n",
              "      <td>0</td>\n",
              "      <td>1</td>\n",
              "      <td>0</td>\n",
              "      <td>0</td>\n",
              "    </tr>\n",
              "    <tr>\n",
              "      <th>2</th>\n",
              "      <td>0</td>\n",
              "      <td>0</td>\n",
              "      <td>1</td>\n",
              "      <td>1</td>\n",
              "      <td>1</td>\n",
              "    </tr>\n",
              "    <tr>\n",
              "      <th>3</th>\n",
              "      <td>0</td>\n",
              "      <td>0</td>\n",
              "      <td>0</td>\n",
              "      <td>0</td>\n",
              "      <td>0</td>\n",
              "    </tr>\n",
              "    <tr>\n",
              "      <th>4</th>\n",
              "      <td>0</td>\n",
              "      <td>0</td>\n",
              "      <td>1</td>\n",
              "      <td>1</td>\n",
              "      <td>1</td>\n",
              "    </tr>\n",
              "    <tr>\n",
              "      <th>...</th>\n",
              "      <td>...</td>\n",
              "      <td>...</td>\n",
              "      <td>...</td>\n",
              "      <td>...</td>\n",
              "      <td>...</td>\n",
              "    </tr>\n",
              "    <tr>\n",
              "      <th>7038</th>\n",
              "      <td>1</td>\n",
              "      <td>1</td>\n",
              "      <td>1</td>\n",
              "      <td>1</td>\n",
              "      <td>0</td>\n",
              "    </tr>\n",
              "    <tr>\n",
              "      <th>7039</th>\n",
              "      <td>1</td>\n",
              "      <td>1</td>\n",
              "      <td>1</td>\n",
              "      <td>1</td>\n",
              "      <td>0</td>\n",
              "    </tr>\n",
              "    <tr>\n",
              "      <th>7040</th>\n",
              "      <td>1</td>\n",
              "      <td>1</td>\n",
              "      <td>0</td>\n",
              "      <td>1</td>\n",
              "      <td>0</td>\n",
              "    </tr>\n",
              "    <tr>\n",
              "      <th>7041</th>\n",
              "      <td>1</td>\n",
              "      <td>0</td>\n",
              "      <td>1</td>\n",
              "      <td>1</td>\n",
              "      <td>1</td>\n",
              "    </tr>\n",
              "    <tr>\n",
              "      <th>7042</th>\n",
              "      <td>0</td>\n",
              "      <td>0</td>\n",
              "      <td>1</td>\n",
              "      <td>1</td>\n",
              "      <td>0</td>\n",
              "    </tr>\n",
              "  </tbody>\n",
              "</table>\n",
              "<p>7043 rows × 5 columns</p>\n",
              "</div>\n",
              "      <button class=\"colab-df-convert\" onclick=\"convertToInteractive('df-db413be4-8335-40b7-a288-adf4f54b4a67')\"\n",
              "              title=\"Convert this dataframe to an interactive table.\"\n",
              "              style=\"display:none;\">\n",
              "        \n",
              "  <svg xmlns=\"http://www.w3.org/2000/svg\" height=\"24px\"viewBox=\"0 0 24 24\"\n",
              "       width=\"24px\">\n",
              "    <path d=\"M0 0h24v24H0V0z\" fill=\"none\"/>\n",
              "    <path d=\"M18.56 5.44l.94 2.06.94-2.06 2.06-.94-2.06-.94-.94-2.06-.94 2.06-2.06.94zm-11 1L8.5 8.5l.94-2.06 2.06-.94-2.06-.94L8.5 2.5l-.94 2.06-2.06.94zm10 10l.94 2.06.94-2.06 2.06-.94-2.06-.94-.94-2.06-.94 2.06-2.06.94z\"/><path d=\"M17.41 7.96l-1.37-1.37c-.4-.4-.92-.59-1.43-.59-.52 0-1.04.2-1.43.59L10.3 9.45l-7.72 7.72c-.78.78-.78 2.05 0 2.83L4 21.41c.39.39.9.59 1.41.59.51 0 1.02-.2 1.41-.59l7.78-7.78 2.81-2.81c.8-.78.8-2.07 0-2.86zM5.41 20L4 18.59l7.72-7.72 1.47 1.35L5.41 20z\"/>\n",
              "  </svg>\n",
              "      </button>\n",
              "      \n",
              "  <style>\n",
              "    .colab-df-container {\n",
              "      display:flex;\n",
              "      flex-wrap:wrap;\n",
              "      gap: 12px;\n",
              "    }\n",
              "\n",
              "    .colab-df-convert {\n",
              "      background-color: #E8F0FE;\n",
              "      border: none;\n",
              "      border-radius: 50%;\n",
              "      cursor: pointer;\n",
              "      display: none;\n",
              "      fill: #1967D2;\n",
              "      height: 32px;\n",
              "      padding: 0 0 0 0;\n",
              "      width: 32px;\n",
              "    }\n",
              "\n",
              "    .colab-df-convert:hover {\n",
              "      background-color: #E2EBFA;\n",
              "      box-shadow: 0px 1px 2px rgba(60, 64, 67, 0.3), 0px 1px 3px 1px rgba(60, 64, 67, 0.15);\n",
              "      fill: #174EA6;\n",
              "    }\n",
              "\n",
              "    [theme=dark] .colab-df-convert {\n",
              "      background-color: #3B4455;\n",
              "      fill: #D2E3FC;\n",
              "    }\n",
              "\n",
              "    [theme=dark] .colab-df-convert:hover {\n",
              "      background-color: #434B5C;\n",
              "      box-shadow: 0px 1px 3px 1px rgba(0, 0, 0, 0.15);\n",
              "      filter: drop-shadow(0px 1px 2px rgba(0, 0, 0, 0.3));\n",
              "      fill: #FFFFFF;\n",
              "    }\n",
              "  </style>\n",
              "\n",
              "      <script>\n",
              "        const buttonEl =\n",
              "          document.querySelector('#df-db413be4-8335-40b7-a288-adf4f54b4a67 button.colab-df-convert');\n",
              "        buttonEl.style.display =\n",
              "          google.colab.kernel.accessAllowed ? 'block' : 'none';\n",
              "\n",
              "        async function convertToInteractive(key) {\n",
              "          const element = document.querySelector('#df-db413be4-8335-40b7-a288-adf4f54b4a67');\n",
              "          const dataTable =\n",
              "            await google.colab.kernel.invokeFunction('convertToInteractive',\n",
              "                                                     [key], {});\n",
              "          if (!dataTable) return;\n",
              "\n",
              "          const docLinkHtml = 'Like what you see? Visit the ' +\n",
              "            '<a target=\"_blank\" href=https://colab.research.google.com/notebooks/data_table.ipynb>data table notebook</a>'\n",
              "            + ' to learn more about interactive tables.';\n",
              "          element.innerHTML = '';\n",
              "          dataTable['output_type'] = 'display_data';\n",
              "          await google.colab.output.renderOutput(dataTable, element);\n",
              "          const docLink = document.createElement('div');\n",
              "          docLink.innerHTML = docLinkHtml;\n",
              "          element.appendChild(docLink);\n",
              "        }\n",
              "      </script>\n",
              "    </div>\n",
              "  </div>\n",
              "  "
            ]
          },
          "metadata": {},
          "execution_count": 256
        }
      ]
    },
    {
      "cell_type": "code",
      "source": [
        "# Forma com get_dummies\n",
        "dummie_dados = pd.get_dummies(dados.drop(['Conjuge', 'Dependentes', 'TelefoneFixo', 'PagamentoOnline', 'Churn'], axis = 1))"
      ],
      "metadata": {
        "id": "nIcCuwH-a9Gj"
      },
      "execution_count": null,
      "outputs": []
    },
    {
      "cell_type": "code",
      "source": [
        "#juntando os dados\n",
        "dados_final = pd.concat([dadosmodificados, dummie_dados], axis =1)\n",
        "dados_final.head()"
      ],
      "metadata": {
        "colab": {
          "base_uri": "https://localhost:8080/",
          "height": 270
        },
        "id": "37cIM_ozbrfJ",
        "outputId": "dc8c1723-2fb7-47ee-c077-b6ce74130427"
      },
      "execution_count": null,
      "outputs": [
        {
          "output_type": "execute_result",
          "data": {
            "text/plain": [
              "   Conjuge  Dependentes  TelefoneFixo  PagamentoOnline  Churn  Maior65Anos  \\\n",
              "0        1            0             0                1      0            0   \n",
              "1        0            0             1                0      0            0   \n",
              "2        0            0             1                1      1            0   \n",
              "3        0            0             0                0      0            0   \n",
              "4        0            0             1                1      1            0   \n",
              "\n",
              "   MesesDeContrato  ContaMensal  VariasLinhasTelefonicas_Nao  \\\n",
              "0                1        29.85                            0   \n",
              "1               34        56.95                            1   \n",
              "2                2        53.85                            1   \n",
              "3               45        42.30                            0   \n",
              "4                2        70.70                            1   \n",
              "\n",
              "   VariasLinhasTelefonicas_SemServicoTelefonico  VariasLinhasTelefonicas_Sim  \\\n",
              "0                                             1                            0   \n",
              "1                                             0                            0   \n",
              "2                                             0                            0   \n",
              "3                                             1                            0   \n",
              "4                                             0                            0   \n",
              "\n",
              "   ServicoDeInternet_DSL  ServicoDeInternet_FibraOptica  \\\n",
              "0                      1                              0   \n",
              "1                      1                              0   \n",
              "2                      1                              0   \n",
              "3                      1                              0   \n",
              "4                      0                              1   \n",
              "\n",
              "   ServicoDeInternet_Nao  SegurancaOnline_Nao  \\\n",
              "0                      0                    1   \n",
              "1                      0                    0   \n",
              "2                      0                    0   \n",
              "3                      0                    0   \n",
              "4                      0                    1   \n",
              "\n",
              "   SegurancaOnline_SemServicoDeInternet  SegurancaOnline_Sim  \\\n",
              "0                                     0                    0   \n",
              "1                                     0                    1   \n",
              "2                                     0                    1   \n",
              "3                                     0                    1   \n",
              "4                                     0                    0   \n",
              "\n",
              "   BackupOnline_Nao  BackupOnline_SemServicoDeInternet  BackupOnline_Sim  \\\n",
              "0                 0                                  0                 1   \n",
              "1                 1                                  0                 0   \n",
              "2                 0                                  0                 1   \n",
              "3                 1                                  0                 0   \n",
              "4                 1                                  0                 0   \n",
              "\n",
              "   SeguroNoDispositivo_Nao  SeguroNoDispositivo_SemServicoDeInternet  \\\n",
              "0                        1                                         0   \n",
              "1                        0                                         0   \n",
              "2                        1                                         0   \n",
              "3                        0                                         0   \n",
              "4                        1                                         0   \n",
              "\n",
              "   SeguroNoDispositivo_Sim  SuporteTecnico_Nao  \\\n",
              "0                        0                   1   \n",
              "1                        1                   1   \n",
              "2                        0                   1   \n",
              "3                        1                   0   \n",
              "4                        0                   1   \n",
              "\n",
              "   SuporteTecnico_SemServicoDeInternet  SuporteTecnico_Sim  TVaCabo_Nao  \\\n",
              "0                                    0                   0            1   \n",
              "1                                    0                   0            1   \n",
              "2                                    0                   0            1   \n",
              "3                                    0                   1            1   \n",
              "4                                    0                   0            1   \n",
              "\n",
              "   TVaCabo_SemServicoDeInternet  TVaCabo_Sim  StreamingDeFilmes_Nao  \\\n",
              "0                             0            0                      1   \n",
              "1                             0            0                      1   \n",
              "2                             0            0                      1   \n",
              "3                             0            0                      1   \n",
              "4                             0            0                      1   \n",
              "\n",
              "   StreamingDeFilmes_SemServicoDeInternet  StreamingDeFilmes_Sim  \\\n",
              "0                                       0                      0   \n",
              "1                                       0                      0   \n",
              "2                                       0                      0   \n",
              "3                                       0                      0   \n",
              "4                                       0                      0   \n",
              "\n",
              "   TipoDeContrato_DoisAnos  TipoDeContrato_Mensalmente  TipoDeContrato_UmAno  \\\n",
              "0                        0                           1                     0   \n",
              "1                        0                           0                     1   \n",
              "2                        0                           1                     0   \n",
              "3                        0                           0                     1   \n",
              "4                        0                           1                     0   \n",
              "\n",
              "   FormaDePagamento_CartaoDeCredito  FormaDePagamento_ChequeDigital  \\\n",
              "0                                 0                               1   \n",
              "1                                 0                               0   \n",
              "2                                 0                               0   \n",
              "3                                 0                               0   \n",
              "4                                 0                               1   \n",
              "\n",
              "   FormaDePagamento_ChequePapel  FormaDePagamento_DebitoEmConta  \n",
              "0                             0                               0  \n",
              "1                             1                               0  \n",
              "2                             1                               0  \n",
              "3                             0                               1  \n",
              "4                             0                               0  "
            ],
            "text/html": [
              "\n",
              "  <div id=\"df-37a9a4f9-97e5-471a-bd0d-4507efef2244\">\n",
              "    <div class=\"colab-df-container\">\n",
              "      <div>\n",
              "<style scoped>\n",
              "    .dataframe tbody tr th:only-of-type {\n",
              "        vertical-align: middle;\n",
              "    }\n",
              "\n",
              "    .dataframe tbody tr th {\n",
              "        vertical-align: top;\n",
              "    }\n",
              "\n",
              "    .dataframe thead th {\n",
              "        text-align: right;\n",
              "    }\n",
              "</style>\n",
              "<table border=\"1\" class=\"dataframe\">\n",
              "  <thead>\n",
              "    <tr style=\"text-align: right;\">\n",
              "      <th></th>\n",
              "      <th>Conjuge</th>\n",
              "      <th>Dependentes</th>\n",
              "      <th>TelefoneFixo</th>\n",
              "      <th>PagamentoOnline</th>\n",
              "      <th>Churn</th>\n",
              "      <th>Maior65Anos</th>\n",
              "      <th>MesesDeContrato</th>\n",
              "      <th>ContaMensal</th>\n",
              "      <th>VariasLinhasTelefonicas_Nao</th>\n",
              "      <th>VariasLinhasTelefonicas_SemServicoTelefonico</th>\n",
              "      <th>VariasLinhasTelefonicas_Sim</th>\n",
              "      <th>ServicoDeInternet_DSL</th>\n",
              "      <th>ServicoDeInternet_FibraOptica</th>\n",
              "      <th>ServicoDeInternet_Nao</th>\n",
              "      <th>SegurancaOnline_Nao</th>\n",
              "      <th>SegurancaOnline_SemServicoDeInternet</th>\n",
              "      <th>SegurancaOnline_Sim</th>\n",
              "      <th>BackupOnline_Nao</th>\n",
              "      <th>BackupOnline_SemServicoDeInternet</th>\n",
              "      <th>BackupOnline_Sim</th>\n",
              "      <th>SeguroNoDispositivo_Nao</th>\n",
              "      <th>SeguroNoDispositivo_SemServicoDeInternet</th>\n",
              "      <th>SeguroNoDispositivo_Sim</th>\n",
              "      <th>SuporteTecnico_Nao</th>\n",
              "      <th>SuporteTecnico_SemServicoDeInternet</th>\n",
              "      <th>SuporteTecnico_Sim</th>\n",
              "      <th>TVaCabo_Nao</th>\n",
              "      <th>TVaCabo_SemServicoDeInternet</th>\n",
              "      <th>TVaCabo_Sim</th>\n",
              "      <th>StreamingDeFilmes_Nao</th>\n",
              "      <th>StreamingDeFilmes_SemServicoDeInternet</th>\n",
              "      <th>StreamingDeFilmes_Sim</th>\n",
              "      <th>TipoDeContrato_DoisAnos</th>\n",
              "      <th>TipoDeContrato_Mensalmente</th>\n",
              "      <th>TipoDeContrato_UmAno</th>\n",
              "      <th>FormaDePagamento_CartaoDeCredito</th>\n",
              "      <th>FormaDePagamento_ChequeDigital</th>\n",
              "      <th>FormaDePagamento_ChequePapel</th>\n",
              "      <th>FormaDePagamento_DebitoEmConta</th>\n",
              "    </tr>\n",
              "  </thead>\n",
              "  <tbody>\n",
              "    <tr>\n",
              "      <th>0</th>\n",
              "      <td>1</td>\n",
              "      <td>0</td>\n",
              "      <td>0</td>\n",
              "      <td>1</td>\n",
              "      <td>0</td>\n",
              "      <td>0</td>\n",
              "      <td>1</td>\n",
              "      <td>29.85</td>\n",
              "      <td>0</td>\n",
              "      <td>1</td>\n",
              "      <td>0</td>\n",
              "      <td>1</td>\n",
              "      <td>0</td>\n",
              "      <td>0</td>\n",
              "      <td>1</td>\n",
              "      <td>0</td>\n",
              "      <td>0</td>\n",
              "      <td>0</td>\n",
              "      <td>0</td>\n",
              "      <td>1</td>\n",
              "      <td>1</td>\n",
              "      <td>0</td>\n",
              "      <td>0</td>\n",
              "      <td>1</td>\n",
              "      <td>0</td>\n",
              "      <td>0</td>\n",
              "      <td>1</td>\n",
              "      <td>0</td>\n",
              "      <td>0</td>\n",
              "      <td>1</td>\n",
              "      <td>0</td>\n",
              "      <td>0</td>\n",
              "      <td>0</td>\n",
              "      <td>1</td>\n",
              "      <td>0</td>\n",
              "      <td>0</td>\n",
              "      <td>1</td>\n",
              "      <td>0</td>\n",
              "      <td>0</td>\n",
              "    </tr>\n",
              "    <tr>\n",
              "      <th>1</th>\n",
              "      <td>0</td>\n",
              "      <td>0</td>\n",
              "      <td>1</td>\n",
              "      <td>0</td>\n",
              "      <td>0</td>\n",
              "      <td>0</td>\n",
              "      <td>34</td>\n",
              "      <td>56.95</td>\n",
              "      <td>1</td>\n",
              "      <td>0</td>\n",
              "      <td>0</td>\n",
              "      <td>1</td>\n",
              "      <td>0</td>\n",
              "      <td>0</td>\n",
              "      <td>0</td>\n",
              "      <td>0</td>\n",
              "      <td>1</td>\n",
              "      <td>1</td>\n",
              "      <td>0</td>\n",
              "      <td>0</td>\n",
              "      <td>0</td>\n",
              "      <td>0</td>\n",
              "      <td>1</td>\n",
              "      <td>1</td>\n",
              "      <td>0</td>\n",
              "      <td>0</td>\n",
              "      <td>1</td>\n",
              "      <td>0</td>\n",
              "      <td>0</td>\n",
              "      <td>1</td>\n",
              "      <td>0</td>\n",
              "      <td>0</td>\n",
              "      <td>0</td>\n",
              "      <td>0</td>\n",
              "      <td>1</td>\n",
              "      <td>0</td>\n",
              "      <td>0</td>\n",
              "      <td>1</td>\n",
              "      <td>0</td>\n",
              "    </tr>\n",
              "    <tr>\n",
              "      <th>2</th>\n",
              "      <td>0</td>\n",
              "      <td>0</td>\n",
              "      <td>1</td>\n",
              "      <td>1</td>\n",
              "      <td>1</td>\n",
              "      <td>0</td>\n",
              "      <td>2</td>\n",
              "      <td>53.85</td>\n",
              "      <td>1</td>\n",
              "      <td>0</td>\n",
              "      <td>0</td>\n",
              "      <td>1</td>\n",
              "      <td>0</td>\n",
              "      <td>0</td>\n",
              "      <td>0</td>\n",
              "      <td>0</td>\n",
              "      <td>1</td>\n",
              "      <td>0</td>\n",
              "      <td>0</td>\n",
              "      <td>1</td>\n",
              "      <td>1</td>\n",
              "      <td>0</td>\n",
              "      <td>0</td>\n",
              "      <td>1</td>\n",
              "      <td>0</td>\n",
              "      <td>0</td>\n",
              "      <td>1</td>\n",
              "      <td>0</td>\n",
              "      <td>0</td>\n",
              "      <td>1</td>\n",
              "      <td>0</td>\n",
              "      <td>0</td>\n",
              "      <td>0</td>\n",
              "      <td>1</td>\n",
              "      <td>0</td>\n",
              "      <td>0</td>\n",
              "      <td>0</td>\n",
              "      <td>1</td>\n",
              "      <td>0</td>\n",
              "    </tr>\n",
              "    <tr>\n",
              "      <th>3</th>\n",
              "      <td>0</td>\n",
              "      <td>0</td>\n",
              "      <td>0</td>\n",
              "      <td>0</td>\n",
              "      <td>0</td>\n",
              "      <td>0</td>\n",
              "      <td>45</td>\n",
              "      <td>42.30</td>\n",
              "      <td>0</td>\n",
              "      <td>1</td>\n",
              "      <td>0</td>\n",
              "      <td>1</td>\n",
              "      <td>0</td>\n",
              "      <td>0</td>\n",
              "      <td>0</td>\n",
              "      <td>0</td>\n",
              "      <td>1</td>\n",
              "      <td>1</td>\n",
              "      <td>0</td>\n",
              "      <td>0</td>\n",
              "      <td>0</td>\n",
              "      <td>0</td>\n",
              "      <td>1</td>\n",
              "      <td>0</td>\n",
              "      <td>0</td>\n",
              "      <td>1</td>\n",
              "      <td>1</td>\n",
              "      <td>0</td>\n",
              "      <td>0</td>\n",
              "      <td>1</td>\n",
              "      <td>0</td>\n",
              "      <td>0</td>\n",
              "      <td>0</td>\n",
              "      <td>0</td>\n",
              "      <td>1</td>\n",
              "      <td>0</td>\n",
              "      <td>0</td>\n",
              "      <td>0</td>\n",
              "      <td>1</td>\n",
              "    </tr>\n",
              "    <tr>\n",
              "      <th>4</th>\n",
              "      <td>0</td>\n",
              "      <td>0</td>\n",
              "      <td>1</td>\n",
              "      <td>1</td>\n",
              "      <td>1</td>\n",
              "      <td>0</td>\n",
              "      <td>2</td>\n",
              "      <td>70.70</td>\n",
              "      <td>1</td>\n",
              "      <td>0</td>\n",
              "      <td>0</td>\n",
              "      <td>0</td>\n",
              "      <td>1</td>\n",
              "      <td>0</td>\n",
              "      <td>1</td>\n",
              "      <td>0</td>\n",
              "      <td>0</td>\n",
              "      <td>1</td>\n",
              "      <td>0</td>\n",
              "      <td>0</td>\n",
              "      <td>1</td>\n",
              "      <td>0</td>\n",
              "      <td>0</td>\n",
              "      <td>1</td>\n",
              "      <td>0</td>\n",
              "      <td>0</td>\n",
              "      <td>1</td>\n",
              "      <td>0</td>\n",
              "      <td>0</td>\n",
              "      <td>1</td>\n",
              "      <td>0</td>\n",
              "      <td>0</td>\n",
              "      <td>0</td>\n",
              "      <td>1</td>\n",
              "      <td>0</td>\n",
              "      <td>0</td>\n",
              "      <td>1</td>\n",
              "      <td>0</td>\n",
              "      <td>0</td>\n",
              "    </tr>\n",
              "  </tbody>\n",
              "</table>\n",
              "</div>\n",
              "      <button class=\"colab-df-convert\" onclick=\"convertToInteractive('df-37a9a4f9-97e5-471a-bd0d-4507efef2244')\"\n",
              "              title=\"Convert this dataframe to an interactive table.\"\n",
              "              style=\"display:none;\">\n",
              "        \n",
              "  <svg xmlns=\"http://www.w3.org/2000/svg\" height=\"24px\"viewBox=\"0 0 24 24\"\n",
              "       width=\"24px\">\n",
              "    <path d=\"M0 0h24v24H0V0z\" fill=\"none\"/>\n",
              "    <path d=\"M18.56 5.44l.94 2.06.94-2.06 2.06-.94-2.06-.94-.94-2.06-.94 2.06-2.06.94zm-11 1L8.5 8.5l.94-2.06 2.06-.94-2.06-.94L8.5 2.5l-.94 2.06-2.06.94zm10 10l.94 2.06.94-2.06 2.06-.94-2.06-.94-.94-2.06-.94 2.06-2.06.94z\"/><path d=\"M17.41 7.96l-1.37-1.37c-.4-.4-.92-.59-1.43-.59-.52 0-1.04.2-1.43.59L10.3 9.45l-7.72 7.72c-.78.78-.78 2.05 0 2.83L4 21.41c.39.39.9.59 1.41.59.51 0 1.02-.2 1.41-.59l7.78-7.78 2.81-2.81c.8-.78.8-2.07 0-2.86zM5.41 20L4 18.59l7.72-7.72 1.47 1.35L5.41 20z\"/>\n",
              "  </svg>\n",
              "      </button>\n",
              "      \n",
              "  <style>\n",
              "    .colab-df-container {\n",
              "      display:flex;\n",
              "      flex-wrap:wrap;\n",
              "      gap: 12px;\n",
              "    }\n",
              "\n",
              "    .colab-df-convert {\n",
              "      background-color: #E8F0FE;\n",
              "      border: none;\n",
              "      border-radius: 50%;\n",
              "      cursor: pointer;\n",
              "      display: none;\n",
              "      fill: #1967D2;\n",
              "      height: 32px;\n",
              "      padding: 0 0 0 0;\n",
              "      width: 32px;\n",
              "    }\n",
              "\n",
              "    .colab-df-convert:hover {\n",
              "      background-color: #E2EBFA;\n",
              "      box-shadow: 0px 1px 2px rgba(60, 64, 67, 0.3), 0px 1px 3px 1px rgba(60, 64, 67, 0.15);\n",
              "      fill: #174EA6;\n",
              "    }\n",
              "\n",
              "    [theme=dark] .colab-df-convert {\n",
              "      background-color: #3B4455;\n",
              "      fill: #D2E3FC;\n",
              "    }\n",
              "\n",
              "    [theme=dark] .colab-df-convert:hover {\n",
              "      background-color: #434B5C;\n",
              "      box-shadow: 0px 1px 3px 1px rgba(0, 0, 0, 0.15);\n",
              "      filter: drop-shadow(0px 1px 2px rgba(0, 0, 0, 0.3));\n",
              "      fill: #FFFFFF;\n",
              "    }\n",
              "  </style>\n",
              "\n",
              "      <script>\n",
              "        const buttonEl =\n",
              "          document.querySelector('#df-37a9a4f9-97e5-471a-bd0d-4507efef2244 button.colab-df-convert');\n",
              "        buttonEl.style.display =\n",
              "          google.colab.kernel.accessAllowed ? 'block' : 'none';\n",
              "\n",
              "        async function convertToInteractive(key) {\n",
              "          const element = document.querySelector('#df-37a9a4f9-97e5-471a-bd0d-4507efef2244');\n",
              "          const dataTable =\n",
              "            await google.colab.kernel.invokeFunction('convertToInteractive',\n",
              "                                                     [key], {});\n",
              "          if (!dataTable) return;\n",
              "\n",
              "          const docLinkHtml = 'Like what you see? Visit the ' +\n",
              "            '<a target=\"_blank\" href=https://colab.research.google.com/notebooks/data_table.ipynb>data table notebook</a>'\n",
              "            + ' to learn more about interactive tables.';\n",
              "          element.innerHTML = '';\n",
              "          dataTable['output_type'] = 'display_data';\n",
              "          await google.colab.output.renderOutput(dataTable, element);\n",
              "          const docLink = document.createElement('div');\n",
              "          docLink.innerHTML = docLinkHtml;\n",
              "          element.appendChild(docLink);\n",
              "        }\n",
              "      </script>\n",
              "    </div>\n",
              "  </div>\n",
              "  "
            ]
          },
          "metadata": {},
          "execution_count": 258
        }
      ]
    },
    {
      "cell_type": "markdown",
      "source": [
        "# Definição formal\n"
      ],
      "metadata": {
        "id": "ZofFYHGtLp4e"
      }
    },
    {
      "cell_type": "markdown",
      "source": [
        "***X*** = inputs (dados de entrada) <br>\n",
        "***Y*** = outputs (dados de saída)"
      ],
      "metadata": {
        "id": "tKhkdzzWLtNu"
      }
    },
    {
      "cell_type": "code",
      "source": [
        "Xmaria = [[0,0,1,1,0,0,39.90,1,0,0,0,1,0,1,0,0,0,0,1,1,1,0,0,1,0,1,0,0,0,0,1,0,0,1,0,0,0,1]]\n",
        "#Ymaria = ?\n",
        "#f(Xmaria) = Ymaria"
      ],
      "metadata": {
        "id": "u6x-BGliMVlx"
      },
      "execution_count": null,
      "outputs": []
    },
    {
      "cell_type": "markdown",
      "source": [
        "# Balanceando os dados"
      ],
      "metadata": {
        "id": "kStou3gZS5-u"
      }
    },
    {
      "cell_type": "code",
      "source": [
        "import seaborn as sns\n",
        "%matplotlib inline\n",
        "\n",
        "#Da para perceber que a variável Churn está desproporcional e isso pode gerar problemas\n",
        "fig = sns.countplot(x = 'Churn', data = dados_final)\n",
        "fig"
      ],
      "metadata": {
        "colab": {
          "base_uri": "https://localhost:8080/"
        },
        "id": "6Mo-k_TRS9h5",
        "outputId": "6d83fe7b-6d84-4d04-a243-5b1a7f64958b"
      },
      "execution_count": null,
      "outputs": [
        {
          "output_type": "execute_result",
          "data": {
            "text/plain": [
              "<matplotlib.axes._subplots.AxesSubplot at 0x7f8f14198090>"
            ]
          },
          "metadata": {},
          "execution_count": 260
        },
        {
          "output_type": "display_data",
          "data": {
            "text/plain": [
              "<Figure size 432x288 with 1 Axes>"
            ],
            "image/png": "[encoded data removed]"
          },
          "metadata": {
            "needs_background": "light"
          }
        }
      ]
    },
    {
      "cell_type": "code",
      "source": [
        "# Deixando a variável 'Churn' balanceada com a tecnica de oversampling chamada SMOTE\n",
        "#Usando a biblioteca imbalanced-learn para esse fim \n",
        "!pip install -U imbalanced-learn"
      ],
      "metadata": {
        "colab": {
          "base_uri": "https://localhost:8080/"
        },
        "id": "apKVldw5bCTB",
        "outputId": "ab49235b-3046-4665-9be8-30adf74ef445"
      },
      "execution_count": null,
      "outputs": [
        {
          "output_type": "stream",
          "name": "stdout",
          "text": [
            "Looking in indexes: https://pypi.org/simple, https://us-python.pkg.dev/colab-wheels/public/simple/\n",
            "Requirement already satisfied: imbalanced-learn in /usr/local/lib/python3.7/dist-packages (0.9.0)\n",
            "Collecting imbalanced-learn\n",
            "  Using cached imbalanced_learn-0.9.1-py3-none-any.whl (199 kB)\n",
            "Requirement already satisfied: scipy>=1.3.2 in /usr/local/lib/python3.7/dist-packages (from imbalanced-learn) (1.7.3)\n",
            "Requirement already satisfied: joblib>=1.0.0 in /usr/local/lib/python3.7/dist-packages (from imbalanced-learn) (1.2.0)\n",
            "Requirement already satisfied: threadpoolctl>=2.0.0 in /usr/local/lib/python3.7/dist-packages (from imbalanced-learn) (3.1.0)\n",
            "Requirement already satisfied: scikit-learn>=1.0.1 in /usr/local/lib/python3.7/dist-packages (from imbalanced-learn) (1.0.2)\n",
            "Requirement already satisfied: numpy>=1.14.6 in /usr/local/lib/python3.7/dist-packages (from imbalanced-learn) (1.21.6)\n"
          ]
        }
      ]
    },
    {
      "cell_type": "code",
      "source": [
        "# Para podermos aplicar o SMOTE, devemos separar  os dados em variáveis características e respostas\n",
        "x = dados_final.drop(['Churn'], axis =1)\n",
        "y = dados_final['Churn']"
      ],
      "metadata": {
        "id": "Gpguoh9Gbx55"
      },
      "execution_count": null,
      "outputs": []
    },
    {
      "cell_type": "code",
      "source": [
        "from imblearn.over_sampling import SMOTE\n",
        "import numpy as np\n",
        "\n",
        "seed = 123\n",
        "np.random.seed(seed)\n",
        "\n",
        "smt = SMOTE()# Instancia um objeto da classe SMOTE\n",
        "x,y =smt.fit_resample(x,y) #Realiza a reamostragem do conjunto de dados para ficar equilibrado"
      ],
      "metadata": {
        "id": "xux-f9n0cIHQ"
      },
      "execution_count": null,
      "outputs": []
    },
    {
      "cell_type": "code",
      "source": [
        "#O tamanho de y e x aumentaram, pois amostras intermediárias de valores foram criados \n",
        "print(x.shape)\n",
        "print(y.shape)\n"
      ],
      "metadata": {
        "colab": {
          "base_uri": "https://localhost:8080/"
        },
        "id": "O1-ml26tdA_0",
        "outputId": "d61405e4-2f83-447e-f5a6-29ff70b74ad5"
      },
      "execution_count": null,
      "outputs": [
        {
          "output_type": "stream",
          "name": "stdout",
          "text": [
            "(10348, 38)\n",
            "(10348,)\n"
          ]
        }
      ]
    },
    {
      "cell_type": "code",
      "source": [
        "dados_final = pd.concat([x,y], axis =1)# Concatena a variável target (y) com as features (X)\n",
        "fig = sns.countplot(x= 'Churn', data=dados_final)\n",
        "fig\n",
        "\n",
        "# Ao analisarmos a variável classificadora ‘Churn’, \n",
        "# podemos notar que há menos clientes contendo Sim - 1 do que Não - 0. \n",
        "# Para que o aprendizado do algoritmo não seja afetado pela falta de informações referentes ao Churn de clientes que nos deixaram (Sim), \n",
        "# foi necessário aplicar uma técnica de balanceamento.\n"
      ],
      "metadata": {
        "colab": {
          "base_uri": "https://localhost:8080/"
        },
        "id": "ilMoW3K-djFE",
        "outputId": "285fd6f8-9b31-44f2-b438-1a9d6d44ec16"
      },
      "execution_count": null,
      "outputs": [
        {
          "output_type": "execute_result",
          "data": {
            "text/plain": [
              "<matplotlib.axes._subplots.AxesSubplot at 0x7f8f122d4490>"
            ]
          },
          "metadata": {},
          "execution_count": 265
        },
        {
          "output_type": "display_data",
          "data": {
            "text/plain": [
              "<Figure size 432x288 with 1 Axes>"
            ],
            "image/png": "[encoded data removed]"
          },
          "metadata": {
            "needs_background": "light"
          }
        }
      ]
    },
    {
      "cell_type": "markdown",
      "source": [
        "Para aprofundar no tema:\n",
        "https://medium.com/data-hackers/como-lidar-com-dados-desbalanceados-em-problemas-de-classifica%C3%A7%C3%A3o-17c4d4357ef9"
      ],
      "metadata": {
        "id": "UPpNahN_jziY"
      }
    },
    {
      "cell_type": "markdown",
      "source": [
        "# KNN \n",
        "\n"
      ],
      "metadata": {
        "id": "wVM23nsrAxJx"
      }
    },
    {
      "cell_type": "code",
      "source": [
        "Xmaria"
      ],
      "metadata": {
        "colab": {
          "base_uri": "https://localhost:8080/"
        },
        "id": "_rzCDoupA3tA",
        "outputId": "c3a305ea-e579-4b9c-a953-6ada457df7b3"
      },
      "execution_count": null,
      "outputs": [
        {
          "output_type": "execute_result",
          "data": {
            "text/plain": [
              "[[0,\n",
              "  0,\n",
              "  1,\n",
              "  1,\n",
              "  0,\n",
              "  0,\n",
              "  39.9,\n",
              "  1,\n",
              "  0,\n",
              "  0,\n",
              "  0,\n",
              "  1,\n",
              "  0,\n",
              "  1,\n",
              "  0,\n",
              "  0,\n",
              "  0,\n",
              "  0,\n",
              "  1,\n",
              "  1,\n",
              "  1,\n",
              "  0,\n",
              "  0,\n",
              "  1,\n",
              "  0,\n",
              "  1,\n",
              "  0,\n",
              "  0,\n",
              "  0,\n",
              "  0,\n",
              "  1,\n",
              "  0,\n",
              "  0,\n",
              "  1,\n",
              "  0,\n",
              "  0,\n",
              "  0,\n",
              "  1]]"
            ]
          },
          "metadata": {},
          "execution_count": 266
        }
      ]
    },
    {
      "cell_type": "code",
      "source": [
        "# Divisão em inputs e outputs\n",
        "x = dados_final.drop('Churn', axis = 1)\n",
        "y = dados_final['Churn']"
      ],
      "metadata": {
        "id": "Y5YYGRy8BEpt"
      },
      "execution_count": null,
      "outputs": []
    },
    {
      "cell_type": "code",
      "source": [
        "#Como KNN usa a distancia como classificador, então devo deixar todos os dados\n",
        "#na mesma escala (distancia_real/distancia_imaginaria)\n",
        "\n",
        "from sklearn.preprocessing import StandardScaler"
      ],
      "metadata": {
        "id": "D-rqQKhXBasZ"
      },
      "execution_count": null,
      "outputs": []
    },
    {
      "cell_type": "markdown",
      "source": [
        "Como a função de normalização funciona ?\n",
        "* O escalador pega cada um dos atributos de Maria, por exemplo, e subtai da media dos atributos e divide pelo desvio padrão, normalizando o atributo"
      ],
      "metadata": {
        "id": "B_gupwFwCUYA"
      }
    },
    {
      "cell_type": "code",
      "source": [
        "scaler = StandardScaler()\n",
        "x_norm = scaler.fit_transform(x)\n",
        "x_norm[0]"
      ],
      "metadata": {
        "colab": {
          "base_uri": "https://localhost:8080/"
        },
        "id": "HI2-V1DAEU45",
        "outputId": "f564f7d1-b35e-4d24-e0d9-8172e43dc29d"
      },
      "execution_count": null,
      "outputs": [
        {
          "output_type": "execute_result",
          "data": {
            "text/plain": [
              "array([ 1.26542767, -0.52756038, -3.06083934,  0.8149851 , -0.41334384,\n",
              "       -1.10768354, -1.32176205, -0.88482108,  3.18604176, -0.83366906,\n",
              "        1.51268338, -1.04386816, -0.44617598,  0.868102  , -0.44617598,\n",
              "       -0.5173695 , -0.95871762, -0.44617598,  1.57389661,  1.04326198,\n",
              "       -0.44617598, -0.64211419,  0.87997069, -0.44617598, -0.52426638,\n",
              "        1.18643645, -0.44617598, -0.77707385,  1.2033586 , -0.44617598,\n",
              "       -0.78992399, -0.44648735,  0.73773107, -0.41989297, -0.42576817,\n",
              "        1.30292044, -0.47943196, -0.43617215])"
            ]
          },
          "metadata": {},
          "execution_count": 269
        }
      ]
    },
    {
      "cell_type": "code",
      "source": [
        "#normalizando maria\n",
        "Xmaria_norm = scaler.transform(pd.DataFrame(Xmaria, columns = x.columns))# essa funçao so funciona em 2D\n",
        "Xmaria_norm"
      ],
      "metadata": {
        "colab": {
          "base_uri": "https://localhost:8080/"
        },
        "id": "_tFqZyoNGdMg",
        "outputId": "8d6e18fa-508b-4457-acc4-fc6a511066b7"
      },
      "execution_count": null,
      "outputs": [
        {
          "output_type": "execute_result",
          "data": {
            "text/plain": [
              "array([[-0.79024667, -0.52756038,  0.32670777,  0.8149851 , -0.41334384,\n",
              "        -1.14934709, -0.97235471,  1.13017199, -0.31386908, -0.83366906,\n",
              "        -0.66107688,  0.95797538, -0.44617598,  0.868102  , -0.44617598,\n",
              "        -0.5173695 , -0.95871762, -0.44617598,  1.57389661,  1.04326198,\n",
              "         2.24126814, -0.64211419, -1.13640148,  2.24126814, -0.52426638,\n",
              "         1.18643645, -0.44617598, -0.77707385, -0.83100748, -0.44617598,\n",
              "         1.26594459, -0.44648735, -1.35550751,  2.38155929, -0.42576817,\n",
              "        -0.76750657, -0.47943196,  2.29267273]])"
            ]
          },
          "metadata": {},
          "execution_count": 270
        }
      ]
    },
    {
      "cell_type": "markdown",
      "source": [
        "Distancia Euclidiana:\n",
        "$$\\sqrt{\\sum_{i=1}^k(a_{i}-b_{i})^2}$$"
      ],
      "metadata": {
        "id": "Oh7aHMdBK0hN"
      }
    },
    {
      "cell_type": "code",
      "source": [
        "#calculo da distancia euclidiana de maria ao primeiro cliente de x\n",
        "import numpy as np"
      ],
      "metadata": {
        "id": "66y2VIm4K2Sz"
      },
      "execution_count": null,
      "outputs": []
    },
    {
      "cell_type": "code",
      "source": [
        "a = Xmaria_norm\n",
        "b = x_norm[0]"
      ],
      "metadata": {
        "id": "4wQR6EV4LG33"
      },
      "execution_count": null,
      "outputs": []
    },
    {
      "cell_type": "code",
      "source": [
        "#começar subtraindo\n",
        "a-b"
      ],
      "metadata": {
        "colab": {
          "base_uri": "https://localhost:8080/"
        },
        "id": "yeHp1JCFLU22",
        "outputId": "64356858-141c-4181-b704-c6bd54f15f73"
      },
      "execution_count": null,
      "outputs": [
        {
          "output_type": "execute_result",
          "data": {
            "text/plain": [
              "array([[-2.05567434,  0.        ,  3.38754711,  0.        ,  0.        ,\n",
              "        -0.04166355,  0.34940734,  2.01499307, -3.49991084,  0.        ,\n",
              "        -2.17376025,  2.00184354,  0.        ,  0.        ,  0.        ,\n",
              "         0.        ,  0.        ,  0.        ,  0.        ,  0.        ,\n",
              "         2.68744412,  0.        , -2.01637218,  2.68744412,  0.        ,\n",
              "         0.        ,  0.        ,  0.        , -2.03436608,  0.        ,\n",
              "         2.05586858,  0.        , -2.09323857,  2.80145225,  0.        ,\n",
              "        -2.07042701,  0.        ,  2.72884488]])"
            ]
          },
          "metadata": {},
          "execution_count": 273
        }
      ]
    },
    {
      "cell_type": "code",
      "source": [
        "#elevando a-b ao quadrado\n",
        "np.square(a-b)"
      ],
      "metadata": {
        "colab": {
          "base_uri": "https://localhost:8080/"
        },
        "id": "IJbY6glBLriU",
        "outputId": "3e83c052-f0f5-40fe-b1eb-a06fb538d78d"
      },
      "execution_count": null,
      "outputs": [
        {
          "output_type": "execute_result",
          "data": {
            "text/plain": [
              "array([[4.22579699e+00, 0.00000000e+00, 1.14754754e+01, 0.00000000e+00,\n",
              "        0.00000000e+00, 1.73585140e-03, 1.22085486e-01, 4.06019707e+00,\n",
              "        1.22493759e+01, 0.00000000e+00, 4.72523363e+00, 4.00737757e+00,\n",
              "        0.00000000e+00, 0.00000000e+00, 0.00000000e+00, 0.00000000e+00,\n",
              "        0.00000000e+00, 0.00000000e+00, 0.00000000e+00, 0.00000000e+00,\n",
              "        7.22235589e+00, 0.00000000e+00, 4.06575675e+00, 7.22235589e+00,\n",
              "        0.00000000e+00, 0.00000000e+00, 0.00000000e+00, 0.00000000e+00,\n",
              "        4.13864535e+00, 0.00000000e+00, 4.22659561e+00, 0.00000000e+00,\n",
              "        4.38164773e+00, 7.84813473e+00, 0.00000000e+00, 4.28666801e+00,\n",
              "        0.00000000e+00, 7.44659439e+00]])"
            ]
          },
          "metadata": {},
          "execution_count": 274
        }
      ]
    },
    {
      "cell_type": "code",
      "source": [
        "#somatorio de todos os resultados\n",
        "np.sum(np.square(a-b))"
      ],
      "metadata": {
        "colab": {
          "base_uri": "https://localhost:8080/"
        },
        "id": "hFv2JeWeLzwN",
        "outputId": "755d12cc-c94f-4602-b1fd-2d4154c49696"
      },
      "execution_count": null,
      "outputs": [
        {
          "output_type": "execute_result",
          "data": {
            "text/plain": [
              "91.70603225977928"
            ]
          },
          "metadata": {},
          "execution_count": 275
        }
      ]
    },
    {
      "cell_type": "code",
      "source": [
        "#raiz quadrada\n",
        "np.sqrt(np.sum(np.square(a-b)))"
      ],
      "metadata": {
        "colab": {
          "base_uri": "https://localhost:8080/"
        },
        "id": "Kv7wD_fTMNn5",
        "outputId": "623f7540-26e7-4c70-d799-a7eae8e4981c"
      },
      "execution_count": null,
      "outputs": [
        {
          "output_type": "execute_result",
          "data": {
            "text/plain": [
              "9.576326657950807"
            ]
          },
          "metadata": {},
          "execution_count": 276
        }
      ]
    },
    {
      "cell_type": "markdown",
      "source": [
        "Existem muitas medidas de distancia que o algoritmo KNN pode usar, basta alterar o parametro ***metric*** em ***sklearn.neighbors.KNeighborsClassifier***:\n",
        "* **“euclidean”** para a distância euclidiana\n",
        "$$d=\\sqrt{(X_{1}-Y_{1})^2+ ...+X_{n}-Y_{n})^2}$$\n",
        "* **“manhattan”** para a distância de Manhattan:\n",
        "$$d=|X_{1}-Y_{1}| +...+|X_{n}-Y_{n}|$$\n",
        "* **“minkowski”** para a distância de Minkowski **(default do sklearn)**:\n",
        "$$d=\\sqrt[m]{|X_{1}-Y_{1}|^m +...+|X_{n}-Y_{n}|^m}$$\n",
        "* **“chebyshev”** para a distância de Chebyshev:\n",
        "$$d=max\\{ |X_{1}-Y_{1}| ,...,|X_{n}-Y_{n}|\\}$$\n",
        "\n",
        "<a href='https://scikit-learn.org/stable/modules/generated/sklearn.metrics.DistanceMetric.html#sklearn.metrics.DistanceMetric'>Documentação</a>\n"
      ],
      "metadata": {
        "id": "ooAohwGQPaeU"
      }
    },
    {
      "cell_type": "markdown",
      "source": [
        "[texto do link](https://)"
      ],
      "metadata": {
        "id": "DPmJET0I1Iir"
      }
    },
    {
      "cell_type": "code",
      "source": [
        "#implementando o moledo\n",
        "import numpy as np\n",
        "from sklearn.model_selection import train_test_split\n",
        "seed =123\n",
        "np.random.seed(seed)\n",
        "\n",
        "x_treino, x_teste, y_treino, y_teste=train_test_split(x_norm, y, stratify=y,test_size=0.3, )"
      ],
      "metadata": {
        "id": "WCsEUcZaTFoi"
      },
      "execution_count": null,
      "outputs": []
    },
    {
      "cell_type": "code",
      "source": [
        "import numpy as np\n",
        "from sklearn.neighbors import KNeighborsClassifier\n",
        "seed =123\n",
        "np.random.seed(seed)\n",
        "\n",
        "knn = KNeighborsClassifier(metric = 'euclidean') #Por padrao k é 5 (bom valor)\n",
        "knn.fit(x_treino, y_treino)\n"
      ],
      "metadata": {
        "colab": {
          "base_uri": "https://localhost:8080/"
        },
        "id": "vRivD1FvUMTw",
        "outputId": "d3aace29-d5b8-498c-f979-c45abd427b06"
      },
      "execution_count": null,
      "outputs": [
        {
          "output_type": "execute_result",
          "data": {
            "text/plain": [
              "KNeighborsClassifier(metric='euclidean')"
            ]
          },
          "metadata": {},
          "execution_count": 278
        }
      ]
    },
    {
      "cell_type": "code",
      "source": [
        "predict_knn = knn.predict(x_teste)"
      ],
      "metadata": {
        "id": "IgTITq49VFov"
      },
      "execution_count": null,
      "outputs": []
    },
    {
      "cell_type": "markdown",
      "source": [
        "# Desafio\n",
        "Calcule a distância da Maria com os(as) 10 primeiros(as) clientes da nossa base de dados normalizada utilizando a métrica euclidiana."
      ],
      "metadata": {
        "id": "NWJD02A7X4Ij"
      }
    },
    {
      "cell_type": "code",
      "source": [
        "import numpy as np\n",
        "dist = []\n",
        "X_norm10 = x_norm[:10]\n",
        "Xmaria_norm\n",
        "\n",
        "for pessoa in X_norm10:\n",
        "  dist.append(np.sqrt(np.sum(np.square(Xmaria_norm-pessoa))))\n",
        "\n",
        "pd.concat([pd.Series(dist), pd.Series(y[:10])], axis=1).sort_values(by=0)"
      ],
      "metadata": {
        "colab": {
          "base_uri": "https://localhost:8080/"
        },
        "id": "eFBkpqngZQNG",
        "outputId": "8a9884d7-a3aa-4d77-c222-ad0ceb364126"
      },
      "execution_count": null,
      "outputs": [
        {
          "output_type": "execute_result",
          "data": {
            "text/plain": [
              "           0  Churn\n",
              "4   7.802583      1\n",
              "9   7.919934      0\n",
              "2   8.496555      1\n",
              "6   8.969900      0\n",
              "5   9.011363      1\n",
              "1   9.164065      0\n",
              "8   9.450058      1\n",
              "0   9.576327      0\n",
              "3  10.037407      0\n",
              "7  10.634386      0"
            ],
            "text/html": [
              "\n",
              "  <div id=\"df-f066e8b8-ef08-41b4-8808-37868cfd09e6\">\n",
              "    <div class=\"colab-df-container\">\n",
              "      <div>\n",
              "<style scoped>\n",
              "    .dataframe tbody tr th:only-of-type {\n",
              "        vertical-align: middle;\n",
              "    }\n",
              "\n",
              "    .dataframe tbody tr th {\n",
              "        vertical-align: top;\n",
              "    }\n",
              "\n",
              "    .dataframe thead th {\n",
              "        text-align: right;\n",
              "    }\n",
              "</style>\n",
              "<table border=\"1\" class=\"dataframe\">\n",
              "  <thead>\n",
              "    <tr style=\"text-align: right;\">\n",
              "      <th></th>\n",
              "      <th>0</th>\n",
              "      <th>Churn</th>\n",
              "    </tr>\n",
              "  </thead>\n",
              "  <tbody>\n",
              "    <tr>\n",
              "      <th>4</th>\n",
              "      <td>7.802583</td>\n",
              "      <td>1</td>\n",
              "    </tr>\n",
              "    <tr>\n",
              "      <th>9</th>\n",
              "      <td>7.919934</td>\n",
              "      <td>0</td>\n",
              "    </tr>\n",
              "    <tr>\n",
              "      <th>2</th>\n",
              "      <td>8.496555</td>\n",
              "      <td>1</td>\n",
              "    </tr>\n",
              "    <tr>\n",
              "      <th>6</th>\n",
              "      <td>8.969900</td>\n",
              "      <td>0</td>\n",
              "    </tr>\n",
              "    <tr>\n",
              "      <th>5</th>\n",
              "      <td>9.011363</td>\n",
              "      <td>1</td>\n",
              "    </tr>\n",
              "    <tr>\n",
              "      <th>1</th>\n",
              "      <td>9.164065</td>\n",
              "      <td>0</td>\n",
              "    </tr>\n",
              "    <tr>\n",
              "      <th>8</th>\n",
              "      <td>9.450058</td>\n",
              "      <td>1</td>\n",
              "    </tr>\n",
              "    <tr>\n",
              "      <th>0</th>\n",
              "      <td>9.576327</td>\n",
              "      <td>0</td>\n",
              "    </tr>\n",
              "    <tr>\n",
              "      <th>3</th>\n",
              "      <td>10.037407</td>\n",
              "      <td>0</td>\n",
              "    </tr>\n",
              "    <tr>\n",
              "      <th>7</th>\n",
              "      <td>10.634386</td>\n",
              "      <td>0</td>\n",
              "    </tr>\n",
              "  </tbody>\n",
              "</table>\n",
              "</div>\n",
              "      <button class=\"colab-df-convert\" onclick=\"convertToInteractive('df-f066e8b8-ef08-41b4-8808-37868cfd09e6')\"\n",
              "              title=\"Convert this dataframe to an interactive table.\"\n",
              "              style=\"display:none;\">\n",
              "        \n",
              "  <svg xmlns=\"http://www.w3.org/2000/svg\" height=\"24px\"viewBox=\"0 0 24 24\"\n",
              "       width=\"24px\">\n",
              "    <path d=\"M0 0h24v24H0V0z\" fill=\"none\"/>\n",
              "    <path d=\"M18.56 5.44l.94 2.06.94-2.06 2.06-.94-2.06-.94-.94-2.06-.94 2.06-2.06.94zm-11 1L8.5 8.5l.94-2.06 2.06-.94-2.06-.94L8.5 2.5l-.94 2.06-2.06.94zm10 10l.94 2.06.94-2.06 2.06-.94-2.06-.94-.94-2.06-.94 2.06-2.06.94z\"/><path d=\"M17.41 7.96l-1.37-1.37c-.4-.4-.92-.59-1.43-.59-.52 0-1.04.2-1.43.59L10.3 9.45l-7.72 7.72c-.78.78-.78 2.05 0 2.83L4 21.41c.39.39.9.59 1.41.59.51 0 1.02-.2 1.41-.59l7.78-7.78 2.81-2.81c.8-.78.8-2.07 0-2.86zM5.41 20L4 18.59l7.72-7.72 1.47 1.35L5.41 20z\"/>\n",
              "  </svg>\n",
              "      </button>\n",
              "      \n",
              "  <style>\n",
              "    .colab-df-container {\n",
              "      display:flex;\n",
              "      flex-wrap:wrap;\n",
              "      gap: 12px;\n",
              "    }\n",
              "\n",
              "    .colab-df-convert {\n",
              "      background-color: #E8F0FE;\n",
              "      border: none;\n",
              "      border-radius: 50%;\n",
              "      cursor: pointer;\n",
              "      display: none;\n",
              "      fill: #1967D2;\n",
              "      height: 32px;\n",
              "      padding: 0 0 0 0;\n",
              "      width: 32px;\n",
              "    }\n",
              "\n",
              "    .colab-df-convert:hover {\n",
              "      background-color: #E2EBFA;\n",
              "      box-shadow: 0px 1px 2px rgba(60, 64, 67, 0.3), 0px 1px 3px 1px rgba(60, 64, 67, 0.15);\n",
              "      fill: #174EA6;\n",
              "    }\n",
              "\n",
              "    [theme=dark] .colab-df-convert {\n",
              "      background-color: #3B4455;\n",
              "      fill: #D2E3FC;\n",
              "    }\n",
              "\n",
              "    [theme=dark] .colab-df-convert:hover {\n",
              "      background-color: #434B5C;\n",
              "      box-shadow: 0px 1px 3px 1px rgba(0, 0, 0, 0.15);\n",
              "      filter: drop-shadow(0px 1px 2px rgba(0, 0, 0, 0.3));\n",
              "      fill: #FFFFFF;\n",
              "    }\n",
              "  </style>\n",
              "\n",
              "      <script>\n",
              "        const buttonEl =\n",
              "          document.querySelector('#df-f066e8b8-ef08-41b4-8808-37868cfd09e6 button.colab-df-convert');\n",
              "        buttonEl.style.display =\n",
              "          google.colab.kernel.accessAllowed ? 'block' : 'none';\n",
              "\n",
              "        async function convertToInteractive(key) {\n",
              "          const element = document.querySelector('#df-f066e8b8-ef08-41b4-8808-37868cfd09e6');\n",
              "          const dataTable =\n",
              "            await google.colab.kernel.invokeFunction('convertToInteractive',\n",
              "                                                     [key], {});\n",
              "          if (!dataTable) return;\n",
              "\n",
              "          const docLinkHtml = 'Like what you see? Visit the ' +\n",
              "            '<a target=\"_blank\" href=https://colab.research.google.com/notebooks/data_table.ipynb>data table notebook</a>'\n",
              "            + ' to learn more about interactive tables.';\n",
              "          element.innerHTML = '';\n",
              "          dataTable['output_type'] = 'display_data';\n",
              "          await google.colab.output.renderOutput(dataTable, element);\n",
              "          const docLink = document.createElement('div');\n",
              "          docLink.innerHTML = docLinkHtml;\n",
              "          element.appendChild(docLink);\n",
              "        }\n",
              "      </script>\n",
              "    </div>\n",
              "  </div>\n",
              "  "
            ]
          },
          "metadata": {},
          "execution_count": 280
        }
      ]
    },
    {
      "cell_type": "markdown",
      "source": [
        "# Bernoulli Navie Bayes\n"
      ],
      "metadata": {
        "id": "n6RT6Noum6p2"
      }
    },
    {
      "cell_type": "code",
      "source": [
        "#Importando a biblioteca\n",
        "from sklearn.naive_bayes import BernoulliNB"
      ],
      "metadata": {
        "id": "nwxi4GPkm_Pz"
      },
      "execution_count": null,
      "outputs": []
    },
    {
      "cell_type": "code",
      "source": [
        "#Encontrando a mediana dos meus dados de teino\n",
        "np.median(x_treino)"
      ],
      "metadata": {
        "colab": {
          "base_uri": "https://localhost:8080/"
        },
        "id": "CvVA-vHznaAc",
        "outputId": "5cb75bfc-5147-4d3d-8dfd-299a0d8f579a"
      },
      "execution_count": null,
      "outputs": [
        {
          "output_type": "execute_result",
          "data": {
            "text/plain": [
              "-0.4461759755508453"
            ]
          },
          "metadata": {},
          "execution_count": 282
        }
      ]
    },
    {
      "cell_type": "markdown",
      "source": [
        "## Entendendo como o parametro binarize funciona"
      ],
      "metadata": {
        "id": "mX6NdOddqTrj"
      }
    },
    {
      "cell_type": "code",
      "source": [
        "from sklearn.preprocessing import binarize\n",
        "import numpy as np\n",
        "\n",
        "rng = np.random.RandomState(1)\n",
        "X = rng.randint(5, size=(6, 1))\n",
        "X"
      ],
      "metadata": {
        "colab": {
          "base_uri": "https://localhost:8080/"
        },
        "id": "rt7bUP0-qHCK",
        "outputId": "c4a44fbd-bcd2-4197-f41d-3c4cacedf94a"
      },
      "execution_count": null,
      "outputs": [
        {
          "output_type": "execute_result",
          "data": {
            "text/plain": [
              "array([[3],\n",
              "       [4],\n",
              "       [0],\n",
              "       [1],\n",
              "       [3],\n",
              "       [0]])"
            ]
          },
          "metadata": {},
          "execution_count": 283
        }
      ]
    },
    {
      "cell_type": "code",
      "source": [
        "#binarize transforma todos os valores maiores que threshold em 1 e menores ou iguais a 3 em 0\n",
        "binarize(X, threshold = 3)"
      ],
      "metadata": {
        "colab": {
          "base_uri": "https://localhost:8080/"
        },
        "id": "ekAfysz5qOWw",
        "outputId": "6f320bfa-bec6-483f-c911-7c0c171dd6ea"
      },
      "execution_count": null,
      "outputs": [
        {
          "output_type": "execute_result",
          "data": {
            "text/plain": [
              "array([[0],\n",
              "       [1],\n",
              "       [0],\n",
              "       [0],\n",
              "       [0],\n",
              "       [0]])"
            ]
          },
          "metadata": {},
          "execution_count": 284
        }
      ]
    },
    {
      "cell_type": "markdown",
      "source": [
        "## Criando o modelo"
      ],
      "metadata": {
        "id": "VkD8RTVyrmn4"
      }
    },
    {
      "cell_type": "code",
      "source": [
        "#O modelo de bernouliNB só funciona com características binárias, por isso, uso o parametro binarize\n",
        "#O valor threshold de binarize é definido por mim como a mediana de todos os dados (poderia ser media, moda, ...)\n",
        "bnb = BernoulliNB(binarize=np.median(x_treino))"
      ],
      "metadata": {
        "id": "IIBu7HfYnMCC"
      },
      "execution_count": null,
      "outputs": []
    },
    {
      "cell_type": "code",
      "source": [
        "bnb.fit(x_treino, y_treino)"
      ],
      "metadata": {
        "colab": {
          "base_uri": "https://localhost:8080/"
        },
        "id": "S9VR8dCk0IbW",
        "outputId": "29730dd3-e683-4f0d-d511-2b313ff56348"
      },
      "execution_count": null,
      "outputs": [
        {
          "output_type": "execute_result",
          "data": {
            "text/plain": [
              "BernoulliNB(binarize=-0.4461759755508453)"
            ]
          },
          "metadata": {},
          "execution_count": 286
        }
      ]
    },
    {
      "cell_type": "code",
      "source": [
        "predict_bnb = bnb.predict(x_teste)\n",
        "predict_bnb"
      ],
      "metadata": {
        "colab": {
          "base_uri": "https://localhost:8080/"
        },
        "id": "zZVmKwzb0vx2",
        "outputId": "94b1fea7-79c4-4547-ec68-4abc7ea9b747"
      },
      "execution_count": null,
      "outputs": [
        {
          "output_type": "execute_result",
          "data": {
            "text/plain": [
              "array([1, 1, 1, ..., 0, 0, 1])"
            ]
          },
          "metadata": {},
          "execution_count": 287
        }
      ]
    },
    {
      "cell_type": "markdown",
      "source": [
        "# Implementando arvore de decisão"
      ],
      "metadata": {
        "id": "ihE8lC_JKymF"
      }
    },
    {
      "cell_type": "code",
      "source": [
        "from sklearn.tree import DecisionTreeClassifier\n",
        "\n",
        "dtc = DecisionTreeClassifier(criterion='entropy') #instanciado a arvora com o criterio de divisão da arvore por entropia \n",
        "dtc.fit(x_treino, y_treino)\n",
        "\n"
      ],
      "metadata": {
        "colab": {
          "base_uri": "https://localhost:8080/"
        },
        "id": "BLggPNMWK4h_",
        "outputId": "f7f440da-851c-4bc6-b233-b608bc56a6ab"
      },
      "execution_count": null,
      "outputs": [
        {
          "output_type": "execute_result",
          "data": {
            "text/plain": [
              "DecisionTreeClassifier(criterion='entropy')"
            ]
          },
          "metadata": {},
          "execution_count": 288
        }
      ]
    },
    {
      "cell_type": "code",
      "source": [
        "#feature_importances verifica a importancia de cada atributo/variavel de acordo com 'criterion'\n",
        "dtc.feature_importances_ #quanto menor o valor da entropia, menor a desordem"
      ],
      "metadata": {
        "colab": {
          "base_uri": "https://localhost:8080/"
        },
        "id": "F9desE6dLy-Q",
        "outputId": "c260d7a0-8aee-49e6-a1aa-b086b19e51ad"
      },
      "execution_count": null,
      "outputs": [
        {
          "output_type": "execute_result",
          "data": {
            "text/plain": [
              "array([0.01642256, 0.02153638, 0.00551268, 0.02412642, 0.01698148,\n",
              "       0.16823788, 0.21594765, 0.01055604, 0.00376669, 0.00995625,\n",
              "       0.00182287, 0.03400578, 0.        , 0.00914519, 0.        ,\n",
              "       0.01449922, 0.00662074, 0.        , 0.00984474, 0.01213094,\n",
              "       0.        , 0.00831182, 0.01560201, 0.        , 0.01470878,\n",
              "       0.00454858, 0.        , 0.00712571, 0.00870354, 0.00472104,\n",
              "       0.01043638, 0.03816755, 0.16237056, 0.07512163, 0.01548122,\n",
              "       0.01602291, 0.02046795, 0.01709683])"
            ]
          },
          "metadata": {},
          "execution_count": 289
        }
      ]
    },
    {
      "cell_type": "code",
      "source": [
        "predict_arvore = dtc.predict(x_teste)"
      ],
      "metadata": {
        "id": "twDfOxloLTXJ"
      },
      "execution_count": null,
      "outputs": []
    },
    {
      "cell_type": "code",
      "source": [
        "predict_arvore"
      ],
      "metadata": {
        "colab": {
          "base_uri": "https://localhost:8080/"
        },
        "id": "B9aGpSnqMc5X",
        "outputId": "a88ac88b-d8af-4047-8725-982d3023ef02"
      },
      "execution_count": null,
      "outputs": [
        {
          "output_type": "execute_result",
          "data": {
            "text/plain": [
              "array([1, 1, 1, ..., 0, 0, 0])"
            ]
          },
          "metadata": {},
          "execution_count": 291
        }
      ]
    },
    {
      "cell_type": "markdown",
      "source": [
        "# Validando os modelos\n"
      ],
      "metadata": {
        "id": "Q3xAe5a7RYl8"
      }
    },
    {
      "cell_type": "markdown",
      "source": [
        "## matriz de confusão"
      ],
      "metadata": {
        "id": "qxuJ-aljRcRI"
      }
    },
    {
      "cell_type": "code",
      "source": [
        "from sklearn.metrics import confusion_matrix"
      ],
      "metadata": {
        "id": "yust3ctOReSH"
      },
      "execution_count": null,
      "outputs": []
    },
    {
      "cell_type": "code",
      "source": [
        "#matriz de confusão para knn\n",
        "print(confusion_matrix(y_teste,predict_knn))\n",
        "#Retorna a matriz de confusão com a quantidade de valores em cada caixinha\n",
        "#[[VN FP]\n",
        "# [FN VP]]"
      ],
      "metadata": {
        "colab": {
          "base_uri": "https://localhost:8080/"
        },
        "id": "rNnvfW5YRkwh",
        "outputId": "ea081702-31de-460f-b4ac-b735e1376291"
      },
      "execution_count": null,
      "outputs": [
        {
          "output_type": "stream",
          "name": "stdout",
          "text": [
            "[[1233  320]\n",
            " [ 239 1313]]\n"
          ]
        }
      ]
    },
    {
      "cell_type": "code",
      "source": [
        "#matriz de confusão para knn\n",
        "print(confusion_matrix(y_teste,predict_bnb))\n",
        "#[[VN FP]\n",
        "# [FN VP]]"
      ],
      "metadata": {
        "colab": {
          "base_uri": "https://localhost:8080/"
        },
        "id": "_aB_sOtvTAUQ",
        "outputId": "8b342c86-1cff-45e2-94e2-4e71d5dc1bf6"
      },
      "execution_count": null,
      "outputs": [
        {
          "output_type": "stream",
          "name": "stdout",
          "text": [
            "[[1046  507]\n",
            " [ 247 1305]]\n"
          ]
        }
      ]
    },
    {
      "cell_type": "code",
      "source": [
        "#matriz de confusão para knn  \n",
        "print(confusion_matrix(y_teste, predict_arvore))\n",
        "#[[VN FP]\n",
        "# [FN VP]]"
      ],
      "metadata": {
        "colab": {
          "base_uri": "https://localhost:8080/"
        },
        "id": "htkNFllUTabf",
        "outputId": "d639ce0e-46b7-4e3f-874a-5adfb26437d7"
      },
      "execution_count": null,
      "outputs": [
        {
          "output_type": "stream",
          "name": "stdout",
          "text": [
            "[[1252  301]\n",
            " [ 319 1233]]\n"
          ]
        }
      ]
    },
    {
      "cell_type": "markdown",
      "source": [
        "### gerando matriz de confusão graficamente\n"
      ],
      "metadata": {
        "id": "XjfQNvEOXs3z"
      }
    },
    {
      "cell_type": "code",
      "source": [
        "import seaborn as sns\n",
        "import matplotlib.pyplot as plt\n",
        "import numpy as np\n",
        "\n",
        "def gerando_matriz_binaria(\n",
        "    matriz_confusao, \n",
        "    labels =  ['Verdadeiro Negativo','Falso Positivo',\n",
        "                'Falso Negativo','Verdadeiro Positivo'], \n",
        "    categorias = ['0','1'], \n",
        "    cmap='viridis'\n",
        "    ):\n",
        "  \n",
        "  #Abaixo formato o que está escrito em cada quadradinho do grafico na forma:\n",
        "  #\"nome_quadradinho\"\\n\"valor_numerico_quantidade\"\n",
        "  matriz_1D = matriz_confusao.flatten() #Transforma a matriz 2D em 1D\n",
        "  label_formatado = [f\"{v1}\\n{v2}\" for v1, v2 in zip(labels, matriz_1D)]#zip pega cada elemento de labels e matriz_1D e coloca em tuplas\n",
        "  label_formatado = np.asanyarray(label_formatado).reshape(matriz_confusao.shape)#Transformo label_formatado em um array numpy depois coloco em 2D\n",
        "\n",
        "  ax = plt.subplot() #Crio espaço para o grafico com matplotlib\n",
        "  sns.set(font_scale = 1.1) #Seto tamanho da fonte do grafico \n",
        "  sns.heatmap(\n",
        "      matriz_confusao, #dados em 2D\n",
        "      annot = label_formatado, #passo o que está escrito em cada quadradinho em 2D\n",
        "      cmap = cmap, #cores\n",
        "      fmt = '',\n",
        "      xticklabels=categorias, #Textos no eixo X \n",
        "      yticklabels=categorias, #Textos no eixo Y\n",
        "      ax=ax #Espaço do grafico\n",
        "  )\n",
        "\n",
        "  #Colocando titulos no eixos X e Y com matplotlib\n",
        "  label_font = {'size':'12'}\n",
        "  ax.set_xlabel('Valores preditos')\n",
        "  ax.set_ylabel('Valores verdadeiros')"
      ],
      "metadata": {
        "id": "xEG0VcrlXvrj"
      },
      "execution_count": null,
      "outputs": []
    },
    {
      "cell_type": "code",
      "source": [
        "categorias = [\"nao\", \"sim\"]\n",
        "\n",
        "labels = ['Verdadeiro Negativo','Falso Positivo',\n",
        "          'Falso Negativo','Verdadeiro Positivo']\n",
        "\n",
        "gerando_matriz_binaria(confusion_matrix(y_teste,predict_bnb), labels, categorias, cmap=\"magma_r\")"
      ],
      "metadata": {
        "colab": {
          "base_uri": "https://localhost:8080/"
        },
        "id": "9nJe9ndkbr0w",
        "outputId": "5ef2e7ad-d942-4672-88d7-97d30bece851"
      },
      "execution_count": null,
      "outputs": [
        {
          "output_type": "display_data",
          "data": {
            "text/plain": [
              "<Figure size 432x288 with 2 Axes>"
            ],
            "image/png": "[encoded data removed]"
          },
          "metadata": {
            "needs_background": "light"
          }
        }
      ]
    },
    {
      "cell_type": "markdown",
      "source": [
        "## Acurácia"
      ],
      "metadata": {
        "id": "eSkwxZeWWF1C"
      }
    },
    {
      "cell_type": "markdown",
      "source": [
        "calculo da acurácia pela matriz de confusão\n",
        "$ACC$ = ${TP + TN \\over TP + FP + TN + FN}$"
      ],
      "metadata": {
        "id": "2CIAZ_CoWJa5"
      }
    },
    {
      "cell_type": "code",
      "source": [
        "from sklearn.metrics import accuracy_score"
      ],
      "metadata": {
        "id": "bgLlmD6Ksm50"
      },
      "execution_count": null,
      "outputs": []
    },
    {
      "cell_type": "code",
      "source": [
        "#Modelo KNN\n",
        "print(\"%.2lf%%\" % (accuracy_score(y_teste, predict_knn)*100) )"
      ],
      "metadata": {
        "colab": {
          "base_uri": "https://localhost:8080/"
        },
        "id": "5oKPU8BwxspR",
        "outputId": "21c6a6af-615d-4b8f-849b-0dce3fe123bb"
      },
      "execution_count": null,
      "outputs": [
        {
          "output_type": "stream",
          "name": "stdout",
          "text": [
            "82.00%\n"
          ]
        }
      ]
    },
    {
      "cell_type": "code",
      "source": [
        "#Modelo BNB\n",
        "print(\"%.2lf%%\" % (accuracy_score(y_teste, predict_bnb)*100))"
      ],
      "metadata": {
        "colab": {
          "base_uri": "https://localhost:8080/"
        },
        "id": "5wLtltjNyZ9j",
        "outputId": "87173b83-1617-4bbe-a1f2-6e875340eff1"
      },
      "execution_count": null,
      "outputs": [
        {
          "output_type": "stream",
          "name": "stdout",
          "text": [
            "75.72%\n"
          ]
        }
      ]
    },
    {
      "cell_type": "code",
      "source": [
        "#Arvore\n",
        "print(\"%.2lf%%\" % (accuracy_score(y_teste, predict_arvore)*100))"
      ],
      "metadata": {
        "colab": {
          "base_uri": "https://localhost:8080/"
        },
        "id": "JHi2SXLuyjuf",
        "outputId": "582278b9-f311-4c5f-ad56-ca248b60ba06"
      },
      "execution_count": null,
      "outputs": [
        {
          "output_type": "stream",
          "name": "stdout",
          "text": [
            "80.03%\n"
          ]
        }
      ]
    },
    {
      "cell_type": "markdown",
      "source": [
        "## Precisão\n",
        "Calcula quantos verdadeiros positivos foram calculados de forma correta:\n",
        "\n",
        "$$PS = {TP \\over TP+FP}$$"
      ],
      "metadata": {
        "id": "Rocc9Uary_ds"
      }
    },
    {
      "cell_type": "code",
      "source": [
        "from sklearn.metrics import precision_score"
      ],
      "metadata": {
        "id": "YPPtAl6pzrgV"
      },
      "execution_count": null,
      "outputs": []
    },
    {
      "cell_type": "code",
      "source": [
        "#Modelo KNN\n",
        "print(\"%.2lf%%\" % (precision_score(y_teste, predict_knn)*100) )"
      ],
      "metadata": {
        "colab": {
          "base_uri": "https://localhost:8080/"
        },
        "id": "CE2-nLRIz21P",
        "outputId": "6f843312-3651-4c9a-c904-194167ce17c0"
      },
      "execution_count": null,
      "outputs": [
        {
          "output_type": "stream",
          "name": "stdout",
          "text": [
            "80.40%\n"
          ]
        }
      ]
    },
    {
      "cell_type": "code",
      "source": [
        "#Modelo BNB\n",
        "print(\"%.2lf%%\" % (precision_score(y_teste, predict_bnb)*100))"
      ],
      "metadata": {
        "colab": {
          "base_uri": "https://localhost:8080/"
        },
        "id": "2gpeAcg4z8-V",
        "outputId": "ddfebea1-159b-4272-e0ed-7c498c5c757e"
      },
      "execution_count": null,
      "outputs": [
        {
          "output_type": "stream",
          "name": "stdout",
          "text": [
            "72.02%\n"
          ]
        }
      ]
    },
    {
      "cell_type": "code",
      "source": [
        "#Arvore\n",
        "print(\"%.2lf%%\" % (precision_score(y_teste, predict_arvore)*100))"
      ],
      "metadata": {
        "colab": {
          "base_uri": "https://localhost:8080/"
        },
        "id": "b8kyQlgS0Ao5",
        "outputId": "9721d6c7-9bcd-49de-a89e-7385cb59893f"
      },
      "execution_count": null,
      "outputs": [
        {
          "output_type": "stream",
          "name": "stdout",
          "text": [
            "80.38%\n"
          ]
        }
      ]
    },
    {
      "cell_type": "markdown",
      "source": [
        "## Recall\n",
        "\n",
        "Recall, revocação ou sensibilidade calcula o quão bom o modelo está para classificar corretamente um resultado **verdadeiro** positivo (TP)\n",
        "\n",
        "$$ RC = {TP \\over TP +FN}$$"
      ],
      "metadata": {
        "id": "9kFHWvoz0I_Y"
      }
    },
    {
      "cell_type": "code",
      "source": [
        "from sklearn.metrics import recall_score"
      ],
      "metadata": {
        "id": "C8cP7VU30Ure"
      },
      "execution_count": null,
      "outputs": []
    },
    {
      "cell_type": "code",
      "source": [
        "#Modelo KNN\n",
        "print(\"%.2lf%%\" % (recall_score(y_teste, predict_knn)*100) )"
      ],
      "metadata": {
        "colab": {
          "base_uri": "https://localhost:8080/"
        },
        "id": "A9ZMLYY63jrA",
        "outputId": "ca63b4a1-c5c1-4eaf-a15c-ecc2d9603715"
      },
      "execution_count": null,
      "outputs": [
        {
          "output_type": "stream",
          "name": "stdout",
          "text": [
            "84.60%\n"
          ]
        }
      ]
    },
    {
      "cell_type": "code",
      "source": [
        "#Modelo BNB\n",
        "print(\"%.2lf%%\" % (recall_score(y_teste, predict_bnb)*100))"
      ],
      "metadata": {
        "colab": {
          "base_uri": "https://localhost:8080/"
        },
        "id": "UV-WAGO93pIF",
        "outputId": "1fada6e3-fc77-42c9-84e6-a11a0a5a523d"
      },
      "execution_count": null,
      "outputs": [
        {
          "output_type": "stream",
          "name": "stdout",
          "text": [
            "84.09%\n"
          ]
        }
      ]
    },
    {
      "cell_type": "code",
      "source": [
        "#Arvore\n",
        "print(\"%.2lf%%\" % (recall_score(y_teste, predict_arvore)*100))"
      ],
      "metadata": {
        "colab": {
          "base_uri": "https://localhost:8080/"
        },
        "id": "lo7NXSBw3ufz",
        "outputId": "8cb81176-0e12-4d3d-beec-656c33d75098"
      },
      "execution_count": null,
      "outputs": [
        {
          "output_type": "stream",
          "name": "stdout",
          "text": [
            "79.45%\n"
          ]
        }
      ]
    }
  ]
}