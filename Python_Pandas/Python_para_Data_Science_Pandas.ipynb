{
 "cells": [
  {
   "cell_type": "markdown",
   "metadata": {
    "id": "W4bTJkJED0-t"
   },
   "source": [
    "# <font color=green> PYTHON PARA DATA SCIENCE - PANDAS\n",
    "---"
   ]
  },
  {
   "cell_type": "markdown",
   "metadata": {
    "id": "GOEcCc62D0-x"
   },
   "source": [
    "# <font color=green> 1. INTRODUÇÃO AO PYTHON\n",
    "---"
   ]
  },
  {
   "cell_type": "markdown",
   "metadata": {
    "id": "oGvoOJ-XD0-y"
   },
   "source": [
    "# 1.1 Introdução"
   ]
  },
  {
   "cell_type": "markdown",
   "metadata": {
    "id": "fam3BM0aD0-z"
   },
   "source": [
    "> Python é uma linguagem de programação de alto nível com suporte a múltiplos paradigmas de programação. É um projeto *open source* e desde seu surgimento, em 1991, vem se tornando uma das linguagens de programação interpretadas mais populares. \n",
    ">\n",
    "> Nos últimos anos Python desenvolveu uma comunidade ativa de processamento científico e análise de dados e vem se destacando como uma das linguagens mais relevantes quando o assundo é ciência de dados e machine learning, tanto no ambiente acadêmico como também no mercado."
   ]
  },
  {
   "cell_type": "markdown",
   "metadata": {
    "id": "6kH5DY-vD0-1"
   },
   "source": [
    "# 1.2 Instalação e ambiente de desenvolvimento"
   ]
  },
  {
   "cell_type": "markdown",
   "metadata": {
    "id": "BTpm79I2D0-2"
   },
   "source": [
    "### Instalação Local\n",
    "\n",
    "### https://www.python.org/downloads/\n",
    "### ou\n",
    "### https://www.anaconda.com/distribution/"
   ]
  },
  {
   "cell_type": "markdown",
   "metadata": {
    "id": "AuPS_XwRD0-3"
   },
   "source": [
    "### Google Colaboratory\n",
    "\n",
    "### https://colab.research.google.com"
   ]
  },
  {
   "cell_type": "markdown",
   "metadata": {
    "id": "4rUYsPrXD0-4"
   },
   "source": [
    "### Verificando versão"
   ]
  },
  {
   "cell_type": "code",
   "execution_count": 1,
   "metadata": {
    "colab": {
     "base_uri": "https://localhost:8080/"
    },
    "id": "PgTCVRB2D0-5",
    "outputId": "c0c6bb98-132a-4f39-c972-86b824070601"
   },
   "outputs": [
    {
     "name": "stdout",
     "output_type": "stream",
     "text": [
      "Python 3.9.12\r\n"
     ]
    }
   ],
   "source": [
    "!python -V"
   ]
  },
  {
   "cell_type": "markdown",
   "metadata": {
    "id": "lTtI6so4D0-9"
   },
   "source": [
    "# 1.3 Trabalhando com dados"
   ]
  },
  {
   "cell_type": "code",
   "execution_count": 2,
   "metadata": {
    "id": "E_n4FUUWD0-9"
   },
   "outputs": [],
   "source": [
    "#importa o pandas e limita o numero de linhas vistas para 10\n",
    "import pandas as pd\n",
    "pd.set_option('display.max_rows', 10)"
   ]
  },
  {
   "cell_type": "code",
   "execution_count": 3,
   "metadata": {
    "id": "Kq-JdRHFD0-_"
   },
   "outputs": [],
   "source": [
    "#le o arquivo csv no meu github\n",
    "dataset = pd.read_csv('https://raw.githubusercontent.com/xxGabrielNeryxx/ProjetosDataScience/main/Python_Pandas/Data/db.csv', sep=';')"
   ]
  },
  {
   "cell_type": "code",
   "execution_count": 4,
   "metadata": {
    "colab": {
     "base_uri": "https://localhost:8080/",
     "height": 423
    },
    "id": "mOV1rCA6D0_A",
    "outputId": "7dbadeb6-fcec-4de8-e4ba-3a9bac55fa15",
    "scrolled": true
   },
   "outputs": [
    {
     "data": {
      "text/html": [
       "<div>\n",
       "<style scoped>\n",
       "    .dataframe tbody tr th:only-of-type {\n",
       "        vertical-align: middle;\n",
       "    }\n",
       "\n",
       "    .dataframe tbody tr th {\n",
       "        vertical-align: top;\n",
       "    }\n",
       "\n",
       "    .dataframe thead th {\n",
       "        text-align: right;\n",
       "    }\n",
       "</style>\n",
       "<table border=\"1\" class=\"dataframe\">\n",
       "  <thead>\n",
       "    <tr style=\"text-align: right;\">\n",
       "      <th></th>\n",
       "      <th>Nome</th>\n",
       "      <th>Motor</th>\n",
       "      <th>Ano</th>\n",
       "      <th>Quilometragem</th>\n",
       "      <th>Zero_km</th>\n",
       "      <th>Acessórios</th>\n",
       "      <th>Valor</th>\n",
       "    </tr>\n",
       "  </thead>\n",
       "  <tbody>\n",
       "    <tr>\n",
       "      <th>0</th>\n",
       "      <td>Jetta Variant</td>\n",
       "      <td>Motor 4.0 Turbo</td>\n",
       "      <td>2003</td>\n",
       "      <td>44410.0</td>\n",
       "      <td>False</td>\n",
       "      <td>['Rodas de liga', 'Travas elétricas', 'Piloto ...</td>\n",
       "      <td>88078.64</td>\n",
       "    </tr>\n",
       "    <tr>\n",
       "      <th>1</th>\n",
       "      <td>Passat</td>\n",
       "      <td>Motor Diesel</td>\n",
       "      <td>1991</td>\n",
       "      <td>5712.0</td>\n",
       "      <td>False</td>\n",
       "      <td>['Central multimídia', 'Teto panorâmico', 'Fre...</td>\n",
       "      <td>106161.94</td>\n",
       "    </tr>\n",
       "    <tr>\n",
       "      <th>2</th>\n",
       "      <td>Crossfox</td>\n",
       "      <td>Motor Diesel V8</td>\n",
       "      <td>1990</td>\n",
       "      <td>37123.0</td>\n",
       "      <td>False</td>\n",
       "      <td>['Piloto automático', 'Controle de estabilidad...</td>\n",
       "      <td>72832.16</td>\n",
       "    </tr>\n",
       "    <tr>\n",
       "      <th>3</th>\n",
       "      <td>DS5</td>\n",
       "      <td>Motor 2.4 Turbo</td>\n",
       "      <td>2019</td>\n",
       "      <td>NaN</td>\n",
       "      <td>True</td>\n",
       "      <td>['Travas elétricas', '4 X 4', 'Vidros elétrico...</td>\n",
       "      <td>124549.07</td>\n",
       "    </tr>\n",
       "    <tr>\n",
       "      <th>4</th>\n",
       "      <td>Aston Martin DB4</td>\n",
       "      <td>Motor 2.4 Turbo</td>\n",
       "      <td>2006</td>\n",
       "      <td>25757.0</td>\n",
       "      <td>False</td>\n",
       "      <td>['Rodas de liga', '4 X 4', 'Central multimídia...</td>\n",
       "      <td>92612.10</td>\n",
       "    </tr>\n",
       "    <tr>\n",
       "      <th>...</th>\n",
       "      <td>...</td>\n",
       "      <td>...</td>\n",
       "      <td>...</td>\n",
       "      <td>...</td>\n",
       "      <td>...</td>\n",
       "      <td>...</td>\n",
       "      <td>...</td>\n",
       "    </tr>\n",
       "    <tr>\n",
       "      <th>253</th>\n",
       "      <td>Phantom 2013</td>\n",
       "      <td>Motor V8</td>\n",
       "      <td>2014</td>\n",
       "      <td>27505.0</td>\n",
       "      <td>False</td>\n",
       "      <td>['Controle de estabilidade', 'Piloto automátic...</td>\n",
       "      <td>51759.58</td>\n",
       "    </tr>\n",
       "    <tr>\n",
       "      <th>254</th>\n",
       "      <td>Cadillac Ciel concept</td>\n",
       "      <td>Motor V8</td>\n",
       "      <td>1991</td>\n",
       "      <td>29981.0</td>\n",
       "      <td>False</td>\n",
       "      <td>['Bancos de couro', 'Painel digital', 'Sensor ...</td>\n",
       "      <td>51667.06</td>\n",
       "    </tr>\n",
       "    <tr>\n",
       "      <th>255</th>\n",
       "      <td>Classe GLK</td>\n",
       "      <td>Motor 5.0 V8 Bi-Turbo</td>\n",
       "      <td>2002</td>\n",
       "      <td>52637.0</td>\n",
       "      <td>False</td>\n",
       "      <td>['Rodas de liga', 'Controle de tração', 'Câmbi...</td>\n",
       "      <td>68934.03</td>\n",
       "    </tr>\n",
       "    <tr>\n",
       "      <th>256</th>\n",
       "      <td>Aston Martin DB5</td>\n",
       "      <td>Motor Diesel</td>\n",
       "      <td>1996</td>\n",
       "      <td>7685.0</td>\n",
       "      <td>False</td>\n",
       "      <td>['Ar condicionado', '4 X 4', 'Câmbio automátic...</td>\n",
       "      <td>122110.90</td>\n",
       "    </tr>\n",
       "    <tr>\n",
       "      <th>257</th>\n",
       "      <td>Macan</td>\n",
       "      <td>Motor Diesel V6</td>\n",
       "      <td>1992</td>\n",
       "      <td>50188.0</td>\n",
       "      <td>False</td>\n",
       "      <td>['Central multimídia', 'Teto panorâmico', 'Vid...</td>\n",
       "      <td>90381.47</td>\n",
       "    </tr>\n",
       "  </tbody>\n",
       "</table>\n",
       "<p>258 rows × 7 columns</p>\n",
       "</div>"
      ],
      "text/plain": [
       "                      Nome                  Motor   Ano  Quilometragem  \\\n",
       "0            Jetta Variant        Motor 4.0 Turbo  2003        44410.0   \n",
       "1                   Passat           Motor Diesel  1991         5712.0   \n",
       "2                 Crossfox        Motor Diesel V8  1990        37123.0   \n",
       "3                      DS5        Motor 2.4 Turbo  2019            NaN   \n",
       "4         Aston Martin DB4        Motor 2.4 Turbo  2006        25757.0   \n",
       "..                     ...                    ...   ...            ...   \n",
       "253           Phantom 2013               Motor V8  2014        27505.0   \n",
       "254  Cadillac Ciel concept               Motor V8  1991        29981.0   \n",
       "255             Classe GLK  Motor 5.0 V8 Bi-Turbo  2002        52637.0   \n",
       "256       Aston Martin DB5           Motor Diesel  1996         7685.0   \n",
       "257                  Macan        Motor Diesel V6  1992        50188.0   \n",
       "\n",
       "     Zero_km                                         Acessórios      Valor  \n",
       "0      False  ['Rodas de liga', 'Travas elétricas', 'Piloto ...   88078.64  \n",
       "1      False  ['Central multimídia', 'Teto panorâmico', 'Fre...  106161.94  \n",
       "2      False  ['Piloto automático', 'Controle de estabilidad...   72832.16  \n",
       "3       True  ['Travas elétricas', '4 X 4', 'Vidros elétrico...  124549.07  \n",
       "4      False  ['Rodas de liga', '4 X 4', 'Central multimídia...   92612.10  \n",
       "..       ...                                                ...        ...  \n",
       "253    False  ['Controle de estabilidade', 'Piloto automátic...   51759.58  \n",
       "254    False  ['Bancos de couro', 'Painel digital', 'Sensor ...   51667.06  \n",
       "255    False  ['Rodas de liga', 'Controle de tração', 'Câmbi...   68934.03  \n",
       "256    False  ['Ar condicionado', '4 X 4', 'Câmbio automátic...  122110.90  \n",
       "257    False  ['Central multimídia', 'Teto panorâmico', 'Vid...   90381.47  \n",
       "\n",
       "[258 rows x 7 columns]"
      ]
     },
     "execution_count": 4,
     "metadata": {},
     "output_type": "execute_result"
    }
   ],
   "source": [
    "dataset"
   ]
  },
  {
   "cell_type": "code",
   "execution_count": 5,
   "metadata": {
    "colab": {
     "base_uri": "https://localhost:8080/"
    },
    "id": "5D739PzJD0_B",
    "outputId": "7512f373-b9ac-4982-d9df-7c2c752af5d9"
   },
   "outputs": [
    {
     "data": {
      "text/plain": [
       "Nome              object\n",
       "Motor             object\n",
       "Ano                int64\n",
       "Quilometragem    float64\n",
       "Zero_km             bool\n",
       "Acessórios        object\n",
       "Valor            float64\n",
       "dtype: object"
      ]
     },
     "execution_count": 5,
     "metadata": {},
     "output_type": "execute_result"
    }
   ],
   "source": [
    "#tipos de cada coluna do dataframe\n",
    "dataset.dtypes"
   ]
  },
  {
   "cell_type": "code",
   "execution_count": 6,
   "metadata": {
    "colab": {
     "base_uri": "https://localhost:8080/",
     "height": 300
    },
    "id": "r_qUf16LD0_D",
    "outputId": "2cdb319a-8aa0-4446-e000-aed6ae9e2c4f"
   },
   "outputs": [
    {
     "data": {
      "text/html": [
       "<div>\n",
       "<style scoped>\n",
       "    .dataframe tbody tr th:only-of-type {\n",
       "        vertical-align: middle;\n",
       "    }\n",
       "\n",
       "    .dataframe tbody tr th {\n",
       "        vertical-align: top;\n",
       "    }\n",
       "\n",
       "    .dataframe thead th {\n",
       "        text-align: right;\n",
       "    }\n",
       "</style>\n",
       "<table border=\"1\" class=\"dataframe\">\n",
       "  <thead>\n",
       "    <tr style=\"text-align: right;\">\n",
       "      <th></th>\n",
       "      <th>Quilometragem</th>\n",
       "      <th>Valor</th>\n",
       "    </tr>\n",
       "  </thead>\n",
       "  <tbody>\n",
       "    <tr>\n",
       "      <th>count</th>\n",
       "      <td>197.000000</td>\n",
       "      <td>258.000000</td>\n",
       "    </tr>\n",
       "    <tr>\n",
       "      <th>mean</th>\n",
       "      <td>58278.421320</td>\n",
       "      <td>98960.513101</td>\n",
       "    </tr>\n",
       "    <tr>\n",
       "      <th>std</th>\n",
       "      <td>35836.733259</td>\n",
       "      <td>29811.932305</td>\n",
       "    </tr>\n",
       "    <tr>\n",
       "      <th>min</th>\n",
       "      <td>107.000000</td>\n",
       "      <td>50742.100000</td>\n",
       "    </tr>\n",
       "    <tr>\n",
       "      <th>25%</th>\n",
       "      <td>27505.000000</td>\n",
       "      <td>70743.512500</td>\n",
       "    </tr>\n",
       "    <tr>\n",
       "      <th>50%</th>\n",
       "      <td>55083.000000</td>\n",
       "      <td>97724.380000</td>\n",
       "    </tr>\n",
       "    <tr>\n",
       "      <th>75%</th>\n",
       "      <td>90495.000000</td>\n",
       "      <td>124633.302500</td>\n",
       "    </tr>\n",
       "    <tr>\n",
       "      <th>max</th>\n",
       "      <td>119945.000000</td>\n",
       "      <td>149489.920000</td>\n",
       "    </tr>\n",
       "  </tbody>\n",
       "</table>\n",
       "</div>"
      ],
      "text/plain": [
       "       Quilometragem          Valor\n",
       "count     197.000000     258.000000\n",
       "mean    58278.421320   98960.513101\n",
       "std     35836.733259   29811.932305\n",
       "min       107.000000   50742.100000\n",
       "25%     27505.000000   70743.512500\n",
       "50%     55083.000000   97724.380000\n",
       "75%     90495.000000  124633.302500\n",
       "max    119945.000000  149489.920000"
      ]
     },
     "execution_count": 6,
     "metadata": {},
     "output_type": "execute_result"
    }
   ],
   "source": [
    "#para selecionar mais de uma coluna: dataset[['coluna1','coluna2']]\n",
    "#describe retorna estatisticas de das colunas\n",
    "dataset[['Quilometragem','Valor']].describe()"
   ]
  },
  {
   "cell_type": "code",
   "execution_count": 7,
   "metadata": {
    "colab": {
     "base_uri": "https://localhost:8080/"
    },
    "id": "0R-_7PH5D0_E",
    "outputId": "6364a951-ea68-4695-d1a5-3a6002e42a3c"
   },
   "outputs": [
    {
     "name": "stdout",
     "output_type": "stream",
     "text": [
      "<class 'pandas.core.frame.DataFrame'>\n",
      "RangeIndex: 258 entries, 0 to 257\n",
      "Data columns (total 7 columns):\n",
      " #   Column         Non-Null Count  Dtype  \n",
      "---  ------         --------------  -----  \n",
      " 0   Nome           258 non-null    object \n",
      " 1   Motor          258 non-null    object \n",
      " 2   Ano            258 non-null    int64  \n",
      " 3   Quilometragem  197 non-null    float64\n",
      " 4   Zero_km        258 non-null    bool   \n",
      " 5   Acessórios     258 non-null    object \n",
      " 6   Valor          258 non-null    float64\n",
      "dtypes: bool(1), float64(2), int64(1), object(3)\n",
      "memory usage: 12.5+ KB\n"
     ]
    }
   ],
   "source": [
    "#retorna informaçoes do dataset\n",
    "dataset.info()"
   ]
  },
  {
   "cell_type": "markdown",
   "metadata": {
    "id": "htjoBLwiD0_F"
   },
   "source": [
    "# <font color=green> 2. TRABALHANDO COM TUPLAS\n",
    "---"
   ]
  },
  {
   "cell_type": "markdown",
   "metadata": {
    "id": "MZH5_QnYD0_G"
   },
   "source": [
    "# 2.1 Criando tuplas\n",
    "\n",
    "Tuplas são sequências imutáveis que são utilizadas para armazenar coleções de itens, geralmente heterogêneos. Podem ser construídas de várias formas:\n",
    "```\n",
    "- Utilizando um par de parênteses: ( )\n",
    "- Utilizando uma vírgula à direita: x,\n",
    "- Utilizando um par de parênteses com itens separados por vírgulas: ( x, y, z )\n",
    "- Utilizando: tuple() ou tuple(iterador)\n",
    "```"
   ]
  },
  {
   "cell_type": "code",
   "execution_count": 8,
   "metadata": {
    "colab": {
     "base_uri": "https://localhost:8080/"
    },
    "id": "xzcs9fzeD0_G",
    "outputId": "12030d32-b841-49d9-ef59-1b3054777da2"
   },
   "outputs": [
    {
     "data": {
      "text/plain": [
       "()"
      ]
     },
     "execution_count": 8,
     "metadata": {},
     "output_type": "execute_result"
    }
   ],
   "source": [
    " ()"
   ]
  },
  {
   "cell_type": "code",
   "execution_count": 9,
   "metadata": {
    "colab": {
     "base_uri": "https://localhost:8080/"
    },
    "id": "qJq7a2qTD0_I",
    "outputId": "e051d0c3-f30c-4198-fe77-3cdff3ecbdc0"
   },
   "outputs": [
    {
     "data": {
      "text/plain": [
       "(1, 2, 3)"
      ]
     },
     "execution_count": 9,
     "metadata": {},
     "output_type": "execute_result"
    }
   ],
   "source": [
    "1,2,3"
   ]
  },
  {
   "cell_type": "code",
   "execution_count": 10,
   "metadata": {
    "colab": {
     "base_uri": "https://localhost:8080/"
    },
    "id": "sg7LdvptD0_J",
    "outputId": "acef27c6-b008-4139-a39c-ab7e8b1ab948"
   },
   "outputs": [
    {
     "data": {
      "text/plain": [
       "('Passat', 153000)"
      ]
     },
     "execution_count": 10,
     "metadata": {},
     "output_type": "execute_result"
    }
   ],
   "source": [
    "#tuplas e listas armazenam tipos variados \n",
    "nome = 'Passat'\n",
    "valor = 153000\n",
    "(nome, valor)"
   ]
  },
  {
   "cell_type": "code",
   "execution_count": 11,
   "metadata": {
    "colab": {
     "base_uri": "https://localhost:8080/"
    },
    "id": "XSSMebXjD0_K",
    "outputId": "04beee08-1299-48f1-8aa7-1b8b63fb9388"
   },
   "outputs": [
    {
     "data": {
      "text/plain": [
       "('Jetta Variant', 'Passat', 'Crossfox', 'DS5')"
      ]
     },
     "execution_count": 11,
     "metadata": {},
     "output_type": "execute_result"
    }
   ],
   "source": [
    "nome_carros = tuple(['Jetta Variant', 'Passat', 'Crossfox', 'DS5'])\n",
    "nome_carros"
   ]
  },
  {
   "cell_type": "code",
   "execution_count": 12,
   "metadata": {
    "colab": {
     "base_uri": "https://localhost:8080/"
    },
    "id": "dpkdzrzRD0_M",
    "outputId": "3f435700-f723-4137-fc42-99954a6c2b35"
   },
   "outputs": [
    {
     "data": {
      "text/plain": [
       "tuple"
      ]
     },
     "execution_count": 12,
     "metadata": {},
     "output_type": "execute_result"
    }
   ],
   "source": [
    "type(nome_carros)"
   ]
  },
  {
   "cell_type": "markdown",
   "metadata": {
    "id": "iKUY2DOUD0_N"
   },
   "source": [
    "# 2.2 Seleções em tuplas"
   ]
  },
  {
   "cell_type": "code",
   "execution_count": 13,
   "metadata": {
    "colab": {
     "base_uri": "https://localhost:8080/"
    },
    "id": "hBEeAM7_D0_N",
    "outputId": "7b819ee5-bc8d-46e6-f0f3-710ace290e79"
   },
   "outputs": [
    {
     "data": {
      "text/plain": [
       "('Jetta Variant', 'Passat', 'Crossfox', 'DS5')"
      ]
     },
     "execution_count": 13,
     "metadata": {},
     "output_type": "execute_result"
    }
   ],
   "source": [
    "nomes_carros = ('Jetta Variant', 'Passat', 'Crossfox', 'DS5')\n",
    "nomes_carros"
   ]
  },
  {
   "cell_type": "code",
   "execution_count": 14,
   "metadata": {
    "colab": {
     "base_uri": "https://localhost:8080/",
     "height": 36
    },
    "id": "-mx_1E_tD0_P",
    "outputId": "e7311b69-9443-4ba3-be9a-d59c4b67784f"
   },
   "outputs": [
    {
     "data": {
      "text/plain": [
       "'Jetta Variant'"
      ]
     },
     "execution_count": 14,
     "metadata": {},
     "output_type": "execute_result"
    }
   ],
   "source": [
    "nomes_carros[0]"
   ]
  },
  {
   "cell_type": "code",
   "execution_count": 15,
   "metadata": {
    "colab": {
     "base_uri": "https://localhost:8080/",
     "height": 36
    },
    "id": "LMhyqnFID0_Q",
    "outputId": "9fa42f7d-319f-4d09-f661-430e4256cb72"
   },
   "outputs": [
    {
     "data": {
      "text/plain": [
       "'Passat'"
      ]
     },
     "execution_count": 15,
     "metadata": {},
     "output_type": "execute_result"
    }
   ],
   "source": [
    "nomes_carros[1]"
   ]
  },
  {
   "cell_type": "code",
   "execution_count": 16,
   "metadata": {
    "colab": {
     "base_uri": "https://localhost:8080/",
     "height": 36
    },
    "id": "6btHff4BD0_T",
    "outputId": "3cbcc1ea-bf95-40b9-9c04-c9497fe28658"
   },
   "outputs": [
    {
     "data": {
      "text/plain": [
       "'DS5'"
      ]
     },
     "execution_count": 16,
     "metadata": {},
     "output_type": "execute_result"
    }
   ],
   "source": [
    "nomes_carros[-1]"
   ]
  },
  {
   "cell_type": "code",
   "execution_count": 17,
   "metadata": {
    "colab": {
     "base_uri": "https://localhost:8080/"
    },
    "id": "K_Dc12xBD0_U",
    "outputId": "c9ce4a19-0ecc-48c5-dfc5-3a30221c9ccb"
   },
   "outputs": [
    {
     "data": {
      "text/plain": [
       "('Passat', 'Crossfox')"
      ]
     },
     "execution_count": 17,
     "metadata": {},
     "output_type": "execute_result"
    }
   ],
   "source": [
    "nomes_carros[1:3]"
   ]
  },
  {
   "cell_type": "code",
   "execution_count": 18,
   "metadata": {
    "colab": {
     "base_uri": "https://localhost:8080/"
    },
    "id": "zvrWYkkeD0_W",
    "outputId": "3eb1073d-cf25-4fd4-d9c1-8d67bf07b202"
   },
   "outputs": [
    {
     "data": {
      "text/plain": [
       "('Jetta Variant', 'Passat', 'Crossfox', 'DS5', ('Fusca', 'Gol', 'C4'))"
      ]
     },
     "execution_count": 18,
     "metadata": {},
     "output_type": "execute_result"
    }
   ],
   "source": [
    "nomes_carros = ('Jetta Variant', 'Passat', 'Crossfox', 'DS5', ('Fusca', 'Gol', 'C4'))\n",
    "nomes_carros"
   ]
  },
  {
   "cell_type": "code",
   "execution_count": 19,
   "metadata": {
    "colab": {
     "base_uri": "https://localhost:8080/"
    },
    "id": "Dw7tbM2ED0_Z",
    "outputId": "dd72a858-8d9a-4076-a704-75e99da1a7d8"
   },
   "outputs": [
    {
     "data": {
      "text/plain": [
       "('Fusca', 'Gol', 'C4')"
      ]
     },
     "execution_count": 19,
     "metadata": {},
     "output_type": "execute_result"
    }
   ],
   "source": [
    "nomes_carros[-1]"
   ]
  },
  {
   "cell_type": "code",
   "execution_count": 20,
   "metadata": {
    "colab": {
     "base_uri": "https://localhost:8080/",
     "height": 36
    },
    "id": "SAMD3BtXD0_b",
    "outputId": "449410ea-a30a-4847-cd6f-616baf6ed698"
   },
   "outputs": [
    {
     "data": {
      "text/plain": [
       "'Gol'"
      ]
     },
     "execution_count": 20,
     "metadata": {},
     "output_type": "execute_result"
    }
   ],
   "source": [
    "nomes_carros[-1][1]"
   ]
  },
  {
   "cell_type": "markdown",
   "metadata": {
    "id": "KLMxh4-0D0_c"
   },
   "source": [
    "# 2.3 Iterando em tuplas"
   ]
  },
  {
   "cell_type": "code",
   "execution_count": 21,
   "metadata": {
    "colab": {
     "base_uri": "https://localhost:8080/"
    },
    "id": "K53elKsYD0_c",
    "outputId": "e45c8fb3-9690-418e-b1bb-d26b6b03b86c"
   },
   "outputs": [
    {
     "data": {
      "text/plain": [
       "('Jetta Variant', 'Passat', 'Crossfox', 'DS5')"
      ]
     },
     "execution_count": 21,
     "metadata": {},
     "output_type": "execute_result"
    }
   ],
   "source": [
    "nomes_carros = ('Jetta Variant', 'Passat', 'Crossfox', 'DS5')\n",
    "nomes_carros"
   ]
  },
  {
   "cell_type": "code",
   "execution_count": 22,
   "metadata": {
    "colab": {
     "base_uri": "https://localhost:8080/"
    },
    "id": "igZhZ5zdD0_d",
    "outputId": "f90f6e0f-1540-403a-c072-15af7c16d37b"
   },
   "outputs": [
    {
     "name": "stdout",
     "output_type": "stream",
     "text": [
      "Jetta Variant\n",
      "Passat\n",
      "Crossfox\n",
      "DS5\n"
     ]
    }
   ],
   "source": [
    "for item in nomes_carros:\n",
    "  print(item)"
   ]
  },
  {
   "cell_type": "markdown",
   "metadata": {
    "id": "AOBjxBk8D0_f"
   },
   "source": [
    "### Desempacotamento de tuplas"
   ]
  },
  {
   "cell_type": "code",
   "execution_count": 23,
   "metadata": {
    "id": "UoEFnumhD0_f"
   },
   "outputs": [],
   "source": [
    "#desempacotar uma tupla é atribuir cada valor a uma variavel especifica\n",
    "#se eu nao atribuir todos os valores da tupla a uma variavel da erro\n",
    "carro_1, carro_2, carro_3, carro_4 = nomes_carros"
   ]
  },
  {
   "cell_type": "code",
   "execution_count": 24,
   "metadata": {
    "colab": {
     "base_uri": "https://localhost:8080/",
     "height": 36
    },
    "id": "AaCLcNYTD0_g",
    "outputId": "219203cf-8982-48bf-92d8-9b7215629ab3"
   },
   "outputs": [
    {
     "data": {
      "text/plain": [
       "'Jetta Variant'"
      ]
     },
     "execution_count": 24,
     "metadata": {},
     "output_type": "execute_result"
    }
   ],
   "source": [
    "carro_1"
   ]
  },
  {
   "cell_type": "code",
   "execution_count": 25,
   "metadata": {
    "colab": {
     "base_uri": "https://localhost:8080/",
     "height": 36
    },
    "id": "TA71S9egD0_h",
    "outputId": "eec03266-d622-4bd8-c44a-afbdf1b112b4"
   },
   "outputs": [
    {
     "data": {
      "text/plain": [
       "'Passat'"
      ]
     },
     "execution_count": 25,
     "metadata": {},
     "output_type": "execute_result"
    }
   ],
   "source": [
    "carro_2"
   ]
  },
  {
   "cell_type": "code",
   "execution_count": 26,
   "metadata": {
    "colab": {
     "base_uri": "https://localhost:8080/",
     "height": 36
    },
    "id": "CHoJ034MD0_i",
    "outputId": "f66709c0-02bf-4327-811b-34624691d995"
   },
   "outputs": [
    {
     "data": {
      "text/plain": [
       "'Crossfox'"
      ]
     },
     "execution_count": 26,
     "metadata": {},
     "output_type": "execute_result"
    }
   ],
   "source": [
    "carro_3"
   ]
  },
  {
   "cell_type": "code",
   "execution_count": 27,
   "metadata": {
    "colab": {
     "base_uri": "https://localhost:8080/",
     "height": 36
    },
    "id": "oxJrOuCSD0_j",
    "outputId": "accc2c6c-a959-4eac-ec53-e4bedc9e8413"
   },
   "outputs": [
    {
     "data": {
      "text/plain": [
       "'DS5'"
      ]
     },
     "execution_count": 27,
     "metadata": {},
     "output_type": "execute_result"
    }
   ],
   "source": [
    "carro_4"
   ]
  },
  {
   "cell_type": "code",
   "execution_count": 28,
   "metadata": {
    "id": "BbR9sB4BD0_k"
   },
   "outputs": [],
   "source": [
    "#usar underscore para ignorar valores\n",
    "_,A,_,B = nomes_carros"
   ]
  },
  {
   "cell_type": "code",
   "execution_count": 29,
   "metadata": {
    "colab": {
     "base_uri": "https://localhost:8080/",
     "height": 36
    },
    "id": "aZvokrjPD0_m",
    "outputId": "00cd67a9-9477-4d66-aa26-63089078faf4"
   },
   "outputs": [
    {
     "data": {
      "text/plain": [
       "'Passat'"
      ]
     },
     "execution_count": 29,
     "metadata": {},
     "output_type": "execute_result"
    }
   ],
   "source": [
    "A"
   ]
  },
  {
   "cell_type": "code",
   "execution_count": 30,
   "metadata": {
    "colab": {
     "base_uri": "https://localhost:8080/",
     "height": 36
    },
    "id": "wZXDbVg0D0_o",
    "outputId": "f5cbfa8b-1ed7-4f80-fb2f-3bef31d8e96e"
   },
   "outputs": [
    {
     "data": {
      "text/plain": [
       "'DS5'"
      ]
     },
     "execution_count": 30,
     "metadata": {},
     "output_type": "execute_result"
    }
   ],
   "source": [
    "B"
   ]
  },
  {
   "cell_type": "code",
   "execution_count": 31,
   "metadata": {
    "id": "aWgDMBXiD0_p"
   },
   "outputs": [],
   "source": [
    "#o *- ignora todos os elementos depois\n",
    "_,C,*_ = nomes_carros"
   ]
  },
  {
   "cell_type": "code",
   "execution_count": 32,
   "metadata": {
    "colab": {
     "base_uri": "https://localhost:8080/",
     "height": 36
    },
    "id": "OdpgNh-ND0_q",
    "outputId": "8cb6a427-3860-4215-c532-a575e8b6a500"
   },
   "outputs": [
    {
     "data": {
      "text/plain": [
       "'Passat'"
      ]
     },
     "execution_count": 32,
     "metadata": {},
     "output_type": "execute_result"
    }
   ],
   "source": [
    "C"
   ]
  },
  {
   "cell_type": "markdown",
   "metadata": {
    "id": "u85Aou8WD0_s"
   },
   "source": [
    "## *zip()*\n",
    "\n",
    "https://docs.python.org/3.6/library/functions.html#zip"
   ]
  },
  {
   "cell_type": "code",
   "execution_count": 33,
   "metadata": {
    "colab": {
     "base_uri": "https://localhost:8080/"
    },
    "id": "PaC2oXGED0_t",
    "outputId": "7e3c1c48-b9a5-4fcf-de31-8554322548d0"
   },
   "outputs": [
    {
     "data": {
      "text/plain": [
       "['Jetta Variant', 'Passat', 'Crossfox', 'DS5']"
      ]
     },
     "execution_count": 33,
     "metadata": {},
     "output_type": "execute_result"
    }
   ],
   "source": [
    "carros = ['Jetta Variant', 'Passat', 'Crossfox', 'DS5']\n",
    "carros"
   ]
  },
  {
   "cell_type": "code",
   "execution_count": 34,
   "metadata": {
    "colab": {
     "base_uri": "https://localhost:8080/"
    },
    "id": "_02O1VnHD0_u",
    "outputId": "f9555303-21e3-4a90-8200-4436a1b25fe4"
   },
   "outputs": [
    {
     "data": {
      "text/plain": [
       "[88078.64, 106161.94, 72832.16, 124549.07]"
      ]
     },
     "execution_count": 34,
     "metadata": {},
     "output_type": "execute_result"
    }
   ],
   "source": [
    "valores = [88078.64, 106161.94, 72832.16, 124549.07]\n",
    "valores"
   ]
  },
  {
   "cell_type": "code",
   "execution_count": 35,
   "metadata": {
    "colab": {
     "base_uri": "https://localhost:8080/"
    },
    "id": "roQK5nYRD0_v",
    "outputId": "8a08db8f-c58a-47c5-a1e0-288bb4c3f7cc"
   },
   "outputs": [
    {
     "data": {
      "text/plain": [
       "<zip at 0x7f2eca294840>"
      ]
     },
     "execution_count": 35,
     "metadata": {},
     "output_type": "execute_result"
    }
   ],
   "source": [
    "#pega o i-ezimo elemento de cada iterador e coloca em uma tupla\n",
    "zip(carros, valores)"
   ]
  },
  {
   "cell_type": "code",
   "execution_count": 36,
   "metadata": {
    "colab": {
     "base_uri": "https://localhost:8080/"
    },
    "id": "_WRxIRHrD0_w",
    "outputId": "3e294fa5-da96-4248-9427-5cc4cbc8cdd6"
   },
   "outputs": [
    {
     "data": {
      "text/plain": [
       "[('Jetta Variant', 88078.64),\n",
       " ('Passat', 106161.94),\n",
       " ('Crossfox', 72832.16),\n",
       " ('DS5', 124549.07)]"
      ]
     },
     "execution_count": 36,
     "metadata": {},
     "output_type": "execute_result"
    }
   ],
   "source": [
    "list(zip(carros, valores))"
   ]
  },
  {
   "cell_type": "code",
   "execution_count": 37,
   "metadata": {
    "colab": {
     "base_uri": "https://localhost:8080/"
    },
    "id": "2zIuhIILD0_x",
    "outputId": "4a3d71ed-5cbc-4a83-af3a-4480f7c2961e"
   },
   "outputs": [
    {
     "name": "stdout",
     "output_type": "stream",
     "text": [
      "Jetta Variant 88078.64\n",
      "Passat 106161.94\n",
      "Crossfox 72832.16\n",
      "DS5 124549.07\n"
     ]
    }
   ],
   "source": [
    "#MUITO UTIL\n",
    "for carro, valor in list(zip(carros, valores)):\n",
    "    print(carro, valor)"
   ]
  },
  {
   "cell_type": "code",
   "execution_count": 38,
   "metadata": {
    "colab": {
     "base_uri": "https://localhost:8080/"
    },
    "id": "ZJaL62IpD0_y",
    "outputId": "ace9ce84-0717-460c-fc19-2dc8782ce409"
   },
   "outputs": [
    {
     "name": "stdout",
     "output_type": "stream",
     "text": [
      "Passat\n",
      "DS5\n"
     ]
    }
   ],
   "source": [
    "for carro, valor in list(zip(carros, valores)):\n",
    "    if valor > 100000:\n",
    "      print(carro)"
   ]
  },
  {
   "cell_type": "markdown",
   "metadata": {
    "id": "xo76nR8rD0_0"
   },
   "source": [
    "# <font color=green> 3. TRABALHANDO COM DICIONÁRIOS\n",
    "---"
   ]
  },
  {
   "cell_type": "markdown",
   "metadata": {
    "id": "wfWzOuztD0_0"
   },
   "source": [
    "# 3.1 Criando dicionários\n",
    "\n",
    "Listas são coleções sequenciais, isto é, os itens destas sequências estão ordenados e utilizam índices (números inteiros) para acessar os valores.\n",
    "\n",
    "Os dicionários são coleções um pouco diferentes. São estruturas de dados que representam um tipo de mapeamento. Mapeamentos são coleções de associações entre pares de valores onde o primeiro elemento do par é conhecido como chave (*key*) e o segundo como valor (*value*).\n",
    "\n",
    "```\n",
    "dicionario = {key_1: value_1, key_2: value_2, ..., key_n: value_n}\n",
    "```\n",
    "\n",
    "https://docs.python.org/3.6/library/stdtypes.html#typesmapping"
   ]
  },
  {
   "cell_type": "code",
   "execution_count": 39,
   "metadata": {
    "colab": {
     "base_uri": "https://localhost:8080/"
    },
    "id": "YIFVkWT6D0_1",
    "outputId": "863b3dc7-e087-45a6-b70f-02a8c7cc8246"
   },
   "outputs": [
    {
     "data": {
      "text/plain": [
       "['Jetta Variant', 'Passat', 'Crossfox']"
      ]
     },
     "execution_count": 39,
     "metadata": {},
     "output_type": "execute_result"
    }
   ],
   "source": [
    "carros = ['Jetta Variant', 'Passat', 'Crossfox']\n",
    "carros"
   ]
  },
  {
   "cell_type": "code",
   "execution_count": 40,
   "metadata": {
    "colab": {
     "base_uri": "https://localhost:8080/"
    },
    "id": "2LHiBn3-D0_2",
    "outputId": "491b8bfb-90d8-4911-88e1-1db09ece2e2b"
   },
   "outputs": [
    {
     "data": {
      "text/plain": [
       "[88078.64, 106161.94, 72832.16]"
      ]
     },
     "execution_count": 40,
     "metadata": {},
     "output_type": "execute_result"
    }
   ],
   "source": [
    "valores = [88078.64, 106161.94, 72832.16]\n",
    "valores"
   ]
  },
  {
   "cell_type": "code",
   "execution_count": 41,
   "metadata": {
    "colab": {
     "base_uri": "https://localhost:8080/"
    },
    "id": "YxLAx_sqD0_4",
    "outputId": "16914580-679f-4088-f48d-c9bb24a37950"
   },
   "outputs": [
    {
     "data": {
      "text/plain": [
       "1"
      ]
     },
     "execution_count": 41,
     "metadata": {},
     "output_type": "execute_result"
    }
   ],
   "source": [
    "#Posso pesquisar a posiçao de um elemento em uma lista com index\n",
    "carros.index('Passat')"
   ]
  },
  {
   "cell_type": "code",
   "execution_count": 42,
   "metadata": {
    "colab": {
     "base_uri": "https://localhost:8080/"
    },
    "id": "WITNWExID0_7",
    "outputId": "4597aa1c-88e6-4d06-963f-5fcfc87c2745"
   },
   "outputs": [
    {
     "data": {
      "text/plain": [
       "106161.94"
      ]
     },
     "execution_count": 42,
     "metadata": {},
     "output_type": "execute_result"
    }
   ],
   "source": [
    "#jeito mais complexo que um dicionario\n",
    "valores[carros.index('Passat')]"
   ]
  },
  {
   "cell_type": "code",
   "execution_count": 43,
   "metadata": {
    "colab": {
     "base_uri": "https://localhost:8080/"
    },
    "id": "bHNqoDbTD0_8",
    "outputId": "63d2ceaf-189b-47ec-92e9-a138fb833abb"
   },
   "outputs": [
    {
     "data": {
      "text/plain": [
       "{'Jetta Variant': 88078.64, 'Passat': 106161.94, 'Crossfox': 72832.16}"
      ]
     },
     "execution_count": 43,
     "metadata": {},
     "output_type": "execute_result"
    }
   ],
   "source": [
    "dados = {'Jetta Variant': 88078.64, 'Passat': 106161.94, 'Crossfox': 72832.16}\n",
    "dados"
   ]
  },
  {
   "cell_type": "code",
   "execution_count": 44,
   "metadata": {
    "colab": {
     "base_uri": "https://localhost:8080/"
    },
    "id": "4FyQgmcAD0_9",
    "outputId": "68b98585-acc0-4006-9d29-b977cf5171d4"
   },
   "outputs": [
    {
     "data": {
      "text/plain": [
       "dict"
      ]
     },
     "execution_count": 44,
     "metadata": {},
     "output_type": "execute_result"
    }
   ],
   "source": [
    "type(dados)"
   ]
  },
  {
   "cell_type": "markdown",
   "metadata": {
    "id": "PQg-MLkGD0_-"
   },
   "source": [
    "### Criando dicionários com *zip()*"
   ]
  },
  {
   "cell_type": "code",
   "execution_count": 45,
   "metadata": {
    "colab": {
     "base_uri": "https://localhost:8080/"
    },
    "id": "iB4Q_gbND0__",
    "outputId": "d0a7af92-fca4-4ba1-af61-6a399573aee8"
   },
   "outputs": [
    {
     "name": "stdout",
     "output_type": "stream",
     "text": [
      "<zip object at 0x7f2eca2a21c0>\n",
      "[('Jetta Variant', 88078.64), ('Passat', 106161.94), ('Crossfox', 72832.16)]\n"
     ]
    }
   ],
   "source": [
    "#posso criar dicionarios a partir de listas com zip\n",
    "print(zip(carros, valores))\n",
    "print(list(zip(carros, valores)))"
   ]
  },
  {
   "cell_type": "code",
   "execution_count": 46,
   "metadata": {
    "colab": {
     "base_uri": "https://localhost:8080/"
    },
    "id": "mIgZqdKKD1AA",
    "outputId": "6216f13c-5e0d-4e8c-ec0c-1eb19f984e64"
   },
   "outputs": [
    {
     "data": {
      "text/plain": [
       "{'Jetta Variant': 88078.64, 'Passat': 106161.94, 'Crossfox': 72832.16}"
      ]
     },
     "execution_count": 46,
     "metadata": {},
     "output_type": "execute_result"
    }
   ],
   "source": [
    "dict(zip(carros, valores))"
   ]
  },
  {
   "cell_type": "markdown",
   "metadata": {
    "id": "KYeRqavFD1AD"
   },
   "source": [
    "# 3.2 Operações com dicionários"
   ]
  },
  {
   "cell_type": "markdown",
   "metadata": {
    "id": "KzmWbEltD1AD"
   },
   "source": [
    "## *dict[ key ]*\n",
    "\n",
    "Retorna o valor correspondente à chave (*key*) no dicionário."
   ]
  },
  {
   "cell_type": "code",
   "execution_count": 47,
   "metadata": {
    "colab": {
     "base_uri": "https://localhost:8080/"
    },
    "id": "hFFDz6wKD1AD",
    "outputId": "38b31add-173f-4b34-f690-8038124b0448"
   },
   "outputs": [
    {
     "data": {
      "text/plain": [
       "106161.94"
      ]
     },
     "execution_count": 47,
     "metadata": {},
     "output_type": "execute_result"
    }
   ],
   "source": [
    "dados['Passat'] "
   ]
  },
  {
   "cell_type": "markdown",
   "metadata": {
    "id": "SWlE6VTBD1AE"
   },
   "source": [
    "## *key in dict*\n",
    "\n",
    "Retorna **True** se a chave (*key*) for encontrada no dicionário."
   ]
  },
  {
   "cell_type": "code",
   "execution_count": 48,
   "metadata": {
    "colab": {
     "base_uri": "https://localhost:8080/"
    },
    "id": "Iy88SxBtD1AE",
    "outputId": "e67ec8b0-ef75-4402-f1d5-cde3ecb8d12d"
   },
   "outputs": [
    {
     "data": {
      "text/plain": [
       "True"
      ]
     },
     "execution_count": 48,
     "metadata": {},
     "output_type": "execute_result"
    }
   ],
   "source": [
    "'Passat' in dados"
   ]
  },
  {
   "cell_type": "code",
   "execution_count": 49,
   "metadata": {
    "colab": {
     "base_uri": "https://localhost:8080/"
    },
    "id": "Oma56NkAD1AF",
    "outputId": "b2b5000e-879c-4d7a-e7b1-80dd35b9a3cc"
   },
   "outputs": [
    {
     "data": {
      "text/plain": [
       "True"
      ]
     },
     "execution_count": 49,
     "metadata": {},
     "output_type": "execute_result"
    }
   ],
   "source": [
    "'Fusca' not in dados"
   ]
  },
  {
   "cell_type": "code",
   "execution_count": 50,
   "metadata": {
    "colab": {
     "base_uri": "https://localhost:8080/"
    },
    "id": "yS2U-_8gD1AG",
    "outputId": "63e6de9a-6a92-4f1e-9018-58185f253525"
   },
   "outputs": [
    {
     "data": {
      "text/plain": [
       "False"
      ]
     },
     "execution_count": 50,
     "metadata": {},
     "output_type": "execute_result"
    }
   ],
   "source": [
    "'Fusca' in dados"
   ]
  },
  {
   "cell_type": "markdown",
   "metadata": {
    "id": "oWbWyDd0D1AI"
   },
   "source": [
    "## *len(dict)*\n",
    "\n",
    "Retorna o número de itens do dicionário."
   ]
  },
  {
   "cell_type": "code",
   "execution_count": 51,
   "metadata": {
    "colab": {
     "base_uri": "https://localhost:8080/"
    },
    "id": "k08YkCc1D1AJ",
    "outputId": "3b7d2586-a4ee-40a3-ca56-80afd00781d0"
   },
   "outputs": [
    {
     "data": {
      "text/plain": [
       "3"
      ]
     },
     "execution_count": 51,
     "metadata": {},
     "output_type": "execute_result"
    }
   ],
   "source": [
    "len(dados)"
   ]
  },
  {
   "cell_type": "markdown",
   "metadata": {
    "id": "yYNqIHJBD1AK"
   },
   "source": [
    "## *dict[ key ] = value*\n",
    "\n",
    "Inclui um item ao dicionário."
   ]
  },
  {
   "cell_type": "code",
   "execution_count": 52,
   "metadata": {
    "id": "5jj3i52bD1AK"
   },
   "outputs": [],
   "source": [
    "#DS5 nao esta no dicionario, logo e incluido\n",
    "dados['DS5'] =  12345.6"
   ]
  },
  {
   "cell_type": "code",
   "execution_count": 53,
   "metadata": {
    "colab": {
     "base_uri": "https://localhost:8080/"
    },
    "id": "y6rso5hLD1AL",
    "outputId": "1bcb5216-b924-41ed-baf3-22d967c78c8e"
   },
   "outputs": [
    {
     "data": {
      "text/plain": [
       "{'Jetta Variant': 88078.64,\n",
       " 'Passat': 106161.94,\n",
       " 'Crossfox': 72832.16,\n",
       " 'DS5': 12345.6}"
      ]
     },
     "execution_count": 53,
     "metadata": {},
     "output_type": "execute_result"
    }
   ],
   "source": [
    "dados"
   ]
  },
  {
   "cell_type": "markdown",
   "metadata": {
    "id": "_z0JySuqD1AL"
   },
   "source": [
    "## *del dict[ key ]*\n",
    "\n",
    "Remove o item de chave (*key*) do dicionário."
   ]
  },
  {
   "cell_type": "code",
   "execution_count": 54,
   "metadata": {
    "id": "PPfh6sfID1AM"
   },
   "outputs": [],
   "source": [
    "del dados['Passat']\n"
   ]
  },
  {
   "cell_type": "code",
   "execution_count": 55,
   "metadata": {
    "colab": {
     "base_uri": "https://localhost:8080/"
    },
    "id": "BtjGpXtGD1AN",
    "outputId": "534daf99-58e7-42da-fa90-edb3e0b712b7"
   },
   "outputs": [
    {
     "data": {
      "text/plain": [
       "{'Jetta Variant': 88078.64, 'Crossfox': 72832.16, 'DS5': 12345.6}"
      ]
     },
     "execution_count": 55,
     "metadata": {},
     "output_type": "execute_result"
    }
   ],
   "source": [
    "dados"
   ]
  },
  {
   "cell_type": "markdown",
   "metadata": {
    "id": "FodJVx5sD1AP"
   },
   "source": [
    "# 3.3 Métodos de dicionários"
   ]
  },
  {
   "cell_type": "markdown",
   "metadata": {
    "id": "7pqdPOkYD1AP"
   },
   "source": [
    "## *dict.update()*\n",
    "\n",
    "Atualiza o dicionário."
   ]
  },
  {
   "cell_type": "code",
   "execution_count": 56,
   "metadata": {
    "colab": {
     "base_uri": "https://localhost:8080/"
    },
    "id": "DUySYxKQD1AQ",
    "outputId": "55ace676-4619-413b-c0a6-dc4a92246868"
   },
   "outputs": [
    {
     "data": {
      "text/plain": [
       "{'Jetta Variant': 88078.64,\n",
       " 'Crossfox': 72832.16,\n",
       " 'DS5': 12345.6,\n",
       " 'Passat': 123456.1}"
      ]
     },
     "execution_count": 56,
     "metadata": {},
     "output_type": "execute_result"
    }
   ],
   "source": [
    "#adiciona um valor ao dicionario ou altera um valor\n",
    "dados.update({'Passat':123456.1})\n",
    "dados"
   ]
  },
  {
   "cell_type": "code",
   "execution_count": 57,
   "metadata": {
    "colab": {
     "base_uri": "https://localhost:8080/"
    },
    "id": "DLsqp71cD1AR",
    "outputId": "2b527647-89c0-462d-ace5-8d457974dc64"
   },
   "outputs": [
    {
     "data": {
      "text/plain": [
       "{'Jetta Variant': 88078.64,\n",
       " 'Crossfox': 72832.16,\n",
       " 'DS5': 12345.6,\n",
       " 'Passat': 123456.1,\n",
       " 'Fusca': 10}"
      ]
     },
     "execution_count": 57,
     "metadata": {},
     "output_type": "execute_result"
    }
   ],
   "source": [
    "dados.update({'Passat':123456.1, 'Fusca':10})\n",
    "dados"
   ]
  },
  {
   "cell_type": "markdown",
   "metadata": {
    "id": "JLs5c0DeD1AR"
   },
   "source": [
    "## *dict.copy()*\n",
    "\n",
    "Cria uma cópia do dicionário."
   ]
  },
  {
   "cell_type": "code",
   "execution_count": 58,
   "metadata": {
    "id": "X9F7OB3eD1AS"
   },
   "outputs": [],
   "source": [
    "#Se eu mudadr dadosCopy tambem mudo dados pois ambos apontam para o mesmo espaço\n",
    "#na memoria\n",
    "dadosCopy = dados.copy()"
   ]
  },
  {
   "cell_type": "code",
   "execution_count": 59,
   "metadata": {
    "colab": {
     "base_uri": "https://localhost:8080/"
    },
    "id": "v0rL0bveD1AS",
    "outputId": "ec024484-77d4-4463-ab18-19092d1415ee"
   },
   "outputs": [
    {
     "data": {
      "text/plain": [
       "{'Jetta Variant': 88078.64,\n",
       " 'Crossfox': 72832.16,\n",
       " 'DS5': 12345.6,\n",
       " 'Passat': 123456.1,\n",
       " 'Fusca': 10}"
      ]
     },
     "execution_count": 59,
     "metadata": {},
     "output_type": "execute_result"
    }
   ],
   "source": [
    "dadosCopy"
   ]
  },
  {
   "cell_type": "code",
   "execution_count": 60,
   "metadata": {
    "colab": {
     "base_uri": "https://localhost:8080/"
    },
    "id": "M-abRGGrD1AT",
    "outputId": "04d0f61f-1541-4fe6-e2a5-58f859cf1735"
   },
   "outputs": [
    {
     "data": {
      "text/plain": [
       "{'Jetta Variant': 88078.64,\n",
       " 'Crossfox': 72832.16,\n",
       " 'DS5': 12345.6,\n",
       " 'Passat': 123456.1}"
      ]
     },
     "execution_count": 60,
     "metadata": {},
     "output_type": "execute_result"
    }
   ],
   "source": [
    "del dadosCopy['Fusca']\n",
    "dadosCopy"
   ]
  },
  {
   "cell_type": "code",
   "execution_count": 61,
   "metadata": {
    "colab": {
     "base_uri": "https://localhost:8080/"
    },
    "id": "ETBD0TkND1AU",
    "outputId": "d7d88b58-88f6-4095-9374-48d17c29dc54"
   },
   "outputs": [
    {
     "data": {
      "text/plain": [
       "{'Jetta Variant': 88078.64,\n",
       " 'Crossfox': 72832.16,\n",
       " 'DS5': 12345.6,\n",
       " 'Passat': 123456.1,\n",
       " 'Fusca': 10}"
      ]
     },
     "execution_count": 61,
     "metadata": {},
     "output_type": "execute_result"
    }
   ],
   "source": [
    "dados"
   ]
  },
  {
   "cell_type": "markdown",
   "metadata": {
    "id": "mNODkmHCD1AV"
   },
   "source": [
    "## *dict.pop(key[, default ])*\n",
    "\n",
    "Se a chave for encontrada no dicionário, o item é removido e seu valor é retornado. Caso contrário, o valor especificado como *default* é retornado. Se o valor *default* não for fornecido e a chave não for encontrada no dicionário um erro será gerado."
   ]
  },
  {
   "cell_type": "code",
   "execution_count": 62,
   "metadata": {
    "colab": {
     "base_uri": "https://localhost:8080/"
    },
    "id": "_4QEPwScD1AW",
    "outputId": "e8760727-cb13-46b7-db40-cc7966b10bf8"
   },
   "outputs": [
    {
     "data": {
      "text/plain": [
       "{'Jetta Variant': 88078.64,\n",
       " 'Crossfox': 72832.16,\n",
       " 'DS5': 12345.6,\n",
       " 'Passat': 123456.1}"
      ]
     },
     "execution_count": 62,
     "metadata": {},
     "output_type": "execute_result"
    }
   ],
   "source": [
    "dadosCopy"
   ]
  },
  {
   "cell_type": "code",
   "execution_count": 63,
   "metadata": {
    "colab": {
     "base_uri": "https://localhost:8080/"
    },
    "id": "Hjh0MuymD1AX",
    "outputId": "4cceab1d-452a-441e-f37c-af71083e451a"
   },
   "outputs": [
    {
     "data": {
      "text/plain": [
       "123456.1"
      ]
     },
     "execution_count": 63,
     "metadata": {},
     "output_type": "execute_result"
    }
   ],
   "source": [
    "dadosCopy.pop('Passat')"
   ]
  },
  {
   "cell_type": "code",
   "execution_count": 64,
   "metadata": {
    "colab": {
     "base_uri": "https://localhost:8080/"
    },
    "id": "f51rKjkuD1AX",
    "outputId": "449f8d89-a004-4233-b281-91cdea0007a6"
   },
   "outputs": [
    {
     "data": {
      "text/plain": [
       "{'Jetta Variant': 88078.64, 'Crossfox': 72832.16, 'DS5': 12345.6}"
      ]
     },
     "execution_count": 64,
     "metadata": {},
     "output_type": "execute_result"
    }
   ],
   "source": [
    "dadosCopy"
   ]
  },
  {
   "cell_type": "code",
   "execution_count": 65,
   "metadata": {
    "id": "Ah4sZ7axD1AZ"
   },
   "outputs": [],
   "source": [
    "#Caso nao encontre a chave a ser removida posso tratar o erro\n",
    "#dadosCopy.pop('Passat') gera erro pois Passat foi removida"
   ]
  },
  {
   "cell_type": "code",
   "execution_count": 66,
   "metadata": {
    "colab": {
     "base_uri": "https://localhost:8080/",
     "height": 36
    },
    "id": "SJATRY8RD1Aa",
    "outputId": "6f3efc1b-94e2-4a85-a62c-bd4879bfa693"
   },
   "outputs": [
    {
     "data": {
      "text/plain": [
       "'Chave nao encontrada'"
      ]
     },
     "execution_count": 66,
     "metadata": {},
     "output_type": "execute_result"
    }
   ],
   "source": [
    "dadosCopy.pop('Passat', 'Chave nao encontrada')"
   ]
  },
  {
   "cell_type": "code",
   "execution_count": 67,
   "metadata": {
    "colab": {
     "base_uri": "https://localhost:8080/"
    },
    "id": "V36wHdzmD1Ab",
    "outputId": "e6d6a5f6-87e4-4009-8569-616937ed985b"
   },
   "outputs": [
    {
     "data": {
      "text/plain": [
       "12345.6"
      ]
     },
     "execution_count": 67,
     "metadata": {},
     "output_type": "execute_result"
    }
   ],
   "source": [
    "dadosCopy.pop('DS5', 'Chave nao encontrada')"
   ]
  },
  {
   "cell_type": "code",
   "execution_count": 68,
   "metadata": {
    "colab": {
     "base_uri": "https://localhost:8080/"
    },
    "id": "LJ0lQIrdD1Ac",
    "outputId": "c1a85e01-6e0a-4cdd-df5c-2ad863fa60db"
   },
   "outputs": [
    {
     "data": {
      "text/plain": [
       "{'Jetta Variant': 88078.64, 'Crossfox': 72832.16}"
      ]
     },
     "execution_count": 68,
     "metadata": {},
     "output_type": "execute_result"
    }
   ],
   "source": [
    "dadosCopy"
   ]
  },
  {
   "cell_type": "code",
   "execution_count": 69,
   "metadata": {
    "colab": {
     "base_uri": "https://localhost:8080/",
     "height": 36
    },
    "id": "x-h8nVyhD1Af",
    "outputId": "a6faa43a-e473-446a-b590-cbc1449926e9"
   },
   "outputs": [
    {
     "data": {
      "text/plain": [
       "'Chave nao encontrada'"
      ]
     },
     "execution_count": 69,
     "metadata": {},
     "output_type": "execute_result"
    }
   ],
   "source": [
    "dadosCopy.pop('DS5', 'Chave nao encontrada')"
   ]
  },
  {
   "cell_type": "markdown",
   "metadata": {
    "id": "Q5J0R7d3D1Ag"
   },
   "source": [
    "## *dict.clear()*\n",
    "\n",
    "Remove todos os itens do dicionário."
   ]
  },
  {
   "cell_type": "code",
   "execution_count": 70,
   "metadata": {
    "id": "AvkP_8mND1Ag"
   },
   "outputs": [],
   "source": [
    "dadosCopy.clear()"
   ]
  },
  {
   "cell_type": "code",
   "execution_count": 71,
   "metadata": {
    "colab": {
     "base_uri": "https://localhost:8080/"
    },
    "id": "S69pMYboD1Ah",
    "outputId": "39469327-bc2f-4654-acbd-afb41e074c0d"
   },
   "outputs": [
    {
     "data": {
      "text/plain": [
       "{}"
      ]
     },
     "execution_count": 71,
     "metadata": {},
     "output_type": "execute_result"
    }
   ],
   "source": [
    "dadosCopy"
   ]
  },
  {
   "cell_type": "markdown",
   "metadata": {
    "id": "QhoSRfPsD1Ai"
   },
   "source": [
    "# 3.4 Iterando em dicionários"
   ]
  },
  {
   "cell_type": "markdown",
   "metadata": {
    "id": "E-agaqakD1Ai"
   },
   "source": [
    "## *dict.keys()*\n",
    "\n",
    "Retorna uma lista contendo as chaves (*keys*) do dicionário."
   ]
  },
  {
   "cell_type": "code",
   "execution_count": 72,
   "metadata": {
    "colab": {
     "base_uri": "https://localhost:8080/"
    },
    "id": "qFADEYmBD1Aj",
    "outputId": "6c2c9f0c-e7a7-490f-d4c2-55c2afdcbfe9"
   },
   "outputs": [
    {
     "data": {
      "text/plain": [
       "dict_keys(['Jetta Variant', 'Crossfox', 'DS5', 'Passat', 'Fusca'])"
      ]
     },
     "execution_count": 72,
     "metadata": {},
     "output_type": "execute_result"
    }
   ],
   "source": [
    "dados.keys()"
   ]
  },
  {
   "cell_type": "code",
   "execution_count": 73,
   "metadata": {
    "colab": {
     "base_uri": "https://localhost:8080/"
    },
    "id": "niwh9AgDD1Aj",
    "outputId": "45c67127-e381-4b16-e107-17f07d66afc0"
   },
   "outputs": [
    {
     "name": "stdout",
     "output_type": "stream",
     "text": [
      "88078.64\n",
      "72832.16\n",
      "12345.6\n",
      "123456.1\n",
      "10\n"
     ]
    }
   ],
   "source": [
    "for key in dados.keys():\n",
    "  print(dados[key])"
   ]
  },
  {
   "cell_type": "markdown",
   "metadata": {
    "id": "qFj6Cc7dD1Ak"
   },
   "source": [
    "## *dict.values()*\n",
    "\n",
    "Retorna uma lista com todos os valores (*values*) do dicionário."
   ]
  },
  {
   "cell_type": "code",
   "execution_count": 74,
   "metadata": {
    "colab": {
     "base_uri": "https://localhost:8080/"
    },
    "id": "nfpLxrQVD1Al",
    "outputId": "43b77334-7d9d-461c-976b-8cabbacc1414"
   },
   "outputs": [
    {
     "data": {
      "text/plain": [
       "dict_values([88078.64, 72832.16, 12345.6, 123456.1, 10])"
      ]
     },
     "execution_count": 74,
     "metadata": {},
     "output_type": "execute_result"
    }
   ],
   "source": [
    "dados.values()"
   ]
  },
  {
   "cell_type": "markdown",
   "metadata": {
    "id": "-NGRwX0AD1Al"
   },
   "source": [
    "## *dict.items()*\n",
    "\n",
    "Retorna uma lista contendo uma tupla para cada par chave-valor (*key-value*) do dicionário."
   ]
  },
  {
   "cell_type": "code",
   "execution_count": 75,
   "metadata": {
    "colab": {
     "base_uri": "https://localhost:8080/"
    },
    "id": "Q2I9_6YvD1Am",
    "outputId": "dc20e9fa-a720-4c8f-e52c-ebf138f32136"
   },
   "outputs": [
    {
     "data": {
      "text/plain": [
       "dict_items([('Jetta Variant', 88078.64), ('Crossfox', 72832.16), ('DS5', 12345.6), ('Passat', 123456.1), ('Fusca', 10)])"
      ]
     },
     "execution_count": 75,
     "metadata": {},
     "output_type": "execute_result"
    }
   ],
   "source": [
    "dados.items()"
   ]
  },
  {
   "cell_type": "code",
   "execution_count": 76,
   "metadata": {
    "colab": {
     "base_uri": "https://localhost:8080/"
    },
    "id": "0j41ZqgQD1Am",
    "outputId": "9437e154-ee8a-4854-c931-bc9922a53023"
   },
   "outputs": [
    {
     "name": "stdout",
     "output_type": "stream",
     "text": [
      "('Jetta Variant', 88078.64)\n",
      "('Crossfox', 72832.16)\n",
      "('DS5', 12345.6)\n",
      "('Passat', 123456.1)\n",
      "('Fusca', 10)\n"
     ]
    }
   ],
   "source": [
    "for item in dados.items():\n",
    "  print(item)"
   ]
  },
  {
   "cell_type": "code",
   "execution_count": 77,
   "metadata": {
    "colab": {
     "base_uri": "https://localhost:8080/"
    },
    "id": "OVY9rIwFD1An",
    "outputId": "afd534fc-18ba-4295-c141-d09fade6692f"
   },
   "outputs": [
    {
     "name": "stdout",
     "output_type": "stream",
     "text": [
      "Jetta Variant 88078.64\n",
      "Crossfox 72832.16\n",
      "DS5 12345.6\n",
      "Passat 123456.1\n",
      "Fusca 10\n"
     ]
    }
   ],
   "source": [
    "for key,item in dados.items():\n",
    "  print(key, item)"
   ]
  },
  {
   "cell_type": "code",
   "execution_count": 78,
   "metadata": {
    "colab": {
     "base_uri": "https://localhost:8080/"
    },
    "id": "ma2Ol8vcD1Ap",
    "outputId": "360b9199-1e86-416c-802f-9c716b6e83a2"
   },
   "outputs": [
    {
     "name": "stdout",
     "output_type": "stream",
     "text": [
      "Passat\n"
     ]
    }
   ],
   "source": [
    "for key,item in dados.items():\n",
    "  if item >100000:\n",
    "    print(key)"
   ]
  },
  {
   "cell_type": "markdown",
   "metadata": {
    "id": "-q3AlSg3D1Aq"
   },
   "source": [
    "# <font color=green> 4. FUNÇÕES E PACOTES\n",
    "---\n",
    "    \n",
    "Funções são unidades de código reutilizáveis que realizam uma tarefa específica, podem receber alguma entrada e também podem retornar alguma resultado."
   ]
  },
  {
   "cell_type": "markdown",
   "metadata": {
    "id": "5CfEcU58D1Aq"
   },
   "source": [
    "# 4.1 Built-in function\n",
    "\n",
    "A linguagem Python possui várias funções integradas que estão sempre acessíveis. Algumas já utilizamos em nosso treinamento: type(), print(), zip(), len(), set() etc.\n",
    "\n",
    "https://docs.python.org/3.6/library/functions.html"
   ]
  },
  {
   "cell_type": "code",
   "execution_count": 79,
   "metadata": {
    "colab": {
     "base_uri": "https://localhost:8080/"
    },
    "id": "DP7cmY7xD1Aq",
    "outputId": "2d808b5b-f9a6-4f17-ae00-eb0019eb19e7"
   },
   "outputs": [
    {
     "data": {
      "text/plain": [
       "{'Jetta Variant': 88078.64, 'Passat': 106161.94, 'Crossfox': 72832.16}"
      ]
     },
     "execution_count": 79,
     "metadata": {},
     "output_type": "execute_result"
    }
   ],
   "source": [
    "dados = {'Jetta Variant': 88078.64, 'Passat': 106161.94, 'Crossfox': 72832.16}\n",
    "dados"
   ]
  },
  {
   "cell_type": "code",
   "execution_count": null,
   "metadata": {
    "id": "5zAcGSCbD1Ar"
   },
   "outputs": [],
   "source": [
    " "
   ]
  },
  {
   "cell_type": "code",
   "execution_count": 80,
   "metadata": {
    "colab": {
     "base_uri": "https://localhost:8080/"
    },
    "id": "zG9_jU_1D1At",
    "outputId": "190f2756-be9d-4984-97cb-97e3e9bc4d39"
   },
   "outputs": [
    {
     "data": {
      "text/plain": [
       "[88078.64, 106161.94, 72832.16]"
      ]
     },
     "execution_count": 80,
     "metadata": {},
     "output_type": "execute_result"
    }
   ],
   "source": [
    "valores = []\n",
    "for valor in dados.values():\n",
    "  valores.append(valor)\n",
    "valores"
   ]
  },
  {
   "cell_type": "code",
   "execution_count": 81,
   "metadata": {
    "colab": {
     "base_uri": "https://localhost:8080/"
    },
    "id": "jn0O3uXZD1Au",
    "outputId": "b6666e6f-b8b6-43cf-d48b-87c8672dde4e"
   },
   "outputs": [
    {
     "data": {
      "text/plain": [
       "267072.74"
      ]
     },
     "execution_count": 81,
     "metadata": {},
     "output_type": "execute_result"
    }
   ],
   "source": [
    "soma = 0\n",
    "for valor in dados.values():\n",
    "  soma+=valor\n",
    "soma "
   ]
  },
  {
   "cell_type": "code",
   "execution_count": 82,
   "metadata": {
    "colab": {
     "base_uri": "https://localhost:8080/"
    },
    "id": "lnUjKVnoD1Aw",
    "outputId": "6c698c78-561b-4c0d-a6a7-9bb465d6ebfc"
   },
   "outputs": [
    {
     "data": {
      "text/plain": [
       "[88078.64, 106161.94, 72832.16]"
      ]
     },
     "execution_count": 82,
     "metadata": {},
     "output_type": "execute_result"
    }
   ],
   "source": [
    "list(dados.values())"
   ]
  },
  {
   "cell_type": "code",
   "execution_count": 83,
   "metadata": {
    "colab": {
     "base_uri": "https://localhost:8080/"
    },
    "id": "WdEuYXe2D1Ay",
    "outputId": "14eb57b6-d840-4196-eb73-1f98ab01e668",
    "scrolled": false
   },
   "outputs": [
    {
     "data": {
      "text/plain": [
       "1267072.7399999998"
      ]
     },
     "execution_count": 83,
     "metadata": {},
     "output_type": "execute_result"
    }
   ],
   "source": [
    "sum(list(dados.values()),1000000)"
   ]
  },
  {
   "cell_type": "code",
   "execution_count": 84,
   "metadata": {
    "colab": {
     "base_uri": "https://localhost:8080/"
    },
    "id": "hIA29O3tD1Az",
    "outputId": "e5ab1440-5ae4-4e3d-8216-edac393dc843"
   },
   "outputs": [
    {
     "name": "stdout",
     "output_type": "stream",
     "text": [
      "Help on built-in function sum in module builtins:\n",
      "\n",
      "sum(iterable, /, start=0)\n",
      "    Return the sum of a 'start' value (default: 0) plus an iterable of numbers\n",
      "    \n",
      "    When the iterable is empty, return the start value.\n",
      "    This function is intended specifically for use with numeric values and may\n",
      "    reject non-numeric types.\n",
      "\n"
     ]
    }
   ],
   "source": [
    "help(sum)"
   ]
  },
  {
   "cell_type": "markdown",
   "metadata": {
    "id": "6w62Sl5ZD1A0"
   },
   "source": [
    "# 4.2 Definindo funções sem e com parâmetros"
   ]
  },
  {
   "cell_type": "markdown",
   "metadata": {
    "id": "OADZiBP2D1A0"
   },
   "source": [
    "### Funções sem parâmetros\n",
    "\n",
    "#### Formato padrão\n",
    "\n",
    "```\n",
    "def <nome>():\n",
    "    <instruções>\n",
    "```"
   ]
  },
  {
   "cell_type": "code",
   "execution_count": 85,
   "metadata": {
    "id": "uCkplEpQD1A0"
   },
   "outputs": [],
   "source": [
    "def media():\n",
    "  valor = (1+2+3)/3\n",
    "  print(valor)"
   ]
  },
  {
   "cell_type": "code",
   "execution_count": 86,
   "metadata": {
    "colab": {
     "base_uri": "https://localhost:8080/"
    },
    "id": "fOCEGq5VD1A1",
    "outputId": "376de2d3-34c0-4d43-9186-3f8491afb3b1"
   },
   "outputs": [
    {
     "name": "stdout",
     "output_type": "stream",
     "text": [
      "2.0\n"
     ]
    }
   ],
   "source": [
    "media()"
   ]
  },
  {
   "cell_type": "markdown",
   "metadata": {
    "id": "PwSlYSVAD1A2"
   },
   "source": [
    "### Funções com parâmetros\n",
    "\n",
    "#### Formato padrão\n",
    "\n",
    "```\n",
    "def <nome>(<param_1>, <param_2>, ..., <param_n>):\n",
    "    <instruções>\n",
    "```"
   ]
  },
  {
   "cell_type": "code",
   "execution_count": 87,
   "metadata": {
    "id": "A3YnBUduD1A3"
   },
   "outputs": [],
   "source": [
    "def media(n1, n2, n3):\n",
    "  valor = (n1+n2+n3)/3\n",
    "  print(valor)"
   ]
  },
  {
   "cell_type": "code",
   "execution_count": 88,
   "metadata": {
    "colab": {
     "base_uri": "https://localhost:8080/"
    },
    "id": "rGUZbRERD1A3",
    "outputId": "b78dd7fa-5835-40bf-8e4e-324fa1f06d67"
   },
   "outputs": [
    {
     "name": "stdout",
     "output_type": "stream",
     "text": [
      "2.0\n"
     ]
    }
   ],
   "source": [
    "media(1,2,3)"
   ]
  },
  {
   "cell_type": "code",
   "execution_count": 89,
   "metadata": {
    "colab": {
     "base_uri": "https://localhost:8080/"
    },
    "id": "B9WDlRE7D1A5",
    "outputId": "061af87f-b548-4544-e87d-4796a8ff9ad4"
   },
   "outputs": [
    {
     "name": "stdout",
     "output_type": "stream",
     "text": [
      "23.333333333333332\n"
     ]
    }
   ],
   "source": [
    "media(12,23,35)"
   ]
  },
  {
   "cell_type": "code",
   "execution_count": 90,
   "metadata": {
    "id": "1HAy8OK_D1A6"
   },
   "outputs": [],
   "source": [
    "def media(lista):\n",
    "  valor = sum(lista)/len(lista)\n",
    "  print(valor)"
   ]
  },
  {
   "cell_type": "code",
   "execution_count": 91,
   "metadata": {
    "colab": {
     "base_uri": "https://localhost:8080/"
    },
    "id": "_CDa4oOfD1A6",
    "outputId": "f985613f-5d29-44be-b9a2-fe1403e9f90b"
   },
   "outputs": [
    {
     "name": "stdout",
     "output_type": "stream",
     "text": [
      "5.5\n"
     ]
    }
   ],
   "source": [
    "resultado = media([2,3,4,5,6,7,8,9])"
   ]
  },
  {
   "cell_type": "code",
   "execution_count": 92,
   "metadata": {
    "id": "xH-mxqYAD1A8"
   },
   "outputs": [],
   "source": [
    "resultado"
   ]
  },
  {
   "cell_type": "code",
   "execution_count": 93,
   "metadata": {
    "colab": {
     "base_uri": "https://localhost:8080/"
    },
    "id": "WXXC_UidD1A8",
    "outputId": "d0742438-4d87-44f3-833b-eab5b73f1485"
   },
   "outputs": [
    {
     "data": {
      "text/plain": [
       "NoneType"
      ]
     },
     "execution_count": 93,
     "metadata": {},
     "output_type": "execute_result"
    }
   ],
   "source": [
    "type(resultado)"
   ]
  },
  {
   "cell_type": "markdown",
   "metadata": {
    "id": "8zNYrmFbD1A9"
   },
   "source": [
    "# 4.3 Definindo funções que retornam valores"
   ]
  },
  {
   "cell_type": "markdown",
   "metadata": {
    "id": "J44K-dMOD1A9"
   },
   "source": [
    "### Funções que retornam um valor\n",
    "\n",
    "#### Formato padrão\n",
    "\n",
    "```\n",
    "def <nome>(<param_1>, <param_2>, ..., <param_n>):\n",
    "    <instruções>\n",
    "    return <resultado>\n",
    "```"
   ]
  },
  {
   "cell_type": "code",
   "execution_count": 94,
   "metadata": {
    "id": "-UG42RQJD1A9"
   },
   "outputs": [],
   "source": [
    "def media(lista):\n",
    "  valor = sum(lista)/len(lista)\n",
    "  return valor"
   ]
  },
  {
   "cell_type": "code",
   "execution_count": 95,
   "metadata": {
    "id": "VJwdvoT5D1A-"
   },
   "outputs": [],
   "source": [
    "resultado = media([4,5,6,7,8])"
   ]
  },
  {
   "cell_type": "code",
   "execution_count": 96,
   "metadata": {
    "colab": {
     "base_uri": "https://localhost:8080/"
    },
    "id": "AgAeJkpND1A-",
    "outputId": "48706b4a-da91-45d4-982a-e0af04a382d3"
   },
   "outputs": [
    {
     "data": {
      "text/plain": [
       "6.0"
      ]
     },
     "execution_count": 96,
     "metadata": {},
     "output_type": "execute_result"
    }
   ],
   "source": [
    "resultado"
   ]
  },
  {
   "cell_type": "markdown",
   "metadata": {
    "id": "MQaK8GV5D1BA"
   },
   "source": [
    "### Funções que retornam mais de um valor\n",
    "\n",
    "#### Formato padrão\n",
    "\n",
    "```\n",
    "def <nome>(<param_1>, <param_2>, ..., <param_n>):\n",
    "    <instruções>\n",
    "    return (<resultado_1>, <resultado_2>, ..., <resultado_n>)\n",
    "```"
   ]
  },
  {
   "cell_type": "code",
   "execution_count": 97,
   "metadata": {
    "id": "v0PUMegVD1BA"
   },
   "outputs": [],
   "source": [
    "def media(lista):\n",
    "  valor = sum(lista)/len(lista)\n",
    "  return (valor, len(lista))"
   ]
  },
  {
   "cell_type": "code",
   "execution_count": 98,
   "metadata": {
    "id": "Ys-etom8D1BA"
   },
   "outputs": [],
   "source": [
    "resultado, n = media([3,6,54,12,8])"
   ]
  },
  {
   "cell_type": "code",
   "execution_count": 99,
   "metadata": {
    "colab": {
     "base_uri": "https://localhost:8080/"
    },
    "id": "LERrvkMHD1BC",
    "outputId": "cda989ea-8ed4-44fa-e302-ba0b2c734022"
   },
   "outputs": [
    {
     "data": {
      "text/plain": [
       "16.6"
      ]
     },
     "execution_count": 99,
     "metadata": {},
     "output_type": "execute_result"
    }
   ],
   "source": [
    "resultado"
   ]
  },
  {
   "cell_type": "code",
   "execution_count": 100,
   "metadata": {
    "colab": {
     "base_uri": "https://localhost:8080/"
    },
    "id": "sqoFOWSsD1BC",
    "outputId": "44507573-0eab-4b43-f6e4-e0988f0e9764"
   },
   "outputs": [
    {
     "data": {
      "text/plain": [
       "5"
      ]
     },
     "execution_count": 100,
     "metadata": {},
     "output_type": "execute_result"
    }
   ],
   "source": [
    "n"
   ]
  },
  {
   "cell_type": "markdown",
   "metadata": {
    "id": "uQ5lNnKrD1BD"
   },
   "source": [
    "# <font color=green> 5. PANDAS BÁSICO\n",
    "---\n",
    "\n",
    "**versão: 0.25.2**\n",
    "  \n",
    "Pandas é uma ferramenta de manipulação de dados de alto nível, construída com base no pacote Numpy. O pacote pandas possui estruturas de dados bastante interessantes para manipulação de dados e por isso é muito utilizado por cientistas de dados.\n",
    "\n",
    "\n",
    "## Estruturas de Dados\n",
    "\n",
    "### Series\n",
    "\n",
    "Series são arrays unidimensionais rotulados capazes de armazenar qualquer tipo de dado. Os rótulos das linhas são chamados de **index**. A forma básica de criação de uma Series é a seguinte:\n",
    "\n",
    "\n",
    "```\n",
    "    s = pd.Series(dados, index = index)\n",
    "```\n",
    "\n",
    "O argumento *dados* pode ser um dicionário, uma lista, um array Numpy ou uma constante.\n",
    "\n",
    "### DataFrames\n",
    "\n",
    "DataFrame é uma estrutura de dados tabular bidimensional com rótulos nas linha e colunas. Como a Series, os DataFrames são capazes de armazenar qualquer tipo de dados.\n",
    "\n",
    "\n",
    "```\n",
    "    df = pd.DataFrame(dados, index = index, columns = columns)\n",
    "```\n",
    "\n",
    "O argumento *dados* pode ser um dicionário, uma lista, um array Numpy, uma Series e outro DataFrame.\n",
    "\n",
    "**Documentação:** https://pandas.pydata.org/pandas-docs/version/0.25/"
   ]
  },
  {
   "cell_type": "markdown",
   "metadata": {
    "id": "2qa7RC03D1BD"
   },
   "source": [
    "# 5.1 Estruturas de dados"
   ]
  },
  {
   "cell_type": "code",
   "execution_count": 101,
   "metadata": {
    "id": "4QyFDeS4D1BD"
   },
   "outputs": [],
   "source": [
    "import pandas as pd"
   ]
  },
  {
   "cell_type": "markdown",
   "metadata": {
    "id": "kIey8_OcD1BF"
   },
   "source": [
    "### Criando uma Series a partir de uma lista"
   ]
  },
  {
   "cell_type": "code",
   "execution_count": 102,
   "metadata": {
    "colab": {
     "base_uri": "https://localhost:8080/"
    },
    "id": "yEZR6DWiD1BF",
    "outputId": "df22731e-e0bd-4c1a-913d-288ab6d76304"
   },
   "outputs": [
    {
     "data": {
      "text/plain": [
       "['Jetta Variant', 'Passat', 'Crossfox']"
      ]
     },
     "execution_count": 102,
     "metadata": {},
     "output_type": "execute_result"
    }
   ],
   "source": [
    "carros = ['Jetta Variant', 'Passat', 'Crossfox']\n",
    "carros"
   ]
  },
  {
   "cell_type": "code",
   "execution_count": 103,
   "metadata": {
    "colab": {
     "base_uri": "https://localhost:8080/"
    },
    "id": "rLudWKZ_D1BF",
    "outputId": "d99f3b6c-7748-4cd0-f0ba-beaefa33fae1"
   },
   "outputs": [
    {
     "data": {
      "text/plain": [
       "0    Jetta Variant\n",
       "1           Passat\n",
       "2         Crossfox\n",
       "dtype: object"
      ]
     },
     "execution_count": 103,
     "metadata": {},
     "output_type": "execute_result"
    }
   ],
   "source": [
    "#o pandas assume que estring sao do tipo object \n",
    "pd.Series(carros)"
   ]
  },
  {
   "cell_type": "markdown",
   "metadata": {
    "id": "VYVIKd1-D1BG"
   },
   "source": [
    "### Criando um DataFrame a partir de uma lista de dicionários"
   ]
  },
  {
   "cell_type": "code",
   "execution_count": 104,
   "metadata": {
    "id": "QFNS9PckD1BG"
   },
   "outputs": [],
   "source": [
    "dados = [\n",
    "    {'Nome': 'Jetta Variant', 'Motor': 'Motor 4.0 Turbo', 'Ano': 2003, 'Quilometragem': 44410.0, 'Zero_km': False, 'Valor': 88078.64},\n",
    "    {'Nome': 'Passat', 'Motor': 'Motor Diesel', 'Ano': 1991, 'Quilometragem': 5712.0, 'Zero_km': False, 'Valor': 106161.94},\n",
    "    {'Nome': 'Crossfox', 'Motor': 'Motor Diesel V8', 'Ano': 1990, 'Quilometragem': 37123.0, 'Zero_km': False, 'Valor': 72832.16}\n",
    "]"
   ]
  },
  {
   "cell_type": "code",
   "execution_count": 105,
   "metadata": {
    "id": "WDQb9AnKD1BH"
   },
   "outputs": [],
   "source": [
    "dataset = pd.DataFrame(dados)"
   ]
  },
  {
   "cell_type": "code",
   "execution_count": 106,
   "metadata": {
    "colab": {
     "base_uri": "https://localhost:8080/",
     "height": 143
    },
    "id": "-2-jGvmGD1BI",
    "outputId": "e4a22e4b-2a12-4954-d41d-0fd446ce0620"
   },
   "outputs": [
    {
     "data": {
      "text/html": [
       "<div>\n",
       "<style scoped>\n",
       "    .dataframe tbody tr th:only-of-type {\n",
       "        vertical-align: middle;\n",
       "    }\n",
       "\n",
       "    .dataframe tbody tr th {\n",
       "        vertical-align: top;\n",
       "    }\n",
       "\n",
       "    .dataframe thead th {\n",
       "        text-align: right;\n",
       "    }\n",
       "</style>\n",
       "<table border=\"1\" class=\"dataframe\">\n",
       "  <thead>\n",
       "    <tr style=\"text-align: right;\">\n",
       "      <th></th>\n",
       "      <th>Nome</th>\n",
       "      <th>Motor</th>\n",
       "      <th>Ano</th>\n",
       "      <th>Quilometragem</th>\n",
       "      <th>Zero_km</th>\n",
       "      <th>Valor</th>\n",
       "    </tr>\n",
       "  </thead>\n",
       "  <tbody>\n",
       "    <tr>\n",
       "      <th>0</th>\n",
       "      <td>Jetta Variant</td>\n",
       "      <td>Motor 4.0 Turbo</td>\n",
       "      <td>2003</td>\n",
       "      <td>44410.0</td>\n",
       "      <td>False</td>\n",
       "      <td>88078.64</td>\n",
       "    </tr>\n",
       "    <tr>\n",
       "      <th>1</th>\n",
       "      <td>Passat</td>\n",
       "      <td>Motor Diesel</td>\n",
       "      <td>1991</td>\n",
       "      <td>5712.0</td>\n",
       "      <td>False</td>\n",
       "      <td>106161.94</td>\n",
       "    </tr>\n",
       "    <tr>\n",
       "      <th>2</th>\n",
       "      <td>Crossfox</td>\n",
       "      <td>Motor Diesel V8</td>\n",
       "      <td>1990</td>\n",
       "      <td>37123.0</td>\n",
       "      <td>False</td>\n",
       "      <td>72832.16</td>\n",
       "    </tr>\n",
       "  </tbody>\n",
       "</table>\n",
       "</div>"
      ],
      "text/plain": [
       "            Nome            Motor   Ano  Quilometragem  Zero_km      Valor\n",
       "0  Jetta Variant  Motor 4.0 Turbo  2003        44410.0    False   88078.64\n",
       "1         Passat     Motor Diesel  1991         5712.0    False  106161.94\n",
       "2       Crossfox  Motor Diesel V8  1990        37123.0    False   72832.16"
      ]
     },
     "execution_count": 106,
     "metadata": {},
     "output_type": "execute_result"
    }
   ],
   "source": [
    "dataset"
   ]
  },
  {
   "cell_type": "code",
   "execution_count": 107,
   "metadata": {
    "colab": {
     "base_uri": "https://localhost:8080/",
     "height": 143
    },
    "id": "2kbyOThiD1BJ",
    "outputId": "a4439df6-3d14-4666-8e3a-aa10a504bdfa"
   },
   "outputs": [
    {
     "data": {
      "text/html": [
       "<div>\n",
       "<style scoped>\n",
       "    .dataframe tbody tr th:only-of-type {\n",
       "        vertical-align: middle;\n",
       "    }\n",
       "\n",
       "    .dataframe tbody tr th {\n",
       "        vertical-align: top;\n",
       "    }\n",
       "\n",
       "    .dataframe thead th {\n",
       "        text-align: right;\n",
       "    }\n",
       "</style>\n",
       "<table border=\"1\" class=\"dataframe\">\n",
       "  <thead>\n",
       "    <tr style=\"text-align: right;\">\n",
       "      <th></th>\n",
       "      <th>Ano</th>\n",
       "      <th>Valor</th>\n",
       "    </tr>\n",
       "  </thead>\n",
       "  <tbody>\n",
       "    <tr>\n",
       "      <th>0</th>\n",
       "      <td>2003</td>\n",
       "      <td>88078.64</td>\n",
       "    </tr>\n",
       "    <tr>\n",
       "      <th>1</th>\n",
       "      <td>1991</td>\n",
       "      <td>106161.94</td>\n",
       "    </tr>\n",
       "    <tr>\n",
       "      <th>2</th>\n",
       "      <td>1990</td>\n",
       "      <td>72832.16</td>\n",
       "    </tr>\n",
       "  </tbody>\n",
       "</table>\n",
       "</div>"
      ],
      "text/plain": [
       "    Ano      Valor\n",
       "0  2003   88078.64\n",
       "1  1991  106161.94\n",
       "2  1990   72832.16"
      ]
     },
     "execution_count": 107,
     "metadata": {},
     "output_type": "execute_result"
    }
   ],
   "source": [
    "dataset[['Ano','Valor']]"
   ]
  },
  {
   "cell_type": "markdown",
   "metadata": {
    "id": "pJK2tQgYD1BK"
   },
   "source": [
    "### Criando um DataFrame a partir de um dicionário"
   ]
  },
  {
   "cell_type": "code",
   "execution_count": 108,
   "metadata": {
    "id": "WKNQwKucD1BK"
   },
   "outputs": [],
   "source": [
    "#cada key representa uma coluna SEMPRE\n",
    "dados = {\n",
    "    'Nome': ['Jetta Variant', 'Passat', 'Crossfox'], \n",
    "    'Motor': ['Motor 4.0 Turbo', 'Motor Diesel', 'Motor Diesel V8'],\n",
    "    'Ano': [2003, 1991, 1990],\n",
    "    'Quilometragem': [44410.0, 5712.0, 37123.0],\n",
    "    'Zero_km': [False, False, False],\n",
    "    'Valor': [88078.64, 106161.94, 72832.16]\n",
    "}"
   ]
  },
  {
   "cell_type": "code",
   "execution_count": 109,
   "metadata": {
    "id": "lKnuZfzcD1BK"
   },
   "outputs": [],
   "source": [
    "dataset = pd.DataFrame(dados)\n"
   ]
  },
  {
   "cell_type": "code",
   "execution_count": 110,
   "metadata": {
    "colab": {
     "base_uri": "https://localhost:8080/",
     "height": 143
    },
    "id": "PNqTytC-D1BL",
    "outputId": "8b4b401f-fff8-4022-caa2-477e7257f07f"
   },
   "outputs": [
    {
     "data": {
      "text/html": [
       "<div>\n",
       "<style scoped>\n",
       "    .dataframe tbody tr th:only-of-type {\n",
       "        vertical-align: middle;\n",
       "    }\n",
       "\n",
       "    .dataframe tbody tr th {\n",
       "        vertical-align: top;\n",
       "    }\n",
       "\n",
       "    .dataframe thead th {\n",
       "        text-align: right;\n",
       "    }\n",
       "</style>\n",
       "<table border=\"1\" class=\"dataframe\">\n",
       "  <thead>\n",
       "    <tr style=\"text-align: right;\">\n",
       "      <th></th>\n",
       "      <th>Nome</th>\n",
       "      <th>Motor</th>\n",
       "      <th>Ano</th>\n",
       "      <th>Quilometragem</th>\n",
       "      <th>Zero_km</th>\n",
       "      <th>Valor</th>\n",
       "    </tr>\n",
       "  </thead>\n",
       "  <tbody>\n",
       "    <tr>\n",
       "      <th>0</th>\n",
       "      <td>Jetta Variant</td>\n",
       "      <td>Motor 4.0 Turbo</td>\n",
       "      <td>2003</td>\n",
       "      <td>44410.0</td>\n",
       "      <td>False</td>\n",
       "      <td>88078.64</td>\n",
       "    </tr>\n",
       "    <tr>\n",
       "      <th>1</th>\n",
       "      <td>Passat</td>\n",
       "      <td>Motor Diesel</td>\n",
       "      <td>1991</td>\n",
       "      <td>5712.0</td>\n",
       "      <td>False</td>\n",
       "      <td>106161.94</td>\n",
       "    </tr>\n",
       "    <tr>\n",
       "      <th>2</th>\n",
       "      <td>Crossfox</td>\n",
       "      <td>Motor Diesel V8</td>\n",
       "      <td>1990</td>\n",
       "      <td>37123.0</td>\n",
       "      <td>False</td>\n",
       "      <td>72832.16</td>\n",
       "    </tr>\n",
       "  </tbody>\n",
       "</table>\n",
       "</div>"
      ],
      "text/plain": [
       "            Nome            Motor   Ano  Quilometragem  Zero_km      Valor\n",
       "0  Jetta Variant  Motor 4.0 Turbo  2003        44410.0    False   88078.64\n",
       "1         Passat     Motor Diesel  1991         5712.0    False  106161.94\n",
       "2       Crossfox  Motor Diesel V8  1990        37123.0    False   72832.16"
      ]
     },
     "execution_count": 110,
     "metadata": {},
     "output_type": "execute_result"
    }
   ],
   "source": [
    "dataset"
   ]
  },
  {
   "cell_type": "markdown",
   "metadata": {
    "id": "fCCXs0reD1BL"
   },
   "source": [
    "### Criando um DataFrame a partir de uma arquivo externo"
   ]
  },
  {
   "cell_type": "code",
   "execution_count": 111,
   "metadata": {
    "id": "78PRHGeZD1BL"
   },
   "outputs": [],
   "source": [
    "#O parametro index col seleciona o indice padrao do meu dataframe\n",
    "dataset = pd.read_csv('https://raw.githubusercontent.com/xxGabrielNeryxx/ProjetosDataScience/main/Python_Pandas/Data/db.csv', sep=';', index_col=0)"
   ]
  },
  {
   "cell_type": "code",
   "execution_count": 112,
   "metadata": {
    "colab": {
     "base_uri": "https://localhost:8080/",
     "height": 455
    },
    "id": "1o1YlnVPD1BM",
    "outputId": "55bdece1-170b-4d1c-86fa-db1ecc7ef453",
    "scrolled": true
   },
   "outputs": [
    {
     "data": {
      "text/html": [
       "<div>\n",
       "<style scoped>\n",
       "    .dataframe tbody tr th:only-of-type {\n",
       "        vertical-align: middle;\n",
       "    }\n",
       "\n",
       "    .dataframe tbody tr th {\n",
       "        vertical-align: top;\n",
       "    }\n",
       "\n",
       "    .dataframe thead th {\n",
       "        text-align: right;\n",
       "    }\n",
       "</style>\n",
       "<table border=\"1\" class=\"dataframe\">\n",
       "  <thead>\n",
       "    <tr style=\"text-align: right;\">\n",
       "      <th></th>\n",
       "      <th>Motor</th>\n",
       "      <th>Ano</th>\n",
       "      <th>Quilometragem</th>\n",
       "      <th>Zero_km</th>\n",
       "      <th>Acessórios</th>\n",
       "      <th>Valor</th>\n",
       "    </tr>\n",
       "    <tr>\n",
       "      <th>Nome</th>\n",
       "      <th></th>\n",
       "      <th></th>\n",
       "      <th></th>\n",
       "      <th></th>\n",
       "      <th></th>\n",
       "      <th></th>\n",
       "    </tr>\n",
       "  </thead>\n",
       "  <tbody>\n",
       "    <tr>\n",
       "      <th>Jetta Variant</th>\n",
       "      <td>Motor 4.0 Turbo</td>\n",
       "      <td>2003</td>\n",
       "      <td>44410.0</td>\n",
       "      <td>False</td>\n",
       "      <td>['Rodas de liga', 'Travas elétricas', 'Piloto ...</td>\n",
       "      <td>88078.64</td>\n",
       "    </tr>\n",
       "    <tr>\n",
       "      <th>Passat</th>\n",
       "      <td>Motor Diesel</td>\n",
       "      <td>1991</td>\n",
       "      <td>5712.0</td>\n",
       "      <td>False</td>\n",
       "      <td>['Central multimídia', 'Teto panorâmico', 'Fre...</td>\n",
       "      <td>106161.94</td>\n",
       "    </tr>\n",
       "    <tr>\n",
       "      <th>Crossfox</th>\n",
       "      <td>Motor Diesel V8</td>\n",
       "      <td>1990</td>\n",
       "      <td>37123.0</td>\n",
       "      <td>False</td>\n",
       "      <td>['Piloto automático', 'Controle de estabilidad...</td>\n",
       "      <td>72832.16</td>\n",
       "    </tr>\n",
       "    <tr>\n",
       "      <th>DS5</th>\n",
       "      <td>Motor 2.4 Turbo</td>\n",
       "      <td>2019</td>\n",
       "      <td>NaN</td>\n",
       "      <td>True</td>\n",
       "      <td>['Travas elétricas', '4 X 4', 'Vidros elétrico...</td>\n",
       "      <td>124549.07</td>\n",
       "    </tr>\n",
       "    <tr>\n",
       "      <th>Aston Martin DB4</th>\n",
       "      <td>Motor 2.4 Turbo</td>\n",
       "      <td>2006</td>\n",
       "      <td>25757.0</td>\n",
       "      <td>False</td>\n",
       "      <td>['Rodas de liga', '4 X 4', 'Central multimídia...</td>\n",
       "      <td>92612.10</td>\n",
       "    </tr>\n",
       "    <tr>\n",
       "      <th>...</th>\n",
       "      <td>...</td>\n",
       "      <td>...</td>\n",
       "      <td>...</td>\n",
       "      <td>...</td>\n",
       "      <td>...</td>\n",
       "      <td>...</td>\n",
       "    </tr>\n",
       "    <tr>\n",
       "      <th>Phantom 2013</th>\n",
       "      <td>Motor V8</td>\n",
       "      <td>2014</td>\n",
       "      <td>27505.0</td>\n",
       "      <td>False</td>\n",
       "      <td>['Controle de estabilidade', 'Piloto automátic...</td>\n",
       "      <td>51759.58</td>\n",
       "    </tr>\n",
       "    <tr>\n",
       "      <th>Cadillac Ciel concept</th>\n",
       "      <td>Motor V8</td>\n",
       "      <td>1991</td>\n",
       "      <td>29981.0</td>\n",
       "      <td>False</td>\n",
       "      <td>['Bancos de couro', 'Painel digital', 'Sensor ...</td>\n",
       "      <td>51667.06</td>\n",
       "    </tr>\n",
       "    <tr>\n",
       "      <th>Classe GLK</th>\n",
       "      <td>Motor 5.0 V8 Bi-Turbo</td>\n",
       "      <td>2002</td>\n",
       "      <td>52637.0</td>\n",
       "      <td>False</td>\n",
       "      <td>['Rodas de liga', 'Controle de tração', 'Câmbi...</td>\n",
       "      <td>68934.03</td>\n",
       "    </tr>\n",
       "    <tr>\n",
       "      <th>Aston Martin DB5</th>\n",
       "      <td>Motor Diesel</td>\n",
       "      <td>1996</td>\n",
       "      <td>7685.0</td>\n",
       "      <td>False</td>\n",
       "      <td>['Ar condicionado', '4 X 4', 'Câmbio automátic...</td>\n",
       "      <td>122110.90</td>\n",
       "    </tr>\n",
       "    <tr>\n",
       "      <th>Macan</th>\n",
       "      <td>Motor Diesel V6</td>\n",
       "      <td>1992</td>\n",
       "      <td>50188.0</td>\n",
       "      <td>False</td>\n",
       "      <td>['Central multimídia', 'Teto panorâmico', 'Vid...</td>\n",
       "      <td>90381.47</td>\n",
       "    </tr>\n",
       "  </tbody>\n",
       "</table>\n",
       "<p>258 rows × 6 columns</p>\n",
       "</div>"
      ],
      "text/plain": [
       "                                       Motor   Ano  Quilometragem  Zero_km  \\\n",
       "Nome                                                                         \n",
       "Jetta Variant                Motor 4.0 Turbo  2003        44410.0    False   \n",
       "Passat                          Motor Diesel  1991         5712.0    False   \n",
       "Crossfox                     Motor Diesel V8  1990        37123.0    False   \n",
       "DS5                          Motor 2.4 Turbo  2019            NaN     True   \n",
       "Aston Martin DB4             Motor 2.4 Turbo  2006        25757.0    False   \n",
       "...                                      ...   ...            ...      ...   \n",
       "Phantom 2013                        Motor V8  2014        27505.0    False   \n",
       "Cadillac Ciel concept               Motor V8  1991        29981.0    False   \n",
       "Classe GLK             Motor 5.0 V8 Bi-Turbo  2002        52637.0    False   \n",
       "Aston Martin DB5                Motor Diesel  1996         7685.0    False   \n",
       "Macan                        Motor Diesel V6  1992        50188.0    False   \n",
       "\n",
       "                                                              Acessórios  \\\n",
       "Nome                                                                       \n",
       "Jetta Variant          ['Rodas de liga', 'Travas elétricas', 'Piloto ...   \n",
       "Passat                 ['Central multimídia', 'Teto panorâmico', 'Fre...   \n",
       "Crossfox               ['Piloto automático', 'Controle de estabilidad...   \n",
       "DS5                    ['Travas elétricas', '4 X 4', 'Vidros elétrico...   \n",
       "Aston Martin DB4       ['Rodas de liga', '4 X 4', 'Central multimídia...   \n",
       "...                                                                  ...   \n",
       "Phantom 2013           ['Controle de estabilidade', 'Piloto automátic...   \n",
       "Cadillac Ciel concept  ['Bancos de couro', 'Painel digital', 'Sensor ...   \n",
       "Classe GLK             ['Rodas de liga', 'Controle de tração', 'Câmbi...   \n",
       "Aston Martin DB5       ['Ar condicionado', '4 X 4', 'Câmbio automátic...   \n",
       "Macan                  ['Central multimídia', 'Teto panorâmico', 'Vid...   \n",
       "\n",
       "                           Valor  \n",
       "Nome                              \n",
       "Jetta Variant           88078.64  \n",
       "Passat                 106161.94  \n",
       "Crossfox                72832.16  \n",
       "DS5                    124549.07  \n",
       "Aston Martin DB4        92612.10  \n",
       "...                          ...  \n",
       "Phantom 2013            51759.58  \n",
       "Cadillac Ciel concept   51667.06  \n",
       "Classe GLK              68934.03  \n",
       "Aston Martin DB5       122110.90  \n",
       "Macan                   90381.47  \n",
       "\n",
       "[258 rows x 6 columns]"
      ]
     },
     "execution_count": 112,
     "metadata": {},
     "output_type": "execute_result"
    }
   ],
   "source": [
    "dataset"
   ]
  },
  {
   "cell_type": "markdown",
   "metadata": {
    "id": "y5V-1AK-D1BN"
   },
   "source": [
    "# 5.2 Seleções com DataFrames"
   ]
  },
  {
   "cell_type": "markdown",
   "metadata": {
    "id": "wZjqlHe9D1BN"
   },
   "source": [
    "### Selecionando colunas"
   ]
  },
  {
   "cell_type": "code",
   "execution_count": 113,
   "metadata": {
    "colab": {
     "base_uri": "https://localhost:8080/"
    },
    "id": "gM3LbtzlD1BN",
    "outputId": "2169b7e7-0276-4aa5-d4c8-cc091cb4b9fc",
    "scrolled": true
   },
   "outputs": [
    {
     "data": {
      "text/plain": [
       "Nome\n",
       "Jetta Variant             88078.64\n",
       "Passat                   106161.94\n",
       "Crossfox                  72832.16\n",
       "DS5                      124549.07\n",
       "Aston Martin DB4          92612.10\n",
       "                           ...    \n",
       "Phantom 2013              51759.58\n",
       "Cadillac Ciel concept     51667.06\n",
       "Classe GLK                68934.03\n",
       "Aston Martin DB5         122110.90\n",
       "Macan                     90381.47\n",
       "Name: Valor, Length: 258, dtype: float64"
      ]
     },
     "execution_count": 113,
     "metadata": {},
     "output_type": "execute_result"
    }
   ],
   "source": [
    "dataset['Valor']"
   ]
  },
  {
   "cell_type": "code",
   "execution_count": 114,
   "metadata": {
    "colab": {
     "base_uri": "https://localhost:8080/"
    },
    "id": "R2FWgCM_D1BO",
    "outputId": "69747593-29d5-411f-e46e-c46dd9147969"
   },
   "outputs": [
    {
     "data": {
      "text/plain": [
       "pandas.core.series.Series"
      ]
     },
     "execution_count": 114,
     "metadata": {},
     "output_type": "execute_result"
    }
   ],
   "source": [
    "type(dataset['Valor'])"
   ]
  },
  {
   "cell_type": "code",
   "execution_count": 115,
   "metadata": {
    "colab": {
     "base_uri": "https://localhost:8080/",
     "height": 455
    },
    "id": "lCCumsxsD1BP",
    "outputId": "051931f8-33e0-4282-84a9-0278d69ff6c4",
    "scrolled": true
   },
   "outputs": [
    {
     "data": {
      "text/html": [
       "<div>\n",
       "<style scoped>\n",
       "    .dataframe tbody tr th:only-of-type {\n",
       "        vertical-align: middle;\n",
       "    }\n",
       "\n",
       "    .dataframe tbody tr th {\n",
       "        vertical-align: top;\n",
       "    }\n",
       "\n",
       "    .dataframe thead th {\n",
       "        text-align: right;\n",
       "    }\n",
       "</style>\n",
       "<table border=\"1\" class=\"dataframe\">\n",
       "  <thead>\n",
       "    <tr style=\"text-align: right;\">\n",
       "      <th></th>\n",
       "      <th>Valor</th>\n",
       "    </tr>\n",
       "    <tr>\n",
       "      <th>Nome</th>\n",
       "      <th></th>\n",
       "    </tr>\n",
       "  </thead>\n",
       "  <tbody>\n",
       "    <tr>\n",
       "      <th>Jetta Variant</th>\n",
       "      <td>88078.64</td>\n",
       "    </tr>\n",
       "    <tr>\n",
       "      <th>Passat</th>\n",
       "      <td>106161.94</td>\n",
       "    </tr>\n",
       "    <tr>\n",
       "      <th>Crossfox</th>\n",
       "      <td>72832.16</td>\n",
       "    </tr>\n",
       "    <tr>\n",
       "      <th>DS5</th>\n",
       "      <td>124549.07</td>\n",
       "    </tr>\n",
       "    <tr>\n",
       "      <th>Aston Martin DB4</th>\n",
       "      <td>92612.10</td>\n",
       "    </tr>\n",
       "    <tr>\n",
       "      <th>...</th>\n",
       "      <td>...</td>\n",
       "    </tr>\n",
       "    <tr>\n",
       "      <th>Phantom 2013</th>\n",
       "      <td>51759.58</td>\n",
       "    </tr>\n",
       "    <tr>\n",
       "      <th>Cadillac Ciel concept</th>\n",
       "      <td>51667.06</td>\n",
       "    </tr>\n",
       "    <tr>\n",
       "      <th>Classe GLK</th>\n",
       "      <td>68934.03</td>\n",
       "    </tr>\n",
       "    <tr>\n",
       "      <th>Aston Martin DB5</th>\n",
       "      <td>122110.90</td>\n",
       "    </tr>\n",
       "    <tr>\n",
       "      <th>Macan</th>\n",
       "      <td>90381.47</td>\n",
       "    </tr>\n",
       "  </tbody>\n",
       "</table>\n",
       "<p>258 rows × 1 columns</p>\n",
       "</div>"
      ],
      "text/plain": [
       "                           Valor\n",
       "Nome                            \n",
       "Jetta Variant           88078.64\n",
       "Passat                 106161.94\n",
       "Crossfox                72832.16\n",
       "DS5                    124549.07\n",
       "Aston Martin DB4        92612.10\n",
       "...                          ...\n",
       "Phantom 2013            51759.58\n",
       "Cadillac Ciel concept   51667.06\n",
       "Classe GLK              68934.03\n",
       "Aston Martin DB5       122110.90\n",
       "Macan                   90381.47\n",
       "\n",
       "[258 rows x 1 columns]"
      ]
     },
     "execution_count": 115,
     "metadata": {},
     "output_type": "execute_result"
    }
   ],
   "source": [
    "#como transformar uma Series e mum DF? usar 2 colchetes\n",
    "#Como se eu tivesse selecionando mais de uma coluna\n",
    "dataset[['Valor']]"
   ]
  },
  {
   "cell_type": "code",
   "execution_count": 116,
   "metadata": {
    "colab": {
     "base_uri": "https://localhost:8080/"
    },
    "id": "zxlyC3B8D1BP",
    "outputId": "0f76fbb9-f042-451e-a87e-4604c789bf77"
   },
   "outputs": [
    {
     "data": {
      "text/plain": [
       "pandas.core.frame.DataFrame"
      ]
     },
     "execution_count": 116,
     "metadata": {},
     "output_type": "execute_result"
    }
   ],
   "source": [
    "type(dataset[['Valor']])"
   ]
  },
  {
   "cell_type": "markdown",
   "metadata": {
    "id": "7RPXPm1XD1BQ"
   },
   "source": [
    "### Selecionando linhas - [ i : j ] \n",
    "\n",
    "<font color=red>**Observação:**</font> A indexação tem origem no zero e nos fatiamentos (*slices*) a linha com índice i é **incluída** e a linha com índice j **não é incluída** no resultado."
   ]
  },
  {
   "cell_type": "code",
   "execution_count": 117,
   "metadata": {
    "colab": {
     "base_uri": "https://localhost:8080/",
     "height": 206
    },
    "id": "PdDUwPw3D1BQ",
    "outputId": "73b0bceb-db5d-4beb-a001-46367e4f97e4"
   },
   "outputs": [
    {
     "data": {
      "text/html": [
       "<div>\n",
       "<style scoped>\n",
       "    .dataframe tbody tr th:only-of-type {\n",
       "        vertical-align: middle;\n",
       "    }\n",
       "\n",
       "    .dataframe tbody tr th {\n",
       "        vertical-align: top;\n",
       "    }\n",
       "\n",
       "    .dataframe thead th {\n",
       "        text-align: right;\n",
       "    }\n",
       "</style>\n",
       "<table border=\"1\" class=\"dataframe\">\n",
       "  <thead>\n",
       "    <tr style=\"text-align: right;\">\n",
       "      <th></th>\n",
       "      <th>Motor</th>\n",
       "      <th>Ano</th>\n",
       "      <th>Quilometragem</th>\n",
       "      <th>Zero_km</th>\n",
       "      <th>Acessórios</th>\n",
       "      <th>Valor</th>\n",
       "    </tr>\n",
       "    <tr>\n",
       "      <th>Nome</th>\n",
       "      <th></th>\n",
       "      <th></th>\n",
       "      <th></th>\n",
       "      <th></th>\n",
       "      <th></th>\n",
       "      <th></th>\n",
       "    </tr>\n",
       "  </thead>\n",
       "  <tbody>\n",
       "    <tr>\n",
       "      <th>Jetta Variant</th>\n",
       "      <td>Motor 4.0 Turbo</td>\n",
       "      <td>2003</td>\n",
       "      <td>44410.0</td>\n",
       "      <td>False</td>\n",
       "      <td>['Rodas de liga', 'Travas elétricas', 'Piloto ...</td>\n",
       "      <td>88078.64</td>\n",
       "    </tr>\n",
       "    <tr>\n",
       "      <th>Passat</th>\n",
       "      <td>Motor Diesel</td>\n",
       "      <td>1991</td>\n",
       "      <td>5712.0</td>\n",
       "      <td>False</td>\n",
       "      <td>['Central multimídia', 'Teto panorâmico', 'Fre...</td>\n",
       "      <td>106161.94</td>\n",
       "    </tr>\n",
       "    <tr>\n",
       "      <th>Crossfox</th>\n",
       "      <td>Motor Diesel V8</td>\n",
       "      <td>1990</td>\n",
       "      <td>37123.0</td>\n",
       "      <td>False</td>\n",
       "      <td>['Piloto automático', 'Controle de estabilidad...</td>\n",
       "      <td>72832.16</td>\n",
       "    </tr>\n",
       "    <tr>\n",
       "      <th>DS5</th>\n",
       "      <td>Motor 2.4 Turbo</td>\n",
       "      <td>2019</td>\n",
       "      <td>NaN</td>\n",
       "      <td>True</td>\n",
       "      <td>['Travas elétricas', '4 X 4', 'Vidros elétrico...</td>\n",
       "      <td>124549.07</td>\n",
       "    </tr>\n",
       "  </tbody>\n",
       "</table>\n",
       "</div>"
      ],
      "text/plain": [
       "                         Motor   Ano  Quilometragem  Zero_km  \\\n",
       "Nome                                                           \n",
       "Jetta Variant  Motor 4.0 Turbo  2003        44410.0    False   \n",
       "Passat            Motor Diesel  1991         5712.0    False   \n",
       "Crossfox       Motor Diesel V8  1990        37123.0    False   \n",
       "DS5            Motor 2.4 Turbo  2019            NaN     True   \n",
       "\n",
       "                                                      Acessórios      Valor  \n",
       "Nome                                                                         \n",
       "Jetta Variant  ['Rodas de liga', 'Travas elétricas', 'Piloto ...   88078.64  \n",
       "Passat         ['Central multimídia', 'Teto panorâmico', 'Fre...  106161.94  \n",
       "Crossfox       ['Piloto automático', 'Controle de estabilidad...   72832.16  \n",
       "DS5            ['Travas elétricas', '4 X 4', 'Vidros elétrico...  124549.07  "
      ]
     },
     "execution_count": 117,
     "metadata": {},
     "output_type": "execute_result"
    }
   ],
   "source": [
    "dataset[0:4] #seleciono da linha 0 a linha 3 "
   ]
  },
  {
   "cell_type": "markdown",
   "metadata": {
    "id": "G3DMSk97D1BR"
   },
   "source": [
    "### Utilizando .loc para seleções\n",
    "\n",
    "<font color=red>**Observação:**</font> Seleciona um grupo de linhas e colunas segundo os rótulos ou uma matriz booleana."
   ]
  },
  {
   "cell_type": "code",
   "execution_count": 118,
   "metadata": {
    "colab": {
     "base_uri": "https://localhost:8080/"
    },
    "id": "Ftg-hNOoD1BR",
    "outputId": "c96e6438-85af-4ad6-9062-9f5c892b418c"
   },
   "outputs": [
    {
     "data": {
      "text/plain": [
       "Motor                                                 Motor Diesel\n",
       "Ano                                                           1991\n",
       "Quilometragem                                               5712.0\n",
       "Zero_km                                                      False\n",
       "Acessórios       ['Central multimídia', 'Teto panorâmico', 'Fre...\n",
       "Valor                                                    106161.94\n",
       "Name: Passat, dtype: object"
      ]
     },
     "execution_count": 118,
     "metadata": {},
     "output_type": "execute_result"
    }
   ],
   "source": [
    "#retorna uma series com o valor da linha especificado por mim\n",
    "dataset.loc['Passat'] #seleciona as linhas com o rotulo(index) escolhido"
   ]
  },
  {
   "cell_type": "code",
   "execution_count": 119,
   "metadata": {
    "colab": {
     "base_uri": "https://localhost:8080/",
     "height": 143
    },
    "id": "xdxkDrHvD1BS",
    "outputId": "d220e21e-39fa-431c-c00b-1f8d6702086d"
   },
   "outputs": [
    {
     "data": {
      "text/html": [
       "<div>\n",
       "<style scoped>\n",
       "    .dataframe tbody tr th:only-of-type {\n",
       "        vertical-align: middle;\n",
       "    }\n",
       "\n",
       "    .dataframe tbody tr th {\n",
       "        vertical-align: top;\n",
       "    }\n",
       "\n",
       "    .dataframe thead th {\n",
       "        text-align: right;\n",
       "    }\n",
       "</style>\n",
       "<table border=\"1\" class=\"dataframe\">\n",
       "  <thead>\n",
       "    <tr style=\"text-align: right;\">\n",
       "      <th></th>\n",
       "      <th>Motor</th>\n",
       "      <th>Ano</th>\n",
       "      <th>Quilometragem</th>\n",
       "      <th>Zero_km</th>\n",
       "      <th>Acessórios</th>\n",
       "      <th>Valor</th>\n",
       "    </tr>\n",
       "    <tr>\n",
       "      <th>Nome</th>\n",
       "      <th></th>\n",
       "      <th></th>\n",
       "      <th></th>\n",
       "      <th></th>\n",
       "      <th></th>\n",
       "      <th></th>\n",
       "    </tr>\n",
       "  </thead>\n",
       "  <tbody>\n",
       "    <tr>\n",
       "      <th>Passat</th>\n",
       "      <td>Motor Diesel</td>\n",
       "      <td>1991</td>\n",
       "      <td>5712.0</td>\n",
       "      <td>False</td>\n",
       "      <td>['Central multimídia', 'Teto panorâmico', 'Fre...</td>\n",
       "      <td>106161.94</td>\n",
       "    </tr>\n",
       "    <tr>\n",
       "      <th>DS5</th>\n",
       "      <td>Motor 2.4 Turbo</td>\n",
       "      <td>2019</td>\n",
       "      <td>NaN</td>\n",
       "      <td>True</td>\n",
       "      <td>['Travas elétricas', '4 X 4', 'Vidros elétrico...</td>\n",
       "      <td>124549.07</td>\n",
       "    </tr>\n",
       "  </tbody>\n",
       "</table>\n",
       "</div>"
      ],
      "text/plain": [
       "                  Motor   Ano  Quilometragem  Zero_km  \\\n",
       "Nome                                                    \n",
       "Passat     Motor Diesel  1991         5712.0    False   \n",
       "DS5     Motor 2.4 Turbo  2019            NaN     True   \n",
       "\n",
       "                                               Acessórios      Valor  \n",
       "Nome                                                                  \n",
       "Passat  ['Central multimídia', 'Teto panorâmico', 'Fre...  106161.94  \n",
       "DS5     ['Travas elétricas', '4 X 4', 'Vidros elétrico...  124549.07  "
      ]
     },
     "execution_count": 119,
     "metadata": {},
     "output_type": "execute_result"
    }
   ],
   "source": [
    "#retorna um DF das linhas cujo valor de 'Nome' é 'Passat' e 'DS5'\n",
    "dataset.loc[['Passat', 'DS5']]"
   ]
  },
  {
   "cell_type": "code",
   "execution_count": 120,
   "metadata": {
    "colab": {
     "base_uri": "https://localhost:8080/",
     "height": 143
    },
    "id": "pMN3U1KjD1BS",
    "outputId": "711dfe50-ef4b-45ab-f55c-39d3dac1d61e"
   },
   "outputs": [
    {
     "data": {
      "text/html": [
       "<div>\n",
       "<style scoped>\n",
       "    .dataframe tbody tr th:only-of-type {\n",
       "        vertical-align: middle;\n",
       "    }\n",
       "\n",
       "    .dataframe tbody tr th {\n",
       "        vertical-align: top;\n",
       "    }\n",
       "\n",
       "    .dataframe thead th {\n",
       "        text-align: right;\n",
       "    }\n",
       "</style>\n",
       "<table border=\"1\" class=\"dataframe\">\n",
       "  <thead>\n",
       "    <tr style=\"text-align: right;\">\n",
       "      <th></th>\n",
       "      <th>Motor</th>\n",
       "      <th>Valor</th>\n",
       "    </tr>\n",
       "    <tr>\n",
       "      <th>Nome</th>\n",
       "      <th></th>\n",
       "      <th></th>\n",
       "    </tr>\n",
       "  </thead>\n",
       "  <tbody>\n",
       "    <tr>\n",
       "      <th>Passat</th>\n",
       "      <td>Motor Diesel</td>\n",
       "      <td>106161.94</td>\n",
       "    </tr>\n",
       "    <tr>\n",
       "      <th>DS5</th>\n",
       "      <td>Motor 2.4 Turbo</td>\n",
       "      <td>124549.07</td>\n",
       "    </tr>\n",
       "  </tbody>\n",
       "</table>\n",
       "</div>"
      ],
      "text/plain": [
       "                  Motor      Valor\n",
       "Nome                              \n",
       "Passat     Motor Diesel  106161.94\n",
       "DS5     Motor 2.4 Turbo  124549.07"
      ]
     },
     "execution_count": 120,
     "metadata": {},
     "output_type": "execute_result"
    }
   ],
   "source": [
    "#Assim como no numpy: array[a,b], a = informaçoes da linha e b = informaçoes da coluna\n",
    "dataset.loc[['Passat', 'DS5'] , ['Motor','Valor']] #antes da virgula estao infos da linha e depois da virgula infos da coluna"
   ]
  },
  {
   "cell_type": "code",
   "execution_count": 121,
   "metadata": {
    "colab": {
     "base_uri": "https://localhost:8080/",
     "height": 143
    },
    "id": "_miNLEDf0W_w",
    "outputId": "eef738a9-562b-41fa-db1e-ad818aa8e920"
   },
   "outputs": [
    {
     "data": {
      "text/html": [
       "<div>\n",
       "<style scoped>\n",
       "    .dataframe tbody tr th:only-of-type {\n",
       "        vertical-align: middle;\n",
       "    }\n",
       "\n",
       "    .dataframe tbody tr th {\n",
       "        vertical-align: top;\n",
       "    }\n",
       "\n",
       "    .dataframe thead th {\n",
       "        text-align: right;\n",
       "    }\n",
       "</style>\n",
       "<table border=\"1\" class=\"dataframe\">\n",
       "  <thead>\n",
       "    <tr style=\"text-align: right;\">\n",
       "      <th></th>\n",
       "      <th>Motor</th>\n",
       "      <th>Valor</th>\n",
       "    </tr>\n",
       "    <tr>\n",
       "      <th>Nome</th>\n",
       "      <th></th>\n",
       "      <th></th>\n",
       "    </tr>\n",
       "  </thead>\n",
       "  <tbody>\n",
       "    <tr>\n",
       "      <th>Passat</th>\n",
       "      <td>Motor Diesel</td>\n",
       "      <td>106161.94</td>\n",
       "    </tr>\n",
       "    <tr>\n",
       "      <th>DS5</th>\n",
       "      <td>Motor 2.4 Turbo</td>\n",
       "      <td>124549.07</td>\n",
       "    </tr>\n",
       "  </tbody>\n",
       "</table>\n",
       "</div>"
      ],
      "text/plain": [
       "                  Motor      Valor\n",
       "Nome                              \n",
       "Passat     Motor Diesel  106161.94\n",
       "DS5     Motor 2.4 Turbo  124549.07"
      ]
     },
     "execution_count": 121,
     "metadata": {},
     "output_type": "execute_result"
    }
   ],
   "source": [
    "#o codigo acima tambem pode ser feito dessa forma\n",
    "(dataset.loc[['Passat', 'DS5']])[['Motor','Valor']]"
   ]
  },
  {
   "cell_type": "code",
   "execution_count": 122,
   "metadata": {
    "colab": {
     "base_uri": "https://localhost:8080/",
     "height": 455
    },
    "id": "demIfW_v0Z6s",
    "outputId": "8efd9eb4-97ac-4ab0-b3c0-e3f769eddc19"
   },
   "outputs": [
    {
     "data": {
      "text/html": [
       "<div>\n",
       "<style scoped>\n",
       "    .dataframe tbody tr th:only-of-type {\n",
       "        vertical-align: middle;\n",
       "    }\n",
       "\n",
       "    .dataframe tbody tr th {\n",
       "        vertical-align: top;\n",
       "    }\n",
       "\n",
       "    .dataframe thead th {\n",
       "        text-align: right;\n",
       "    }\n",
       "</style>\n",
       "<table border=\"1\" class=\"dataframe\">\n",
       "  <thead>\n",
       "    <tr style=\"text-align: right;\">\n",
       "      <th></th>\n",
       "      <th>Motor</th>\n",
       "      <th>Valor</th>\n",
       "    </tr>\n",
       "    <tr>\n",
       "      <th>Nome</th>\n",
       "      <th></th>\n",
       "      <th></th>\n",
       "    </tr>\n",
       "  </thead>\n",
       "  <tbody>\n",
       "    <tr>\n",
       "      <th>Jetta Variant</th>\n",
       "      <td>Motor 4.0 Turbo</td>\n",
       "      <td>88078.64</td>\n",
       "    </tr>\n",
       "    <tr>\n",
       "      <th>Passat</th>\n",
       "      <td>Motor Diesel</td>\n",
       "      <td>106161.94</td>\n",
       "    </tr>\n",
       "    <tr>\n",
       "      <th>Crossfox</th>\n",
       "      <td>Motor Diesel V8</td>\n",
       "      <td>72832.16</td>\n",
       "    </tr>\n",
       "    <tr>\n",
       "      <th>DS5</th>\n",
       "      <td>Motor 2.4 Turbo</td>\n",
       "      <td>124549.07</td>\n",
       "    </tr>\n",
       "    <tr>\n",
       "      <th>Aston Martin DB4</th>\n",
       "      <td>Motor 2.4 Turbo</td>\n",
       "      <td>92612.10</td>\n",
       "    </tr>\n",
       "    <tr>\n",
       "      <th>...</th>\n",
       "      <td>...</td>\n",
       "      <td>...</td>\n",
       "    </tr>\n",
       "    <tr>\n",
       "      <th>Phantom 2013</th>\n",
       "      <td>Motor V8</td>\n",
       "      <td>51759.58</td>\n",
       "    </tr>\n",
       "    <tr>\n",
       "      <th>Cadillac Ciel concept</th>\n",
       "      <td>Motor V8</td>\n",
       "      <td>51667.06</td>\n",
       "    </tr>\n",
       "    <tr>\n",
       "      <th>Classe GLK</th>\n",
       "      <td>Motor 5.0 V8 Bi-Turbo</td>\n",
       "      <td>68934.03</td>\n",
       "    </tr>\n",
       "    <tr>\n",
       "      <th>Aston Martin DB5</th>\n",
       "      <td>Motor Diesel</td>\n",
       "      <td>122110.90</td>\n",
       "    </tr>\n",
       "    <tr>\n",
       "      <th>Macan</th>\n",
       "      <td>Motor Diesel V6</td>\n",
       "      <td>90381.47</td>\n",
       "    </tr>\n",
       "  </tbody>\n",
       "</table>\n",
       "<p>258 rows × 2 columns</p>\n",
       "</div>"
      ],
      "text/plain": [
       "                                       Motor      Valor\n",
       "Nome                                                   \n",
       "Jetta Variant                Motor 4.0 Turbo   88078.64\n",
       "Passat                          Motor Diesel  106161.94\n",
       "Crossfox                     Motor Diesel V8   72832.16\n",
       "DS5                          Motor 2.4 Turbo  124549.07\n",
       "Aston Martin DB4             Motor 2.4 Turbo   92612.10\n",
       "...                                      ...        ...\n",
       "Phantom 2013                        Motor V8   51759.58\n",
       "Cadillac Ciel concept               Motor V8   51667.06\n",
       "Classe GLK             Motor 5.0 V8 Bi-Turbo   68934.03\n",
       "Aston Martin DB5                Motor Diesel  122110.90\n",
       "Macan                        Motor Diesel V6   90381.47\n",
       "\n",
       "[258 rows x 2 columns]"
      ]
     },
     "execution_count": 122,
     "metadata": {},
     "output_type": "execute_result"
    }
   ],
   "source": [
    "#seleciona todas as linha e as colunas Motor e Valor\n",
    "dataset.loc[: ,['Motor', 'Valor']]"
   ]
  },
  {
   "cell_type": "markdown",
   "metadata": {
    "id": "SYKEe3vCD1BT"
   },
   "source": [
    "### Utilizando .iloc para seleções\n",
    "\n",
    "<font color=red>**Observação:**</font> Seleciona com base nos índices numericos, ou seja, se baseia na posição das informações."
   ]
  },
  {
   "cell_type": "code",
   "execution_count": 123,
   "metadata": {
    "colab": {
     "base_uri": "https://localhost:8080/",
     "height": 237
    },
    "id": "-uWL98ki1imD",
    "outputId": "8ed9d2cd-4f81-4222-b1a8-01c04fd332ca"
   },
   "outputs": [
    {
     "data": {
      "text/html": [
       "<div>\n",
       "<style scoped>\n",
       "    .dataframe tbody tr th:only-of-type {\n",
       "        vertical-align: middle;\n",
       "    }\n",
       "\n",
       "    .dataframe tbody tr th {\n",
       "        vertical-align: top;\n",
       "    }\n",
       "\n",
       "    .dataframe thead th {\n",
       "        text-align: right;\n",
       "    }\n",
       "</style>\n",
       "<table border=\"1\" class=\"dataframe\">\n",
       "  <thead>\n",
       "    <tr style=\"text-align: right;\">\n",
       "      <th></th>\n",
       "      <th>Motor</th>\n",
       "      <th>Ano</th>\n",
       "      <th>Quilometragem</th>\n",
       "      <th>Zero_km</th>\n",
       "      <th>Acessórios</th>\n",
       "      <th>Valor</th>\n",
       "    </tr>\n",
       "    <tr>\n",
       "      <th>Nome</th>\n",
       "      <th></th>\n",
       "      <th></th>\n",
       "      <th></th>\n",
       "      <th></th>\n",
       "      <th></th>\n",
       "      <th></th>\n",
       "    </tr>\n",
       "  </thead>\n",
       "  <tbody>\n",
       "    <tr>\n",
       "      <th>Jetta Variant</th>\n",
       "      <td>Motor 4.0 Turbo</td>\n",
       "      <td>2003</td>\n",
       "      <td>44410.0</td>\n",
       "      <td>False</td>\n",
       "      <td>['Rodas de liga', 'Travas elétricas', 'Piloto ...</td>\n",
       "      <td>88078.64</td>\n",
       "    </tr>\n",
       "    <tr>\n",
       "      <th>Passat</th>\n",
       "      <td>Motor Diesel</td>\n",
       "      <td>1991</td>\n",
       "      <td>5712.0</td>\n",
       "      <td>False</td>\n",
       "      <td>['Central multimídia', 'Teto panorâmico', 'Fre...</td>\n",
       "      <td>106161.94</td>\n",
       "    </tr>\n",
       "    <tr>\n",
       "      <th>Crossfox</th>\n",
       "      <td>Motor Diesel V8</td>\n",
       "      <td>1990</td>\n",
       "      <td>37123.0</td>\n",
       "      <td>False</td>\n",
       "      <td>['Piloto automático', 'Controle de estabilidad...</td>\n",
       "      <td>72832.16</td>\n",
       "    </tr>\n",
       "    <tr>\n",
       "      <th>DS5</th>\n",
       "      <td>Motor 2.4 Turbo</td>\n",
       "      <td>2019</td>\n",
       "      <td>NaN</td>\n",
       "      <td>True</td>\n",
       "      <td>['Travas elétricas', '4 X 4', 'Vidros elétrico...</td>\n",
       "      <td>124549.07</td>\n",
       "    </tr>\n",
       "    <tr>\n",
       "      <th>Aston Martin DB4</th>\n",
       "      <td>Motor 2.4 Turbo</td>\n",
       "      <td>2006</td>\n",
       "      <td>25757.0</td>\n",
       "      <td>False</td>\n",
       "      <td>['Rodas de liga', '4 X 4', 'Central multimídia...</td>\n",
       "      <td>92612.10</td>\n",
       "    </tr>\n",
       "  </tbody>\n",
       "</table>\n",
       "</div>"
      ],
      "text/plain": [
       "                            Motor   Ano  Quilometragem  Zero_km  \\\n",
       "Nome                                                              \n",
       "Jetta Variant     Motor 4.0 Turbo  2003        44410.0    False   \n",
       "Passat               Motor Diesel  1991         5712.0    False   \n",
       "Crossfox          Motor Diesel V8  1990        37123.0    False   \n",
       "DS5               Motor 2.4 Turbo  2019            NaN     True   \n",
       "Aston Martin DB4  Motor 2.4 Turbo  2006        25757.0    False   \n",
       "\n",
       "                                                         Acessórios      Valor  \n",
       "Nome                                                                            \n",
       "Jetta Variant     ['Rodas de liga', 'Travas elétricas', 'Piloto ...   88078.64  \n",
       "Passat            ['Central multimídia', 'Teto panorâmico', 'Fre...  106161.94  \n",
       "Crossfox          ['Piloto automático', 'Controle de estabilidad...   72832.16  \n",
       "DS5               ['Travas elétricas', '4 X 4', 'Vidros elétrico...  124549.07  \n",
       "Aston Martin DB4  ['Rodas de liga', '4 X 4', 'Central multimídia...   92612.10  "
      ]
     },
     "execution_count": 123,
     "metadata": {},
     "output_type": "execute_result"
    }
   ],
   "source": [
    "dataset.head(5)"
   ]
  },
  {
   "cell_type": "code",
   "execution_count": 124,
   "metadata": {
    "colab": {
     "base_uri": "https://localhost:8080/"
    },
    "id": "U4Bru90bD1BT",
    "outputId": "3b4bafd5-b1b9-4d4a-ba7e-dd740f38c1a0"
   },
   "outputs": [
    {
     "data": {
      "text/plain": [
       "Motor                                                 Motor Diesel\n",
       "Ano                                                           1991\n",
       "Quilometragem                                               5712.0\n",
       "Zero_km                                                      False\n",
       "Acessórios       ['Central multimídia', 'Teto panorâmico', 'Fre...\n",
       "Valor                                                    106161.94\n",
       "Name: Passat, dtype: object"
      ]
     },
     "execution_count": 124,
     "metadata": {},
     "output_type": "execute_result"
    }
   ],
   "source": [
    "#retorna uma series da informaçoes da 1a linha\n",
    "dataset.iloc[1]"
   ]
  },
  {
   "cell_type": "code",
   "execution_count": 125,
   "metadata": {
    "colab": {
     "base_uri": "https://localhost:8080/",
     "height": 112
    },
    "id": "iLKUyrzND1BU",
    "outputId": "b10ca6f8-8dbd-4fa3-8a56-858b882055f0"
   },
   "outputs": [
    {
     "data": {
      "text/html": [
       "<div>\n",
       "<style scoped>\n",
       "    .dataframe tbody tr th:only-of-type {\n",
       "        vertical-align: middle;\n",
       "    }\n",
       "\n",
       "    .dataframe tbody tr th {\n",
       "        vertical-align: top;\n",
       "    }\n",
       "\n",
       "    .dataframe thead th {\n",
       "        text-align: right;\n",
       "    }\n",
       "</style>\n",
       "<table border=\"1\" class=\"dataframe\">\n",
       "  <thead>\n",
       "    <tr style=\"text-align: right;\">\n",
       "      <th></th>\n",
       "      <th>Motor</th>\n",
       "      <th>Ano</th>\n",
       "      <th>Quilometragem</th>\n",
       "      <th>Zero_km</th>\n",
       "      <th>Acessórios</th>\n",
       "      <th>Valor</th>\n",
       "    </tr>\n",
       "    <tr>\n",
       "      <th>Nome</th>\n",
       "      <th></th>\n",
       "      <th></th>\n",
       "      <th></th>\n",
       "      <th></th>\n",
       "      <th></th>\n",
       "      <th></th>\n",
       "    </tr>\n",
       "  </thead>\n",
       "  <tbody>\n",
       "    <tr>\n",
       "      <th>Passat</th>\n",
       "      <td>Motor Diesel</td>\n",
       "      <td>1991</td>\n",
       "      <td>5712.0</td>\n",
       "      <td>False</td>\n",
       "      <td>['Central multimídia', 'Teto panorâmico', 'Fre...</td>\n",
       "      <td>106161.94</td>\n",
       "    </tr>\n",
       "  </tbody>\n",
       "</table>\n",
       "</div>"
      ],
      "text/plain": [
       "               Motor   Ano  Quilometragem  Zero_km  \\\n",
       "Nome                                                 \n",
       "Passat  Motor Diesel  1991         5712.0    False   \n",
       "\n",
       "                                               Acessórios      Valor  \n",
       "Nome                                                                  \n",
       "Passat  ['Central multimídia', 'Teto panorâmico', 'Fre...  106161.94  "
      ]
     },
     "execution_count": 125,
     "metadata": {},
     "output_type": "execute_result"
    }
   ],
   "source": [
    "#retorna um dataFrame da informaçoes da 1a linha\n",
    "dataset.iloc[[1]]"
   ]
  },
  {
   "cell_type": "code",
   "execution_count": 126,
   "metadata": {
    "colab": {
     "base_uri": "https://localhost:8080/",
     "height": 175
    },
    "id": "KGZpixYUD1BU",
    "outputId": "774a88ee-36cb-4c61-d5a7-80409912a7f4"
   },
   "outputs": [
    {
     "data": {
      "text/html": [
       "<div>\n",
       "<style scoped>\n",
       "    .dataframe tbody tr th:only-of-type {\n",
       "        vertical-align: middle;\n",
       "    }\n",
       "\n",
       "    .dataframe tbody tr th {\n",
       "        vertical-align: top;\n",
       "    }\n",
       "\n",
       "    .dataframe thead th {\n",
       "        text-align: right;\n",
       "    }\n",
       "</style>\n",
       "<table border=\"1\" class=\"dataframe\">\n",
       "  <thead>\n",
       "    <tr style=\"text-align: right;\">\n",
       "      <th></th>\n",
       "      <th>Motor</th>\n",
       "      <th>Ano</th>\n",
       "      <th>Quilometragem</th>\n",
       "      <th>Zero_km</th>\n",
       "      <th>Acessórios</th>\n",
       "      <th>Valor</th>\n",
       "    </tr>\n",
       "    <tr>\n",
       "      <th>Nome</th>\n",
       "      <th></th>\n",
       "      <th></th>\n",
       "      <th></th>\n",
       "      <th></th>\n",
       "      <th></th>\n",
       "      <th></th>\n",
       "    </tr>\n",
       "  </thead>\n",
       "  <tbody>\n",
       "    <tr>\n",
       "      <th>Passat</th>\n",
       "      <td>Motor Diesel</td>\n",
       "      <td>1991</td>\n",
       "      <td>5712.0</td>\n",
       "      <td>False</td>\n",
       "      <td>['Central multimídia', 'Teto panorâmico', 'Fre...</td>\n",
       "      <td>106161.94</td>\n",
       "    </tr>\n",
       "    <tr>\n",
       "      <th>Crossfox</th>\n",
       "      <td>Motor Diesel V8</td>\n",
       "      <td>1990</td>\n",
       "      <td>37123.0</td>\n",
       "      <td>False</td>\n",
       "      <td>['Piloto automático', 'Controle de estabilidad...</td>\n",
       "      <td>72832.16</td>\n",
       "    </tr>\n",
       "    <tr>\n",
       "      <th>DS5</th>\n",
       "      <td>Motor 2.4 Turbo</td>\n",
       "      <td>2019</td>\n",
       "      <td>NaN</td>\n",
       "      <td>True</td>\n",
       "      <td>['Travas elétricas', '4 X 4', 'Vidros elétrico...</td>\n",
       "      <td>124549.07</td>\n",
       "    </tr>\n",
       "  </tbody>\n",
       "</table>\n",
       "</div>"
      ],
      "text/plain": [
       "                    Motor   Ano  Quilometragem  Zero_km  \\\n",
       "Nome                                                      \n",
       "Passat       Motor Diesel  1991         5712.0    False   \n",
       "Crossfox  Motor Diesel V8  1990        37123.0    False   \n",
       "DS5       Motor 2.4 Turbo  2019            NaN     True   \n",
       "\n",
       "                                                 Acessórios      Valor  \n",
       "Nome                                                                    \n",
       "Passat    ['Central multimídia', 'Teto panorâmico', 'Fre...  106161.94  \n",
       "Crossfox  ['Piloto automático', 'Controle de estabilidad...   72832.16  \n",
       "DS5       ['Travas elétricas', '4 X 4', 'Vidros elétrico...  124549.07  "
      ]
     },
     "execution_count": 126,
     "metadata": {},
     "output_type": "execute_result"
    }
   ],
   "source": [
    "#pega da linha 1 a linha 3\n",
    "dataset.iloc[1:4]"
   ]
  },
  {
   "cell_type": "code",
   "execution_count": 127,
   "metadata": {
    "colab": {
     "base_uri": "https://localhost:8080/",
     "height": 175
    },
    "id": "GxdqIz4LD1BV",
    "outputId": "113841e7-1422-476f-e9ed-25e82f86c4b1"
   },
   "outputs": [
    {
     "data": {
      "text/html": [
       "<div>\n",
       "<style scoped>\n",
       "    .dataframe tbody tr th:only-of-type {\n",
       "        vertical-align: middle;\n",
       "    }\n",
       "\n",
       "    .dataframe tbody tr th {\n",
       "        vertical-align: top;\n",
       "    }\n",
       "\n",
       "    .dataframe thead th {\n",
       "        text-align: right;\n",
       "    }\n",
       "</style>\n",
       "<table border=\"1\" class=\"dataframe\">\n",
       "  <thead>\n",
       "    <tr style=\"text-align: right;\">\n",
       "      <th></th>\n",
       "      <th>Motor</th>\n",
       "      <th>Valor</th>\n",
       "      <th>Quilometragem</th>\n",
       "    </tr>\n",
       "    <tr>\n",
       "      <th>Nome</th>\n",
       "      <th></th>\n",
       "      <th></th>\n",
       "      <th></th>\n",
       "    </tr>\n",
       "  </thead>\n",
       "  <tbody>\n",
       "    <tr>\n",
       "      <th>Passat</th>\n",
       "      <td>Motor Diesel</td>\n",
       "      <td>106161.94</td>\n",
       "      <td>5712.0</td>\n",
       "    </tr>\n",
       "    <tr>\n",
       "      <th>Crossfox</th>\n",
       "      <td>Motor Diesel V8</td>\n",
       "      <td>72832.16</td>\n",
       "      <td>37123.0</td>\n",
       "    </tr>\n",
       "    <tr>\n",
       "      <th>DS5</th>\n",
       "      <td>Motor 2.4 Turbo</td>\n",
       "      <td>124549.07</td>\n",
       "      <td>NaN</td>\n",
       "    </tr>\n",
       "  </tbody>\n",
       "</table>\n",
       "</div>"
      ],
      "text/plain": [
       "                    Motor      Valor  Quilometragem\n",
       "Nome                                               \n",
       "Passat       Motor Diesel  106161.94         5712.0\n",
       "Crossfox  Motor Diesel V8   72832.16        37123.0\n",
       "DS5       Motor 2.4 Turbo  124549.07            NaN"
      ]
     },
     "execution_count": 127,
     "metadata": {},
     "output_type": "execute_result"
    }
   ],
   "source": [
    "#antes da virgula ha a posiçao das linhas que quero selecionar\n",
    "#depois da virgula ha a posição das colunas que quero selecionar\n",
    "dataset.iloc[1:4, [0,5,2]]"
   ]
  },
  {
   "cell_type": "code",
   "execution_count": 128,
   "metadata": {
    "colab": {
     "base_uri": "https://localhost:8080/",
     "height": 175
    },
    "id": "AVIhs7uLD1BW",
    "outputId": "3a9c516d-1946-4088-d1e0-907708bd726a",
    "scrolled": true
   },
   "outputs": [
    {
     "data": {
      "text/html": [
       "<div>\n",
       "<style scoped>\n",
       "    .dataframe tbody tr th:only-of-type {\n",
       "        vertical-align: middle;\n",
       "    }\n",
       "\n",
       "    .dataframe tbody tr th {\n",
       "        vertical-align: top;\n",
       "    }\n",
       "\n",
       "    .dataframe thead th {\n",
       "        text-align: right;\n",
       "    }\n",
       "</style>\n",
       "<table border=\"1\" class=\"dataframe\">\n",
       "  <thead>\n",
       "    <tr style=\"text-align: right;\">\n",
       "      <th></th>\n",
       "      <th>Motor</th>\n",
       "      <th>Valor</th>\n",
       "      <th>Quilometragem</th>\n",
       "    </tr>\n",
       "    <tr>\n",
       "      <th>Nome</th>\n",
       "      <th></th>\n",
       "      <th></th>\n",
       "      <th></th>\n",
       "    </tr>\n",
       "  </thead>\n",
       "  <tbody>\n",
       "    <tr>\n",
       "      <th>Passat</th>\n",
       "      <td>Motor Diesel</td>\n",
       "      <td>106161.94</td>\n",
       "      <td>5712.0</td>\n",
       "    </tr>\n",
       "    <tr>\n",
       "      <th>Optima</th>\n",
       "      <td>Motor 1.8 16v</td>\n",
       "      <td>86641.34</td>\n",
       "      <td>NaN</td>\n",
       "    </tr>\n",
       "    <tr>\n",
       "      <th>Lamborghini Obvious</th>\n",
       "      <td>Motor Diesel V6</td>\n",
       "      <td>133529.84</td>\n",
       "      <td>98079.0</td>\n",
       "    </tr>\n",
       "  </tbody>\n",
       "</table>\n",
       "</div>"
      ],
      "text/plain": [
       "                               Motor      Valor  Quilometragem\n",
       "Nome                                                          \n",
       "Passat                  Motor Diesel  106161.94         5712.0\n",
       "Optima                 Motor 1.8 16v   86641.34            NaN\n",
       "Lamborghini Obvious  Motor Diesel V6  133529.84        98079.0"
      ]
     },
     "execution_count": 128,
     "metadata": {},
     "output_type": "execute_result"
    }
   ],
   "source": [
    "dataset.iloc[[1,42,22], [0,5,2]]"
   ]
  },
  {
   "cell_type": "markdown",
   "metadata": {
    "id": "eAbwq1oLD1BW"
   },
   "source": [
    "# 5.3 Queries com DataFrames"
   ]
  },
  {
   "cell_type": "code",
   "execution_count": 129,
   "metadata": {
    "colab": {
     "base_uri": "https://localhost:8080/"
    },
    "id": "AOZTWzehD1BW",
    "outputId": "be011b34-a547-4b40-a27f-b70e6ad1074e",
    "scrolled": true
   },
   "outputs": [
    {
     "data": {
      "text/plain": [
       "Nome\n",
       "Jetta Variant                  Motor 4.0 Turbo\n",
       "Passat                            Motor Diesel\n",
       "Crossfox                       Motor Diesel V8\n",
       "DS5                            Motor 2.4 Turbo\n",
       "Aston Martin DB4               Motor 2.4 Turbo\n",
       "                                 ...          \n",
       "Phantom 2013                          Motor V8\n",
       "Cadillac Ciel concept                 Motor V8\n",
       "Classe GLK               Motor 5.0 V8 Bi-Turbo\n",
       "Aston Martin DB5                  Motor Diesel\n",
       "Macan                          Motor Diesel V6\n",
       "Name: Motor, Length: 258, dtype: object"
      ]
     },
     "execution_count": 129,
     "metadata": {},
     "output_type": "execute_result"
    }
   ],
   "source": [
    "#tra uma series com o indice do DF e com os valores da coluna selecionada\n",
    "dataset.Motor"
   ]
  },
  {
   "cell_type": "code",
   "execution_count": 130,
   "metadata": {
    "id": "rO5T4h94D1BX",
    "scrolled": true
   },
   "outputs": [],
   "source": [
    "#Retorna uma seies booleana com True para 'Motor Diesel'\n",
    "select =  dataset.Motor == 'Motor Diesel'"
   ]
  },
  {
   "cell_type": "code",
   "execution_count": 131,
   "metadata": {
    "colab": {
     "base_uri": "https://localhost:8080/",
     "height": 237
    },
    "id": "STZ-l8oaD1BX",
    "outputId": "dee45758-4cc2-454f-b8ee-403c66d3cf1e"
   },
   "outputs": [
    {
     "data": {
      "text/html": [
       "<div>\n",
       "<style scoped>\n",
       "    .dataframe tbody tr th:only-of-type {\n",
       "        vertical-align: middle;\n",
       "    }\n",
       "\n",
       "    .dataframe tbody tr th {\n",
       "        vertical-align: top;\n",
       "    }\n",
       "\n",
       "    .dataframe thead th {\n",
       "        text-align: right;\n",
       "    }\n",
       "</style>\n",
       "<table border=\"1\" class=\"dataframe\">\n",
       "  <thead>\n",
       "    <tr style=\"text-align: right;\">\n",
       "      <th></th>\n",
       "      <th>Motor</th>\n",
       "      <th>Ano</th>\n",
       "      <th>Quilometragem</th>\n",
       "      <th>Zero_km</th>\n",
       "      <th>Acessórios</th>\n",
       "      <th>Valor</th>\n",
       "    </tr>\n",
       "    <tr>\n",
       "      <th>Nome</th>\n",
       "      <th></th>\n",
       "      <th></th>\n",
       "      <th></th>\n",
       "      <th></th>\n",
       "      <th></th>\n",
       "      <th></th>\n",
       "    </tr>\n",
       "  </thead>\n",
       "  <tbody>\n",
       "    <tr>\n",
       "      <th>Passat</th>\n",
       "      <td>Motor Diesel</td>\n",
       "      <td>1991</td>\n",
       "      <td>5712.0</td>\n",
       "      <td>False</td>\n",
       "      <td>['Central multimídia', 'Teto panorâmico', 'Fre...</td>\n",
       "      <td>106161.94</td>\n",
       "    </tr>\n",
       "    <tr>\n",
       "      <th>Effa Hafei Picape Baú</th>\n",
       "      <td>Motor Diesel</td>\n",
       "      <td>1991</td>\n",
       "      <td>102959.0</td>\n",
       "      <td>False</td>\n",
       "      <td>['Controle de estabilidade', 'Painel digital',...</td>\n",
       "      <td>125684.65</td>\n",
       "    </tr>\n",
       "    <tr>\n",
       "      <th>Sorento</th>\n",
       "      <td>Motor Diesel</td>\n",
       "      <td>2019</td>\n",
       "      <td>NaN</td>\n",
       "      <td>True</td>\n",
       "      <td>['Sensor de chuva', 'Câmera de estacionamento'...</td>\n",
       "      <td>81399.35</td>\n",
       "    </tr>\n",
       "    <tr>\n",
       "      <th>New Fiesta Hatch</th>\n",
       "      <td>Motor Diesel</td>\n",
       "      <td>2017</td>\n",
       "      <td>118895.0</td>\n",
       "      <td>False</td>\n",
       "      <td>['Sensor de estacionamento', 'Travas elétricas...</td>\n",
       "      <td>66007.16</td>\n",
       "    </tr>\n",
       "    <tr>\n",
       "      <th>Kangoo Express</th>\n",
       "      <td>Motor Diesel</td>\n",
       "      <td>2007</td>\n",
       "      <td>29132.0</td>\n",
       "      <td>False</td>\n",
       "      <td>['Bancos de couro', 'Câmbio automático', 'Pilo...</td>\n",
       "      <td>146716.91</td>\n",
       "    </tr>\n",
       "  </tbody>\n",
       "</table>\n",
       "</div>"
      ],
      "text/plain": [
       "                              Motor   Ano  Quilometragem  Zero_km  \\\n",
       "Nome                                                                \n",
       "Passat                 Motor Diesel  1991         5712.0    False   \n",
       "Effa Hafei Picape Baú  Motor Diesel  1991       102959.0    False   \n",
       "Sorento                Motor Diesel  2019            NaN     True   \n",
       "New Fiesta Hatch       Motor Diesel  2017       118895.0    False   \n",
       "Kangoo Express         Motor Diesel  2007        29132.0    False   \n",
       "\n",
       "                                                              Acessórios  \\\n",
       "Nome                                                                       \n",
       "Passat                 ['Central multimídia', 'Teto panorâmico', 'Fre...   \n",
       "Effa Hafei Picape Baú  ['Controle de estabilidade', 'Painel digital',...   \n",
       "Sorento                ['Sensor de chuva', 'Câmera de estacionamento'...   \n",
       "New Fiesta Hatch       ['Sensor de estacionamento', 'Travas elétricas...   \n",
       "Kangoo Express         ['Bancos de couro', 'Câmbio automático', 'Pilo...   \n",
       "\n",
       "                           Valor  \n",
       "Nome                              \n",
       "Passat                 106161.94  \n",
       "Effa Hafei Picape Baú  125684.65  \n",
       "Sorento                 81399.35  \n",
       "New Fiesta Hatch        66007.16  \n",
       "Kangoo Express         146716.91  "
      ]
     },
     "execution_count": 131,
     "metadata": {},
     "output_type": "execute_result"
    }
   ],
   "source": [
    "#retorna um DF somente com carros de motor a diesel\n",
    "dataset[select].head(5)"
   ]
  },
  {
   "cell_type": "code",
   "execution_count": 132,
   "metadata": {
    "colab": {
     "base_uri": "https://localhost:8080/"
    },
    "id": "OzXC2M40D1BY",
    "outputId": "82c20d04-13c1-4614-8153-4693b3aca095",
    "scrolled": true
   },
   "outputs": [
    {
     "data": {
      "text/plain": [
       "Nome\n",
       "Jetta Variant            False\n",
       "Passat                   False\n",
       "Crossfox                 False\n",
       "DS5                      False\n",
       "Aston Martin DB4         False\n",
       "                         ...  \n",
       "Phantom 2013             False\n",
       "Cadillac Ciel concept    False\n",
       "Classe GLK               False\n",
       "Aston Martin DB5         False\n",
       "Macan                    False\n",
       "Length: 258, dtype: bool"
      ]
     },
     "execution_count": 132,
     "metadata": {},
     "output_type": "execute_result"
    }
   ],
   "source": [
    "#Series booleana com True no Nome para Motor = 'Motor Diesel' e Zero_km = True\n",
    "(dataset.Motor == 'Motor Diesel') & (dataset.Zero_km == True)"
   ]
  },
  {
   "cell_type": "code",
   "execution_count": 133,
   "metadata": {
    "colab": {
     "base_uri": "https://localhost:8080/",
     "height": 237
    },
    "id": "OZC8NAn6D1BX",
    "outputId": "62759ad9-8985-4535-af0c-fa9017a5dae1"
   },
   "outputs": [
    {
     "data": {
      "text/html": [
       "<div>\n",
       "<style scoped>\n",
       "    .dataframe tbody tr th:only-of-type {\n",
       "        vertical-align: middle;\n",
       "    }\n",
       "\n",
       "    .dataframe tbody tr th {\n",
       "        vertical-align: top;\n",
       "    }\n",
       "\n",
       "    .dataframe thead th {\n",
       "        text-align: right;\n",
       "    }\n",
       "</style>\n",
       "<table border=\"1\" class=\"dataframe\">\n",
       "  <thead>\n",
       "    <tr style=\"text-align: right;\">\n",
       "      <th></th>\n",
       "      <th>Motor</th>\n",
       "      <th>Ano</th>\n",
       "      <th>Quilometragem</th>\n",
       "      <th>Zero_km</th>\n",
       "      <th>Acessórios</th>\n",
       "      <th>Valor</th>\n",
       "    </tr>\n",
       "    <tr>\n",
       "      <th>Nome</th>\n",
       "      <th></th>\n",
       "      <th></th>\n",
       "      <th></th>\n",
       "      <th></th>\n",
       "      <th></th>\n",
       "      <th></th>\n",
       "    </tr>\n",
       "  </thead>\n",
       "  <tbody>\n",
       "    <tr>\n",
       "      <th>Sorento</th>\n",
       "      <td>Motor Diesel</td>\n",
       "      <td>2019</td>\n",
       "      <td>NaN</td>\n",
       "      <td>True</td>\n",
       "      <td>['Sensor de chuva', 'Câmera de estacionamento'...</td>\n",
       "      <td>81399.35</td>\n",
       "    </tr>\n",
       "    <tr>\n",
       "      <th>Cielo Hatch</th>\n",
       "      <td>Motor Diesel</td>\n",
       "      <td>2019</td>\n",
       "      <td>NaN</td>\n",
       "      <td>True</td>\n",
       "      <td>['Painel digital', 'Central multimídia', 'Câme...</td>\n",
       "      <td>145197.70</td>\n",
       "    </tr>\n",
       "    <tr>\n",
       "      <th>Camry</th>\n",
       "      <td>Motor Diesel</td>\n",
       "      <td>2019</td>\n",
       "      <td>NaN</td>\n",
       "      <td>True</td>\n",
       "      <td>['Travas elétricas', 'Rodas de liga', 'Sensor ...</td>\n",
       "      <td>138597.27</td>\n",
       "    </tr>\n",
       "    <tr>\n",
       "      <th>Aston Martin Virage</th>\n",
       "      <td>Motor Diesel</td>\n",
       "      <td>2019</td>\n",
       "      <td>NaN</td>\n",
       "      <td>True</td>\n",
       "      <td>['Travas elétricas', 'Controle de tração', 'Câ...</td>\n",
       "      <td>97290.18</td>\n",
       "    </tr>\n",
       "    <tr>\n",
       "      <th>Série 7 Sedã</th>\n",
       "      <td>Motor Diesel</td>\n",
       "      <td>2019</td>\n",
       "      <td>NaN</td>\n",
       "      <td>True</td>\n",
       "      <td>['Vidros elétricos', 'Travas elétricas', 'Roda...</td>\n",
       "      <td>67539.79</td>\n",
       "    </tr>\n",
       "  </tbody>\n",
       "</table>\n",
       "</div>"
      ],
      "text/plain": [
       "                            Motor   Ano  Quilometragem  Zero_km  \\\n",
       "Nome                                                              \n",
       "Sorento              Motor Diesel  2019            NaN     True   \n",
       "Cielo Hatch          Motor Diesel  2019            NaN     True   \n",
       "Camry                Motor Diesel  2019            NaN     True   \n",
       "Aston Martin Virage  Motor Diesel  2019            NaN     True   \n",
       "Série 7 Sedã         Motor Diesel  2019            NaN     True   \n",
       "\n",
       "                                                            Acessórios  \\\n",
       "Nome                                                                     \n",
       "Sorento              ['Sensor de chuva', 'Câmera de estacionamento'...   \n",
       "Cielo Hatch          ['Painel digital', 'Central multimídia', 'Câme...   \n",
       "Camry                ['Travas elétricas', 'Rodas de liga', 'Sensor ...   \n",
       "Aston Martin Virage  ['Travas elétricas', 'Controle de tração', 'Câ...   \n",
       "Série 7 Sedã         ['Vidros elétricos', 'Travas elétricas', 'Roda...   \n",
       "\n",
       "                         Valor  \n",
       "Nome                            \n",
       "Sorento               81399.35  \n",
       "Cielo Hatch          145197.70  \n",
       "Camry                138597.27  \n",
       "Aston Martin Virage   97290.18  \n",
       "Série 7 Sedã          67539.79  "
      ]
     },
     "execution_count": 133,
     "metadata": {},
     "output_type": "execute_result"
    }
   ],
   "source": [
    "dataset[(dataset.Motor == 'Motor Diesel') & (dataset.Zero_km == True)]"
   ]
  },
  {
   "cell_type": "markdown",
   "metadata": {
    "id": "_XKXcWO-D1BY"
   },
   "source": [
    "### Utilizando o método query"
   ]
  },
  {
   "cell_type": "code",
   "execution_count": 134,
   "metadata": {
    "colab": {
     "base_uri": "https://localhost:8080/",
     "height": 237
    },
    "id": "AB9JirSoD1BY",
    "outputId": "3565e046-f6a0-48cf-e861-505e1033d5d5"
   },
   "outputs": [
    {
     "data": {
      "text/html": [
       "<div>\n",
       "<style scoped>\n",
       "    .dataframe tbody tr th:only-of-type {\n",
       "        vertical-align: middle;\n",
       "    }\n",
       "\n",
       "    .dataframe tbody tr th {\n",
       "        vertical-align: top;\n",
       "    }\n",
       "\n",
       "    .dataframe thead th {\n",
       "        text-align: right;\n",
       "    }\n",
       "</style>\n",
       "<table border=\"1\" class=\"dataframe\">\n",
       "  <thead>\n",
       "    <tr style=\"text-align: right;\">\n",
       "      <th></th>\n",
       "      <th>Motor</th>\n",
       "      <th>Ano</th>\n",
       "      <th>Quilometragem</th>\n",
       "      <th>Zero_km</th>\n",
       "      <th>Acessórios</th>\n",
       "      <th>Valor</th>\n",
       "    </tr>\n",
       "    <tr>\n",
       "      <th>Nome</th>\n",
       "      <th></th>\n",
       "      <th></th>\n",
       "      <th></th>\n",
       "      <th></th>\n",
       "      <th></th>\n",
       "      <th></th>\n",
       "    </tr>\n",
       "  </thead>\n",
       "  <tbody>\n",
       "    <tr>\n",
       "      <th>Sorento</th>\n",
       "      <td>Motor Diesel</td>\n",
       "      <td>2019</td>\n",
       "      <td>NaN</td>\n",
       "      <td>True</td>\n",
       "      <td>['Sensor de chuva', 'Câmera de estacionamento'...</td>\n",
       "      <td>81399.35</td>\n",
       "    </tr>\n",
       "    <tr>\n",
       "      <th>Cielo Hatch</th>\n",
       "      <td>Motor Diesel</td>\n",
       "      <td>2019</td>\n",
       "      <td>NaN</td>\n",
       "      <td>True</td>\n",
       "      <td>['Painel digital', 'Central multimídia', 'Câme...</td>\n",
       "      <td>145197.70</td>\n",
       "    </tr>\n",
       "    <tr>\n",
       "      <th>Camry</th>\n",
       "      <td>Motor Diesel</td>\n",
       "      <td>2019</td>\n",
       "      <td>NaN</td>\n",
       "      <td>True</td>\n",
       "      <td>['Travas elétricas', 'Rodas de liga', 'Sensor ...</td>\n",
       "      <td>138597.27</td>\n",
       "    </tr>\n",
       "    <tr>\n",
       "      <th>Aston Martin Virage</th>\n",
       "      <td>Motor Diesel</td>\n",
       "      <td>2019</td>\n",
       "      <td>NaN</td>\n",
       "      <td>True</td>\n",
       "      <td>['Travas elétricas', 'Controle de tração', 'Câ...</td>\n",
       "      <td>97290.18</td>\n",
       "    </tr>\n",
       "    <tr>\n",
       "      <th>Série 7 Sedã</th>\n",
       "      <td>Motor Diesel</td>\n",
       "      <td>2019</td>\n",
       "      <td>NaN</td>\n",
       "      <td>True</td>\n",
       "      <td>['Vidros elétricos', 'Travas elétricas', 'Roda...</td>\n",
       "      <td>67539.79</td>\n",
       "    </tr>\n",
       "  </tbody>\n",
       "</table>\n",
       "</div>"
      ],
      "text/plain": [
       "                            Motor   Ano  Quilometragem  Zero_km  \\\n",
       "Nome                                                              \n",
       "Sorento              Motor Diesel  2019            NaN     True   \n",
       "Cielo Hatch          Motor Diesel  2019            NaN     True   \n",
       "Camry                Motor Diesel  2019            NaN     True   \n",
       "Aston Martin Virage  Motor Diesel  2019            NaN     True   \n",
       "Série 7 Sedã         Motor Diesel  2019            NaN     True   \n",
       "\n",
       "                                                            Acessórios  \\\n",
       "Nome                                                                     \n",
       "Sorento              ['Sensor de chuva', 'Câmera de estacionamento'...   \n",
       "Cielo Hatch          ['Painel digital', 'Central multimídia', 'Câme...   \n",
       "Camry                ['Travas elétricas', 'Rodas de liga', 'Sensor ...   \n",
       "Aston Martin Virage  ['Travas elétricas', 'Controle de tração', 'Câ...   \n",
       "Série 7 Sedã         ['Vidros elétricos', 'Travas elétricas', 'Roda...   \n",
       "\n",
       "                         Valor  \n",
       "Nome                            \n",
       "Sorento               81399.35  \n",
       "Cielo Hatch          145197.70  \n",
       "Camry                138597.27  \n",
       "Aston Martin Virage   97290.18  \n",
       "Série 7 Sedã          67539.79  "
      ]
     },
     "execution_count": 134,
     "metadata": {},
     "output_type": "execute_result"
    }
   ],
   "source": [
    "#Cuidado: usar aspas duplas com o metodo query pois a string dentro dele deve ter aspas simples\n",
    "#Cuidado: usar and e or no metodo query \n",
    "dataset.query(\"Motor == 'Motor Diesel' and Zero_km == True\")"
   ]
  },
  {
   "cell_type": "markdown",
   "metadata": {
    "id": "ciJ4dw_FD1BZ"
   },
   "source": [
    "# 5.4 Iterando com DataFrames"
   ]
  },
  {
   "cell_type": "code",
   "execution_count": 135,
   "metadata": {
    "colab": {
     "base_uri": "https://localhost:8080/"
    },
    "id": "TKAB-g5KD1BZ",
    "outputId": "cac71991-97b8-4ace-aa86-4b4d5ba06f91"
   },
   "outputs": [
    {
     "name": "stdout",
     "output_type": "stream",
     "text": [
      "Motor\n",
      "Ano\n",
      "Quilometragem\n",
      "Zero_km\n",
      "Acessórios\n",
      "Valor\n"
     ]
    }
   ],
   "source": [
    "#item assume os rotulos das colunas\n",
    "for item in dataset:\n",
    "  print(item)"
   ]
  },
  {
   "cell_type": "code",
   "execution_count": 136,
   "metadata": {
    "colab": {
     "base_uri": "https://localhost:8080/"
    },
    "id": "eFTNtPRWD1Ba",
    "outputId": "0bee3e77-32b1-4c75-cac1-a4ce3dc6e46c"
   },
   "outputs": [
    {
     "data": {
      "text/plain": [
       "<generator object DataFrame.iterrows at 0x7f2eca233190>"
      ]
     },
     "execution_count": 136,
     "metadata": {},
     "output_type": "execute_result"
    }
   ],
   "source": [
    "dataset.iterrows()"
   ]
  },
  {
   "cell_type": "code",
   "execution_count": 137,
   "metadata": {
    "colab": {
     "base_uri": "https://localhost:8080/"
    },
    "id": "JxbP0vUH6TGr",
    "outputId": "49bf15a8-e7b3-490f-8ce8-da9f0bc13ea2"
   },
   "outputs": [
    {
     "data": {
      "text/plain": [
       "('Jetta Variant',\n",
       " Motor                                              Motor 4.0 Turbo\n",
       " Ano                                                           2003\n",
       " Quilometragem                                              44410.0\n",
       " Zero_km                                                      False\n",
       " Acessórios       ['Rodas de liga', 'Travas elétricas', 'Piloto ...\n",
       " Valor                                                     88078.64\n",
       " Name: Jetta Variant, dtype: object)"
      ]
     },
     "execution_count": 137,
     "metadata": {},
     "output_type": "execute_result"
    }
   ],
   "source": [
    "#retorna uma lista de tuplas, na qual cada tupla contem o indice da linha e uma series com infos dessa linha\n",
    "#('Jeta Variant', series_com_infos_de_Jeta_Variant)\n",
    "#consigo fazer for e iterar facilmente\n",
    "\n",
    "list(dataset.iterrows())[0]"
   ]
  },
  {
   "cell_type": "code",
   "execution_count": 138,
   "metadata": {
    "id": "feMokYXt7aij"
   },
   "outputs": [],
   "source": [
    "for index, row in dataset.iterrows():\n",
    "  if 2019 - row['Ano'] != 0: #tratamento de erros para divisão por 0\n",
    "    dataset.loc[index , 'Km_media'] = row['Quilometragem']/ (2019 - row['Ano']) #crio a coluna Km_media com loc \n",
    "  else:\n",
    "    dataset.loc[index, 'Km_media'] = 0\n"
   ]
  },
  {
   "cell_type": "code",
   "execution_count": 139,
   "metadata": {
    "colab": {
     "base_uri": "https://localhost:8080/",
     "height": 551
    },
    "id": "fvgblUoN8UpV",
    "outputId": "7ba6887c-4070-43aa-a6c1-7a37dc9daf55"
   },
   "outputs": [
    {
     "data": {
      "text/html": [
       "<div>\n",
       "<style scoped>\n",
       "    .dataframe tbody tr th:only-of-type {\n",
       "        vertical-align: middle;\n",
       "    }\n",
       "\n",
       "    .dataframe tbody tr th {\n",
       "        vertical-align: top;\n",
       "    }\n",
       "\n",
       "    .dataframe thead th {\n",
       "        text-align: right;\n",
       "    }\n",
       "</style>\n",
       "<table border=\"1\" class=\"dataframe\">\n",
       "  <thead>\n",
       "    <tr style=\"text-align: right;\">\n",
       "      <th></th>\n",
       "      <th>Motor</th>\n",
       "      <th>Ano</th>\n",
       "      <th>Quilometragem</th>\n",
       "      <th>Zero_km</th>\n",
       "      <th>Acessórios</th>\n",
       "      <th>Valor</th>\n",
       "      <th>Km_media</th>\n",
       "    </tr>\n",
       "    <tr>\n",
       "      <th>Nome</th>\n",
       "      <th></th>\n",
       "      <th></th>\n",
       "      <th></th>\n",
       "      <th></th>\n",
       "      <th></th>\n",
       "      <th></th>\n",
       "      <th></th>\n",
       "    </tr>\n",
       "  </thead>\n",
       "  <tbody>\n",
       "    <tr>\n",
       "      <th>Jetta Variant</th>\n",
       "      <td>Motor 4.0 Turbo</td>\n",
       "      <td>2003</td>\n",
       "      <td>44410.0</td>\n",
       "      <td>False</td>\n",
       "      <td>['Rodas de liga', 'Travas elétricas', 'Piloto ...</td>\n",
       "      <td>88078.64</td>\n",
       "      <td>2775.625000</td>\n",
       "    </tr>\n",
       "    <tr>\n",
       "      <th>Passat</th>\n",
       "      <td>Motor Diesel</td>\n",
       "      <td>1991</td>\n",
       "      <td>5712.0</td>\n",
       "      <td>False</td>\n",
       "      <td>['Central multimídia', 'Teto panorâmico', 'Fre...</td>\n",
       "      <td>106161.94</td>\n",
       "      <td>204.000000</td>\n",
       "    </tr>\n",
       "    <tr>\n",
       "      <th>Crossfox</th>\n",
       "      <td>Motor Diesel V8</td>\n",
       "      <td>1990</td>\n",
       "      <td>37123.0</td>\n",
       "      <td>False</td>\n",
       "      <td>['Piloto automático', 'Controle de estabilidad...</td>\n",
       "      <td>72832.16</td>\n",
       "      <td>1280.103448</td>\n",
       "    </tr>\n",
       "    <tr>\n",
       "      <th>DS5</th>\n",
       "      <td>Motor 2.4 Turbo</td>\n",
       "      <td>2019</td>\n",
       "      <td>NaN</td>\n",
       "      <td>True</td>\n",
       "      <td>['Travas elétricas', '4 X 4', 'Vidros elétrico...</td>\n",
       "      <td>124549.07</td>\n",
       "      <td>0.000000</td>\n",
       "    </tr>\n",
       "    <tr>\n",
       "      <th>Aston Martin DB4</th>\n",
       "      <td>Motor 2.4 Turbo</td>\n",
       "      <td>2006</td>\n",
       "      <td>25757.0</td>\n",
       "      <td>False</td>\n",
       "      <td>['Rodas de liga', '4 X 4', 'Central multimídia...</td>\n",
       "      <td>92612.10</td>\n",
       "      <td>1981.307692</td>\n",
       "    </tr>\n",
       "    <tr>\n",
       "      <th>...</th>\n",
       "      <td>...</td>\n",
       "      <td>...</td>\n",
       "      <td>...</td>\n",
       "      <td>...</td>\n",
       "      <td>...</td>\n",
       "      <td>...</td>\n",
       "      <td>...</td>\n",
       "    </tr>\n",
       "    <tr>\n",
       "      <th>Phantom 2013</th>\n",
       "      <td>Motor V8</td>\n",
       "      <td>2014</td>\n",
       "      <td>27505.0</td>\n",
       "      <td>False</td>\n",
       "      <td>['Controle de estabilidade', 'Piloto automátic...</td>\n",
       "      <td>51759.58</td>\n",
       "      <td>5501.000000</td>\n",
       "    </tr>\n",
       "    <tr>\n",
       "      <th>Cadillac Ciel concept</th>\n",
       "      <td>Motor V8</td>\n",
       "      <td>1991</td>\n",
       "      <td>29981.0</td>\n",
       "      <td>False</td>\n",
       "      <td>['Bancos de couro', 'Painel digital', 'Sensor ...</td>\n",
       "      <td>51667.06</td>\n",
       "      <td>1070.750000</td>\n",
       "    </tr>\n",
       "    <tr>\n",
       "      <th>Classe GLK</th>\n",
       "      <td>Motor 5.0 V8 Bi-Turbo</td>\n",
       "      <td>2002</td>\n",
       "      <td>52637.0</td>\n",
       "      <td>False</td>\n",
       "      <td>['Rodas de liga', 'Controle de tração', 'Câmbi...</td>\n",
       "      <td>68934.03</td>\n",
       "      <td>3096.294118</td>\n",
       "    </tr>\n",
       "    <tr>\n",
       "      <th>Aston Martin DB5</th>\n",
       "      <td>Motor Diesel</td>\n",
       "      <td>1996</td>\n",
       "      <td>7685.0</td>\n",
       "      <td>False</td>\n",
       "      <td>['Ar condicionado', '4 X 4', 'Câmbio automátic...</td>\n",
       "      <td>122110.90</td>\n",
       "      <td>334.130435</td>\n",
       "    </tr>\n",
       "    <tr>\n",
       "      <th>Macan</th>\n",
       "      <td>Motor Diesel V6</td>\n",
       "      <td>1992</td>\n",
       "      <td>50188.0</td>\n",
       "      <td>False</td>\n",
       "      <td>['Central multimídia', 'Teto panorâmico', 'Vid...</td>\n",
       "      <td>90381.47</td>\n",
       "      <td>1858.814815</td>\n",
       "    </tr>\n",
       "  </tbody>\n",
       "</table>\n",
       "<p>258 rows × 7 columns</p>\n",
       "</div>"
      ],
      "text/plain": [
       "                                       Motor   Ano  Quilometragem  Zero_km  \\\n",
       "Nome                                                                         \n",
       "Jetta Variant                Motor 4.0 Turbo  2003        44410.0    False   \n",
       "Passat                          Motor Diesel  1991         5712.0    False   \n",
       "Crossfox                     Motor Diesel V8  1990        37123.0    False   \n",
       "DS5                          Motor 2.4 Turbo  2019            NaN     True   \n",
       "Aston Martin DB4             Motor 2.4 Turbo  2006        25757.0    False   \n",
       "...                                      ...   ...            ...      ...   \n",
       "Phantom 2013                        Motor V8  2014        27505.0    False   \n",
       "Cadillac Ciel concept               Motor V8  1991        29981.0    False   \n",
       "Classe GLK             Motor 5.0 V8 Bi-Turbo  2002        52637.0    False   \n",
       "Aston Martin DB5                Motor Diesel  1996         7685.0    False   \n",
       "Macan                        Motor Diesel V6  1992        50188.0    False   \n",
       "\n",
       "                                                              Acessórios  \\\n",
       "Nome                                                                       \n",
       "Jetta Variant          ['Rodas de liga', 'Travas elétricas', 'Piloto ...   \n",
       "Passat                 ['Central multimídia', 'Teto panorâmico', 'Fre...   \n",
       "Crossfox               ['Piloto automático', 'Controle de estabilidad...   \n",
       "DS5                    ['Travas elétricas', '4 X 4', 'Vidros elétrico...   \n",
       "Aston Martin DB4       ['Rodas de liga', '4 X 4', 'Central multimídia...   \n",
       "...                                                                  ...   \n",
       "Phantom 2013           ['Controle de estabilidade', 'Piloto automátic...   \n",
       "Cadillac Ciel concept  ['Bancos de couro', 'Painel digital', 'Sensor ...   \n",
       "Classe GLK             ['Rodas de liga', 'Controle de tração', 'Câmbi...   \n",
       "Aston Martin DB5       ['Ar condicionado', '4 X 4', 'Câmbio automátic...   \n",
       "Macan                  ['Central multimídia', 'Teto panorâmico', 'Vid...   \n",
       "\n",
       "                           Valor     Km_media  \n",
       "Nome                                           \n",
       "Jetta Variant           88078.64  2775.625000  \n",
       "Passat                 106161.94   204.000000  \n",
       "Crossfox                72832.16  1280.103448  \n",
       "DS5                    124549.07     0.000000  \n",
       "Aston Martin DB4        92612.10  1981.307692  \n",
       "...                          ...          ...  \n",
       "Phantom 2013            51759.58  5501.000000  \n",
       "Cadillac Ciel concept   51667.06  1070.750000  \n",
       "Classe GLK              68934.03  3096.294118  \n",
       "Aston Martin DB5       122110.90   334.130435  \n",
       "Macan                   90381.47  1858.814815  \n",
       "\n",
       "[258 rows x 7 columns]"
      ]
     },
     "execution_count": 139,
     "metadata": {},
     "output_type": "execute_result"
    }
   ],
   "source": [
    "#Data set com as kilometagens medias\n",
    "dataset"
   ]
  },
  {
   "cell_type": "markdown",
   "metadata": {
    "id": "v4C64rmV9ObW"
   },
   "source": [
    "#iteritems() e iterrows()"
   ]
  },
  {
   "cell_type": "code",
   "execution_count": 140,
   "metadata": {
    "colab": {
     "base_uri": "https://localhost:8080/"
    },
    "id": "Pey5tL3W9YR6",
    "outputId": "a930020b-7fb4-4523-e6d3-c3b6bc808cb8"
   },
   "outputs": [
    {
     "name": "stdout",
     "output_type": "stream",
     "text": [
      "<generator object DataFrame.iteritems at 0x7f2eca233740>\n",
      "\n",
      "\n"
     ]
    },
    {
     "data": {
      "text/plain": [
       "[('Motor',\n",
       "  Nome\n",
       "  Jetta Variant                  Motor 4.0 Turbo\n",
       "  Passat                            Motor Diesel\n",
       "  Crossfox                       Motor Diesel V8\n",
       "  DS5                            Motor 2.4 Turbo\n",
       "  Aston Martin DB4               Motor 2.4 Turbo\n",
       "                                   ...          \n",
       "  Phantom 2013                          Motor V8\n",
       "  Cadillac Ciel concept                 Motor V8\n",
       "  Classe GLK               Motor 5.0 V8 Bi-Turbo\n",
       "  Aston Martin DB5                  Motor Diesel\n",
       "  Macan                          Motor Diesel V6\n",
       "  Name: Motor, Length: 258, dtype: object),\n",
       " ('Ano',\n",
       "  Nome\n",
       "  Jetta Variant            2003\n",
       "  Passat                   1991\n",
       "  Crossfox                 1990\n",
       "  DS5                      2019\n",
       "  Aston Martin DB4         2006\n",
       "                           ... \n",
       "  Phantom 2013             2014\n",
       "  Cadillac Ciel concept    1991\n",
       "  Classe GLK               2002\n",
       "  Aston Martin DB5         1996\n",
       "  Macan                    1992\n",
       "  Name: Ano, Length: 258, dtype: int64),\n",
       " ('Quilometragem',\n",
       "  Nome\n",
       "  Jetta Variant            44410.0\n",
       "  Passat                    5712.0\n",
       "  Crossfox                 37123.0\n",
       "  DS5                          NaN\n",
       "  Aston Martin DB4         25757.0\n",
       "                            ...   \n",
       "  Phantom 2013             27505.0\n",
       "  Cadillac Ciel concept    29981.0\n",
       "  Classe GLK               52637.0\n",
       "  Aston Martin DB5          7685.0\n",
       "  Macan                    50188.0\n",
       "  Name: Quilometragem, Length: 258, dtype: float64),\n",
       " ('Zero_km',\n",
       "  Nome\n",
       "  Jetta Variant            False\n",
       "  Passat                   False\n",
       "  Crossfox                 False\n",
       "  DS5                       True\n",
       "  Aston Martin DB4         False\n",
       "                           ...  \n",
       "  Phantom 2013             False\n",
       "  Cadillac Ciel concept    False\n",
       "  Classe GLK               False\n",
       "  Aston Martin DB5         False\n",
       "  Macan                    False\n",
       "  Name: Zero_km, Length: 258, dtype: bool),\n",
       " ('Acessórios',\n",
       "  Nome\n",
       "  Jetta Variant            ['Rodas de liga', 'Travas elétricas', 'Piloto ...\n",
       "  Passat                   ['Central multimídia', 'Teto panorâmico', 'Fre...\n",
       "  Crossfox                 ['Piloto automático', 'Controle de estabilidad...\n",
       "  DS5                      ['Travas elétricas', '4 X 4', 'Vidros elétrico...\n",
       "  Aston Martin DB4         ['Rodas de liga', '4 X 4', 'Central multimídia...\n",
       "                                                 ...                        \n",
       "  Phantom 2013             ['Controle de estabilidade', 'Piloto automátic...\n",
       "  Cadillac Ciel concept    ['Bancos de couro', 'Painel digital', 'Sensor ...\n",
       "  Classe GLK               ['Rodas de liga', 'Controle de tração', 'Câmbi...\n",
       "  Aston Martin DB5         ['Ar condicionado', '4 X 4', 'Câmbio automátic...\n",
       "  Macan                    ['Central multimídia', 'Teto panorâmico', 'Vid...\n",
       "  Name: Acessórios, Length: 258, dtype: object),\n",
       " ('Valor',\n",
       "  Nome\n",
       "  Jetta Variant             88078.64\n",
       "  Passat                   106161.94\n",
       "  Crossfox                  72832.16\n",
       "  DS5                      124549.07\n",
       "  Aston Martin DB4          92612.10\n",
       "                             ...    \n",
       "  Phantom 2013              51759.58\n",
       "  Cadillac Ciel concept     51667.06\n",
       "  Classe GLK                68934.03\n",
       "  Aston Martin DB5         122110.90\n",
       "  Macan                     90381.47\n",
       "  Name: Valor, Length: 258, dtype: float64),\n",
       " ('Km_media',\n",
       "  Nome\n",
       "  Jetta Variant            2775.625000\n",
       "  Passat                    204.000000\n",
       "  Crossfox                 1280.103448\n",
       "  DS5                         0.000000\n",
       "  Aston Martin DB4         1981.307692\n",
       "                              ...     \n",
       "  Phantom 2013             5501.000000\n",
       "  Cadillac Ciel concept    1070.750000\n",
       "  Classe GLK               3096.294118\n",
       "  Aston Martin DB5          334.130435\n",
       "  Macan                    1858.814815\n",
       "  Name: Km_media, Length: 258, dtype: float64)]"
      ]
     },
     "execution_count": 140,
     "metadata": {},
     "output_type": "execute_result"
    }
   ],
   "source": [
    "#iteritems() itera pelas colunas, gerando uma lista de tuplas, nas quais o primeiro elemento é o nome da coluna e o segundo elemento é uma series com o conteudo\n",
    "#da coluna\n",
    "print(dataset.iteritems())\n",
    "print('\\n')\n",
    "list(dataset.iteritems())"
   ]
  },
  {
   "cell_type": "code",
   "execution_count": 141,
   "metadata": {
    "colab": {
     "base_uri": "https://localhost:8080/"
    },
    "id": "WcMACMVC-ZWv",
    "outputId": "9671e969-3a2b-4fa3-ece1-1f1266da41bb"
   },
   "outputs": [
    {
     "name": "stdout",
     "output_type": "stream",
     "text": [
      "<map object at 0x7f2eca1fb190>\n",
      "\n",
      "\n"
     ]
    },
    {
     "data": {
      "text/plain": [
       "Pandas(Index='Jetta Variant', Motor='Motor 4.0 Turbo', Ano=2003, Quilometragem=44410.0, Zero_km=False, Acessórios=\"['Rodas de liga', 'Travas elétricas', 'Piloto automático', 'Bancos de couro', 'Ar condicionado', 'Sensor de estacionamento', 'Sensor crepuscular', 'Sensor de chuva']\", Valor=88078.64, Km_media=2775.625)"
      ]
     },
     "execution_count": 141,
     "metadata": {},
     "output_type": "execute_result"
    }
   ],
   "source": [
    "#itertuples() retorna tuplas com todas as informaçoes de uma linha\n",
    "print(dataset.itertuples())\n",
    "print('\\n')\n",
    "list(dataset.itertuples())[0]"
   ]
  },
  {
   "cell_type": "markdown",
   "metadata": {
    "id": "HnUzHFQPD1Ba"
   },
   "source": [
    "# 5.5 Tratamento de dados"
   ]
  },
  {
   "cell_type": "code",
   "execution_count": 142,
   "metadata": {
    "colab": {
     "base_uri": "https://localhost:8080/",
     "height": 237
    },
    "id": "FRxBWoBGD1Ba",
    "outputId": "39829e9c-d7bc-4fc1-b3e1-81998373c25d"
   },
   "outputs": [
    {
     "data": {
      "text/html": [
       "<div>\n",
       "<style scoped>\n",
       "    .dataframe tbody tr th:only-of-type {\n",
       "        vertical-align: middle;\n",
       "    }\n",
       "\n",
       "    .dataframe tbody tr th {\n",
       "        vertical-align: top;\n",
       "    }\n",
       "\n",
       "    .dataframe thead th {\n",
       "        text-align: right;\n",
       "    }\n",
       "</style>\n",
       "<table border=\"1\" class=\"dataframe\">\n",
       "  <thead>\n",
       "    <tr style=\"text-align: right;\">\n",
       "      <th></th>\n",
       "      <th>Motor</th>\n",
       "      <th>Ano</th>\n",
       "      <th>Quilometragem</th>\n",
       "      <th>Zero_km</th>\n",
       "      <th>Acessórios</th>\n",
       "      <th>Valor</th>\n",
       "      <th>Km_media</th>\n",
       "    </tr>\n",
       "    <tr>\n",
       "      <th>Nome</th>\n",
       "      <th></th>\n",
       "      <th></th>\n",
       "      <th></th>\n",
       "      <th></th>\n",
       "      <th></th>\n",
       "      <th></th>\n",
       "      <th></th>\n",
       "    </tr>\n",
       "  </thead>\n",
       "  <tbody>\n",
       "    <tr>\n",
       "      <th>Jetta Variant</th>\n",
       "      <td>Motor 4.0 Turbo</td>\n",
       "      <td>2003</td>\n",
       "      <td>44410.0</td>\n",
       "      <td>False</td>\n",
       "      <td>['Rodas de liga', 'Travas elétricas', 'Piloto ...</td>\n",
       "      <td>88078.64</td>\n",
       "      <td>2775.625000</td>\n",
       "    </tr>\n",
       "    <tr>\n",
       "      <th>Passat</th>\n",
       "      <td>Motor Diesel</td>\n",
       "      <td>1991</td>\n",
       "      <td>5712.0</td>\n",
       "      <td>False</td>\n",
       "      <td>['Central multimídia', 'Teto panorâmico', 'Fre...</td>\n",
       "      <td>106161.94</td>\n",
       "      <td>204.000000</td>\n",
       "    </tr>\n",
       "    <tr>\n",
       "      <th>Crossfox</th>\n",
       "      <td>Motor Diesel V8</td>\n",
       "      <td>1990</td>\n",
       "      <td>37123.0</td>\n",
       "      <td>False</td>\n",
       "      <td>['Piloto automático', 'Controle de estabilidad...</td>\n",
       "      <td>72832.16</td>\n",
       "      <td>1280.103448</td>\n",
       "    </tr>\n",
       "    <tr>\n",
       "      <th>DS5</th>\n",
       "      <td>Motor 2.4 Turbo</td>\n",
       "      <td>2019</td>\n",
       "      <td>NaN</td>\n",
       "      <td>True</td>\n",
       "      <td>['Travas elétricas', '4 X 4', 'Vidros elétrico...</td>\n",
       "      <td>124549.07</td>\n",
       "      <td>0.000000</td>\n",
       "    </tr>\n",
       "    <tr>\n",
       "      <th>Aston Martin DB4</th>\n",
       "      <td>Motor 2.4 Turbo</td>\n",
       "      <td>2006</td>\n",
       "      <td>25757.0</td>\n",
       "      <td>False</td>\n",
       "      <td>['Rodas de liga', '4 X 4', 'Central multimídia...</td>\n",
       "      <td>92612.10</td>\n",
       "      <td>1981.307692</td>\n",
       "    </tr>\n",
       "  </tbody>\n",
       "</table>\n",
       "</div>"
      ],
      "text/plain": [
       "                            Motor   Ano  Quilometragem  Zero_km  \\\n",
       "Nome                                                              \n",
       "Jetta Variant     Motor 4.0 Turbo  2003        44410.0    False   \n",
       "Passat               Motor Diesel  1991         5712.0    False   \n",
       "Crossfox          Motor Diesel V8  1990        37123.0    False   \n",
       "DS5               Motor 2.4 Turbo  2019            NaN     True   \n",
       "Aston Martin DB4  Motor 2.4 Turbo  2006        25757.0    False   \n",
       "\n",
       "                                                         Acessórios  \\\n",
       "Nome                                                                  \n",
       "Jetta Variant     ['Rodas de liga', 'Travas elétricas', 'Piloto ...   \n",
       "Passat            ['Central multimídia', 'Teto panorâmico', 'Fre...   \n",
       "Crossfox          ['Piloto automático', 'Controle de estabilidad...   \n",
       "DS5               ['Travas elétricas', '4 X 4', 'Vidros elétrico...   \n",
       "Aston Martin DB4  ['Rodas de liga', '4 X 4', 'Central multimídia...   \n",
       "\n",
       "                      Valor     Km_media  \n",
       "Nome                                      \n",
       "Jetta Variant      88078.64  2775.625000  \n",
       "Passat            106161.94   204.000000  \n",
       "Crossfox           72832.16  1280.103448  \n",
       "DS5               124549.07     0.000000  \n",
       "Aston Martin DB4   92612.10  1981.307692  "
      ]
     },
     "execution_count": 142,
     "metadata": {},
     "output_type": "execute_result"
    }
   ],
   "source": [
    "dataset.head()"
   ]
  },
  {
   "cell_type": "code",
   "execution_count": 143,
   "metadata": {
    "colab": {
     "base_uri": "https://localhost:8080/"
    },
    "id": "HHSwH0ZaD1Bc",
    "outputId": "6f52d107-dd27-4a58-cb4e-3fb2f11180ae"
   },
   "outputs": [
    {
     "name": "stdout",
     "output_type": "stream",
     "text": [
      "<class 'pandas.core.frame.DataFrame'>\n",
      "Index: 258 entries, Jetta Variant to Macan\n",
      "Data columns (total 7 columns):\n",
      " #   Column         Non-Null Count  Dtype  \n",
      "---  ------         --------------  -----  \n",
      " 0   Motor          258 non-null    object \n",
      " 1   Ano            258 non-null    int64  \n",
      " 2   Quilometragem  197 non-null    float64\n",
      " 3   Zero_km        258 non-null    bool   \n",
      " 4   Acessórios     258 non-null    object \n",
      " 5   Valor          258 non-null    float64\n",
      " 6   Km_media       258 non-null    float64\n",
      "dtypes: bool(1), float64(3), int64(1), object(2)\n",
      "memory usage: 22.5+ KB\n"
     ]
    }
   ],
   "source": [
    "dataset.info()"
   ]
  },
  {
   "cell_type": "code",
   "execution_count": 144,
   "metadata": {
    "colab": {
     "base_uri": "https://localhost:8080/"
    },
    "id": "G27pxgZ5D1Bd",
    "outputId": "36234c9b-bfbd-4bf3-9fa5-b000fdf7839e",
    "scrolled": true
   },
   "outputs": [
    {
     "data": {
      "text/plain": [
       "Nome\n",
       "Jetta Variant            False\n",
       "Passat                   False\n",
       "Crossfox                 False\n",
       "DS5                       True\n",
       "Aston Martin DB4         False\n",
       "                         ...  \n",
       "Phantom 2013             False\n",
       "Cadillac Ciel concept    False\n",
       "Classe GLK               False\n",
       "Aston Martin DB5         False\n",
       "Macan                    False\n",
       "Name: Quilometragem, Length: 258, dtype: bool"
      ]
     },
     "execution_count": 144,
     "metadata": {},
     "output_type": "execute_result"
    }
   ],
   "source": [
    "#isna() retorna uma series boolena com True para as linhas com\n",
    "#'Quilometragem' nula\n",
    "dataset.Quilometragem.isna()"
   ]
  },
  {
   "cell_type": "code",
   "execution_count": 145,
   "metadata": {
    "colab": {
     "base_uri": "https://localhost:8080/",
     "height": 499
    },
    "id": "DhlRbxy2D1Bd",
    "outputId": "1306d5fd-a214-4f67-bb01-662c3851dc0c",
    "scrolled": true
   },
   "outputs": [
    {
     "data": {
      "text/html": [
       "<div>\n",
       "<style scoped>\n",
       "    .dataframe tbody tr th:only-of-type {\n",
       "        vertical-align: middle;\n",
       "    }\n",
       "\n",
       "    .dataframe tbody tr th {\n",
       "        vertical-align: top;\n",
       "    }\n",
       "\n",
       "    .dataframe thead th {\n",
       "        text-align: right;\n",
       "    }\n",
       "</style>\n",
       "<table border=\"1\" class=\"dataframe\">\n",
       "  <thead>\n",
       "    <tr style=\"text-align: right;\">\n",
       "      <th></th>\n",
       "      <th>Motor</th>\n",
       "      <th>Ano</th>\n",
       "      <th>Quilometragem</th>\n",
       "      <th>Zero_km</th>\n",
       "      <th>Acessórios</th>\n",
       "      <th>Valor</th>\n",
       "      <th>Km_media</th>\n",
       "    </tr>\n",
       "    <tr>\n",
       "      <th>Nome</th>\n",
       "      <th></th>\n",
       "      <th></th>\n",
       "      <th></th>\n",
       "      <th></th>\n",
       "      <th></th>\n",
       "      <th></th>\n",
       "      <th></th>\n",
       "    </tr>\n",
       "  </thead>\n",
       "  <tbody>\n",
       "    <tr>\n",
       "      <th>DS5</th>\n",
       "      <td>Motor 2.4 Turbo</td>\n",
       "      <td>2019</td>\n",
       "      <td>NaN</td>\n",
       "      <td>True</td>\n",
       "      <td>['Travas elétricas', '4 X 4', 'Vidros elétrico...</td>\n",
       "      <td>124549.07</td>\n",
       "      <td>0.0</td>\n",
       "    </tr>\n",
       "    <tr>\n",
       "      <th>A5</th>\n",
       "      <td>Motor 4.0 Turbo</td>\n",
       "      <td>2019</td>\n",
       "      <td>NaN</td>\n",
       "      <td>True</td>\n",
       "      <td>['Câmbio automático', 'Câmera de estacionament...</td>\n",
       "      <td>56445.20</td>\n",
       "      <td>0.0</td>\n",
       "    </tr>\n",
       "    <tr>\n",
       "      <th>J5</th>\n",
       "      <td>Motor V6</td>\n",
       "      <td>2019</td>\n",
       "      <td>NaN</td>\n",
       "      <td>True</td>\n",
       "      <td>['Sensor crepuscular', 'Painel digital', 'Roda...</td>\n",
       "      <td>53183.38</td>\n",
       "      <td>0.0</td>\n",
       "    </tr>\n",
       "    <tr>\n",
       "      <th>A3</th>\n",
       "      <td>Motor 1.0 8v</td>\n",
       "      <td>2019</td>\n",
       "      <td>NaN</td>\n",
       "      <td>True</td>\n",
       "      <td>['4 X 4', 'Piloto automático', 'Central multim...</td>\n",
       "      <td>88552.39</td>\n",
       "      <td>0.0</td>\n",
       "    </tr>\n",
       "    <tr>\n",
       "      <th>Série 1 M</th>\n",
       "      <td>Motor V8</td>\n",
       "      <td>2019</td>\n",
       "      <td>NaN</td>\n",
       "      <td>True</td>\n",
       "      <td>['Controle de estabilidade', 'Central multimíd...</td>\n",
       "      <td>94564.40</td>\n",
       "      <td>0.0</td>\n",
       "    </tr>\n",
       "    <tr>\n",
       "      <th>...</th>\n",
       "      <td>...</td>\n",
       "      <td>...</td>\n",
       "      <td>...</td>\n",
       "      <td>...</td>\n",
       "      <td>...</td>\n",
       "      <td>...</td>\n",
       "      <td>...</td>\n",
       "    </tr>\n",
       "    <tr>\n",
       "      <th>Lamborghini Reventón</th>\n",
       "      <td>Motor 4.0 Turbo</td>\n",
       "      <td>2019</td>\n",
       "      <td>NaN</td>\n",
       "      <td>True</td>\n",
       "      <td>['Controle de tração', 'Ar condicionado', 'Cen...</td>\n",
       "      <td>67664.86</td>\n",
       "      <td>0.0</td>\n",
       "    </tr>\n",
       "    <tr>\n",
       "      <th>Benni Mini</th>\n",
       "      <td>Motor V8</td>\n",
       "      <td>2019</td>\n",
       "      <td>NaN</td>\n",
       "      <td>True</td>\n",
       "      <td>['Sensor crepuscular', 'Câmbio automático', 'C...</td>\n",
       "      <td>126247.84</td>\n",
       "      <td>0.0</td>\n",
       "    </tr>\n",
       "    <tr>\n",
       "      <th>Uno</th>\n",
       "      <td>Motor Diesel V6</td>\n",
       "      <td>2019</td>\n",
       "      <td>NaN</td>\n",
       "      <td>True</td>\n",
       "      <td>['Central multimídia', 'Sensor crepuscular', '...</td>\n",
       "      <td>128852.21</td>\n",
       "      <td>0.0</td>\n",
       "    </tr>\n",
       "    <tr>\n",
       "      <th>Santa Fe</th>\n",
       "      <td>Motor 3.0 32v</td>\n",
       "      <td>2019</td>\n",
       "      <td>NaN</td>\n",
       "      <td>True</td>\n",
       "      <td>['Travas elétricas', 'Ar condicionado', '4 X 4...</td>\n",
       "      <td>129415.33</td>\n",
       "      <td>0.0</td>\n",
       "    </tr>\n",
       "    <tr>\n",
       "      <th>XC60</th>\n",
       "      <td>Motor 4.0 Turbo</td>\n",
       "      <td>2019</td>\n",
       "      <td>NaN</td>\n",
       "      <td>True</td>\n",
       "      <td>['Painel digital', 'Piloto automático', 'Centr...</td>\n",
       "      <td>77675.79</td>\n",
       "      <td>0.0</td>\n",
       "    </tr>\n",
       "  </tbody>\n",
       "</table>\n",
       "<p>61 rows × 7 columns</p>\n",
       "</div>"
      ],
      "text/plain": [
       "                                Motor   Ano  Quilometragem  Zero_km  \\\n",
       "Nome                                                                  \n",
       "DS5                   Motor 2.4 Turbo  2019            NaN     True   \n",
       "A5                    Motor 4.0 Turbo  2019            NaN     True   \n",
       "J5                           Motor V6  2019            NaN     True   \n",
       "A3                       Motor 1.0 8v  2019            NaN     True   \n",
       "Série 1 M                    Motor V8  2019            NaN     True   \n",
       "...                               ...   ...            ...      ...   \n",
       "Lamborghini Reventón  Motor 4.0 Turbo  2019            NaN     True   \n",
       "Benni Mini                   Motor V8  2019            NaN     True   \n",
       "Uno                   Motor Diesel V6  2019            NaN     True   \n",
       "Santa Fe                Motor 3.0 32v  2019            NaN     True   \n",
       "XC60                  Motor 4.0 Turbo  2019            NaN     True   \n",
       "\n",
       "                                                             Acessórios  \\\n",
       "Nome                                                                      \n",
       "DS5                   ['Travas elétricas', '4 X 4', 'Vidros elétrico...   \n",
       "A5                    ['Câmbio automático', 'Câmera de estacionament...   \n",
       "J5                    ['Sensor crepuscular', 'Painel digital', 'Roda...   \n",
       "A3                    ['4 X 4', 'Piloto automático', 'Central multim...   \n",
       "Série 1 M             ['Controle de estabilidade', 'Central multimíd...   \n",
       "...                                                                 ...   \n",
       "Lamborghini Reventón  ['Controle de tração', 'Ar condicionado', 'Cen...   \n",
       "Benni Mini            ['Sensor crepuscular', 'Câmbio automático', 'C...   \n",
       "Uno                   ['Central multimídia', 'Sensor crepuscular', '...   \n",
       "Santa Fe              ['Travas elétricas', 'Ar condicionado', '4 X 4...   \n",
       "XC60                  ['Painel digital', 'Piloto automático', 'Centr...   \n",
       "\n",
       "                          Valor  Km_media  \n",
       "Nome                                       \n",
       "DS5                   124549.07       0.0  \n",
       "A5                     56445.20       0.0  \n",
       "J5                     53183.38       0.0  \n",
       "A3                     88552.39       0.0  \n",
       "Série 1 M              94564.40       0.0  \n",
       "...                         ...       ...  \n",
       "Lamborghini Reventón   67664.86       0.0  \n",
       "Benni Mini            126247.84       0.0  \n",
       "Uno                   128852.21       0.0  \n",
       "Santa Fe              129415.33       0.0  \n",
       "XC60                   77675.79       0.0  \n",
       "\n",
       "[61 rows x 7 columns]"
      ]
     },
     "execution_count": 145,
     "metadata": {},
     "output_type": "execute_result"
    }
   ],
   "source": [
    "#dataset com todos os valores de quilometragem nula\n",
    "dataset[dataset.Quilometragem.isna()]"
   ]
  },
  {
   "cell_type": "code",
   "execution_count": 146,
   "metadata": {
    "id": "OL04QU5RD1Be"
   },
   "outputs": [],
   "source": [
    "#como substituir todos os valores NaN por algo ? usando o metodo \n",
    "#fillna(valor_quero_substituir, inplace= True)\n",
    "dataset.fillna(0, inplace=True)"
   ]
  },
  {
   "cell_type": "code",
   "execution_count": 147,
   "metadata": {
    "colab": {
     "base_uri": "https://localhost:8080/"
    },
    "id": "fTH2JkGDD1Bf",
    "outputId": "c1716ffe-4c6b-413b-c00b-299c228824d3",
    "scrolled": true
   },
   "outputs": [
    {
     "name": "stdout",
     "output_type": "stream",
     "text": [
      "<class 'pandas.core.frame.DataFrame'>\n",
      "Index: 258 entries, Jetta Variant to Macan\n",
      "Data columns (total 7 columns):\n",
      " #   Column         Non-Null Count  Dtype  \n",
      "---  ------         --------------  -----  \n",
      " 0   Motor          258 non-null    object \n",
      " 1   Ano            258 non-null    int64  \n",
      " 2   Quilometragem  258 non-null    float64\n",
      " 3   Zero_km        258 non-null    bool   \n",
      " 4   Acessórios     258 non-null    object \n",
      " 5   Valor          258 non-null    float64\n",
      " 6   Km_media       258 non-null    float64\n",
      "dtypes: bool(1), float64(3), int64(1), object(2)\n",
      "memory usage: 22.5+ KB\n"
     ]
    }
   ],
   "source": [
    "#Não ha mais elementos NaN no dataSet\n",
    "dataset.info()"
   ]
  },
  {
   "cell_type": "code",
   "execution_count": 148,
   "metadata": {
    "colab": {
     "base_uri": "https://localhost:8080/",
     "height": 206
    },
    "id": "4-ZvhXjvD1Bj",
    "outputId": "1cc595f3-27ac-4ed1-e00b-03798bbb11dc"
   },
   "outputs": [
    {
     "data": {
      "text/html": [
       "<div>\n",
       "<style scoped>\n",
       "    .dataframe tbody tr th:only-of-type {\n",
       "        vertical-align: middle;\n",
       "    }\n",
       "\n",
       "    .dataframe tbody tr th {\n",
       "        vertical-align: top;\n",
       "    }\n",
       "\n",
       "    .dataframe thead th {\n",
       "        text-align: right;\n",
       "    }\n",
       "</style>\n",
       "<table border=\"1\" class=\"dataframe\">\n",
       "  <thead>\n",
       "    <tr style=\"text-align: right;\">\n",
       "      <th></th>\n",
       "      <th>Nome</th>\n",
       "      <th>Motor</th>\n",
       "      <th>Ano</th>\n",
       "      <th>Quilometragem</th>\n",
       "      <th>Zero_km</th>\n",
       "      <th>Acessórios</th>\n",
       "      <th>Valor</th>\n",
       "    </tr>\n",
       "  </thead>\n",
       "  <tbody>\n",
       "    <tr>\n",
       "      <th>0</th>\n",
       "      <td>Jetta Variant</td>\n",
       "      <td>Motor 4.0 Turbo</td>\n",
       "      <td>2003</td>\n",
       "      <td>44410.0</td>\n",
       "      <td>False</td>\n",
       "      <td>['Rodas de liga', 'Travas elétricas', 'Piloto ...</td>\n",
       "      <td>88078.64</td>\n",
       "    </tr>\n",
       "    <tr>\n",
       "      <th>1</th>\n",
       "      <td>Passat</td>\n",
       "      <td>Motor Diesel</td>\n",
       "      <td>1991</td>\n",
       "      <td>5712.0</td>\n",
       "      <td>False</td>\n",
       "      <td>['Central multimídia', 'Teto panorâmico', 'Fre...</td>\n",
       "      <td>106161.94</td>\n",
       "    </tr>\n",
       "    <tr>\n",
       "      <th>2</th>\n",
       "      <td>Crossfox</td>\n",
       "      <td>Motor Diesel V8</td>\n",
       "      <td>1990</td>\n",
       "      <td>37123.0</td>\n",
       "      <td>False</td>\n",
       "      <td>['Piloto automático', 'Controle de estabilidad...</td>\n",
       "      <td>72832.16</td>\n",
       "    </tr>\n",
       "    <tr>\n",
       "      <th>3</th>\n",
       "      <td>DS5</td>\n",
       "      <td>Motor 2.4 Turbo</td>\n",
       "      <td>2019</td>\n",
       "      <td>NaN</td>\n",
       "      <td>True</td>\n",
       "      <td>['Travas elétricas', '4 X 4', 'Vidros elétrico...</td>\n",
       "      <td>124549.07</td>\n",
       "    </tr>\n",
       "    <tr>\n",
       "      <th>4</th>\n",
       "      <td>Aston Martin DB4</td>\n",
       "      <td>Motor 2.4 Turbo</td>\n",
       "      <td>2006</td>\n",
       "      <td>25757.0</td>\n",
       "      <td>False</td>\n",
       "      <td>['Rodas de liga', '4 X 4', 'Central multimídia...</td>\n",
       "      <td>92612.10</td>\n",
       "    </tr>\n",
       "  </tbody>\n",
       "</table>\n",
       "</div>"
      ],
      "text/plain": [
       "               Nome            Motor   Ano  Quilometragem  Zero_km  \\\n",
       "0     Jetta Variant  Motor 4.0 Turbo  2003        44410.0    False   \n",
       "1            Passat     Motor Diesel  1991         5712.0    False   \n",
       "2          Crossfox  Motor Diesel V8  1990        37123.0    False   \n",
       "3               DS5  Motor 2.4 Turbo  2019            NaN     True   \n",
       "4  Aston Martin DB4  Motor 2.4 Turbo  2006        25757.0    False   \n",
       "\n",
       "                                          Acessórios      Valor  \n",
       "0  ['Rodas de liga', 'Travas elétricas', 'Piloto ...   88078.64  \n",
       "1  ['Central multimídia', 'Teto panorâmico', 'Fre...  106161.94  \n",
       "2  ['Piloto automático', 'Controle de estabilidad...   72832.16  \n",
       "3  ['Travas elétricas', '4 X 4', 'Vidros elétrico...  124549.07  \n",
       "4  ['Rodas de liga', '4 X 4', 'Central multimídia...   92612.10  "
      ]
     },
     "execution_count": 148,
     "metadata": {},
     "output_type": "execute_result"
    }
   ],
   "source": [
    "dataset = pd.read_csv('https://raw.githubusercontent.com/xxGabrielNeryxx/ProjetosDataScience/main/Python_Pandas/Data/db.csv', sep=';')\n",
    "dataset.head()"
   ]
  },
  {
   "cell_type": "code",
   "execution_count": 149,
   "metadata": {
    "id": "lure2GvpD1Bg"
   },
   "outputs": [],
   "source": [
    "#Posso eliminar/ Deletar as linhas com Nan com dropna()\n",
    "dataset.dropna(subset=['Quilometragem'], inplace=True)"
   ]
  },
  {
   "cell_type": "code",
   "execution_count": 150,
   "metadata": {
    "colab": {
     "base_uri": "https://localhost:8080/"
    },
    "id": "MQUw7i1OD1Bk",
    "outputId": "1de69271-7b08-4aa6-9bbb-74e867a0da7e",
    "scrolled": true
   },
   "outputs": [
    {
     "name": "stdout",
     "output_type": "stream",
     "text": [
      "<class 'pandas.core.frame.DataFrame'>\n",
      "Int64Index: 197 entries, 0 to 257\n",
      "Data columns (total 7 columns):\n",
      " #   Column         Non-Null Count  Dtype  \n",
      "---  ------         --------------  -----  \n",
      " 0   Nome           197 non-null    object \n",
      " 1   Motor          197 non-null    object \n",
      " 2   Ano            197 non-null    int64  \n",
      " 3   Quilometragem  197 non-null    float64\n",
      " 4   Zero_km        197 non-null    bool   \n",
      " 5   Acessórios     197 non-null    object \n",
      " 6   Valor          197 non-null    float64\n",
      "dtypes: bool(1), float64(2), int64(1), object(3)\n",
      "memory usage: 11.0+ KB\n"
     ]
    }
   ],
   "source": [
    "dataset.info()"
   ]
  },
  {
   "cell_type": "code",
   "execution_count": 151,
   "metadata": {
    "colab": {
     "base_uri": "https://localhost:8080/",
     "height": 206
    },
    "id": "U4Cse7miD1Bl",
    "outputId": "105d6c28-84ff-468e-a2f5-f4e1e04d1dbf"
   },
   "outputs": [
    {
     "data": {
      "text/html": [
       "<div>\n",
       "<style scoped>\n",
       "    .dataframe tbody tr th:only-of-type {\n",
       "        vertical-align: middle;\n",
       "    }\n",
       "\n",
       "    .dataframe tbody tr th {\n",
       "        vertical-align: top;\n",
       "    }\n",
       "\n",
       "    .dataframe thead th {\n",
       "        text-align: right;\n",
       "    }\n",
       "</style>\n",
       "<table border=\"1\" class=\"dataframe\">\n",
       "  <thead>\n",
       "    <tr style=\"text-align: right;\">\n",
       "      <th></th>\n",
       "      <th>Nome</th>\n",
       "      <th>Motor</th>\n",
       "      <th>Ano</th>\n",
       "      <th>Quilometragem</th>\n",
       "      <th>Zero_km</th>\n",
       "      <th>Acessórios</th>\n",
       "      <th>Valor</th>\n",
       "    </tr>\n",
       "  </thead>\n",
       "  <tbody>\n",
       "    <tr>\n",
       "      <th>0</th>\n",
       "      <td>Jetta Variant</td>\n",
       "      <td>Motor 4.0 Turbo</td>\n",
       "      <td>2003</td>\n",
       "      <td>44410.0</td>\n",
       "      <td>False</td>\n",
       "      <td>['Rodas de liga', 'Travas elétricas', 'Piloto ...</td>\n",
       "      <td>88078.64</td>\n",
       "    </tr>\n",
       "    <tr>\n",
       "      <th>1</th>\n",
       "      <td>Passat</td>\n",
       "      <td>Motor Diesel</td>\n",
       "      <td>1991</td>\n",
       "      <td>5712.0</td>\n",
       "      <td>False</td>\n",
       "      <td>['Central multimídia', 'Teto panorâmico', 'Fre...</td>\n",
       "      <td>106161.94</td>\n",
       "    </tr>\n",
       "    <tr>\n",
       "      <th>2</th>\n",
       "      <td>Crossfox</td>\n",
       "      <td>Motor Diesel V8</td>\n",
       "      <td>1990</td>\n",
       "      <td>37123.0</td>\n",
       "      <td>False</td>\n",
       "      <td>['Piloto automático', 'Controle de estabilidad...</td>\n",
       "      <td>72832.16</td>\n",
       "    </tr>\n",
       "    <tr>\n",
       "      <th>4</th>\n",
       "      <td>Aston Martin DB4</td>\n",
       "      <td>Motor 2.4 Turbo</td>\n",
       "      <td>2006</td>\n",
       "      <td>25757.0</td>\n",
       "      <td>False</td>\n",
       "      <td>['Rodas de liga', '4 X 4', 'Central multimídia...</td>\n",
       "      <td>92612.10</td>\n",
       "    </tr>\n",
       "    <tr>\n",
       "      <th>5</th>\n",
       "      <td>Palio Weekend</td>\n",
       "      <td>Motor 1.8 16v</td>\n",
       "      <td>2012</td>\n",
       "      <td>10728.0</td>\n",
       "      <td>False</td>\n",
       "      <td>['Sensor de estacionamento', 'Teto panorâmico'...</td>\n",
       "      <td>97497.73</td>\n",
       "    </tr>\n",
       "  </tbody>\n",
       "</table>\n",
       "</div>"
      ],
      "text/plain": [
       "               Nome            Motor   Ano  Quilometragem  Zero_km  \\\n",
       "0     Jetta Variant  Motor 4.0 Turbo  2003        44410.0    False   \n",
       "1            Passat     Motor Diesel  1991         5712.0    False   \n",
       "2          Crossfox  Motor Diesel V8  1990        37123.0    False   \n",
       "4  Aston Martin DB4  Motor 2.4 Turbo  2006        25757.0    False   \n",
       "5     Palio Weekend    Motor 1.8 16v  2012        10728.0    False   \n",
       "\n",
       "                                          Acessórios      Valor  \n",
       "0  ['Rodas de liga', 'Travas elétricas', 'Piloto ...   88078.64  \n",
       "1  ['Central multimídia', 'Teto panorâmico', 'Fre...  106161.94  \n",
       "2  ['Piloto automático', 'Controle de estabilidad...   72832.16  \n",
       "4  ['Rodas de liga', '4 X 4', 'Central multimídia...   92612.10  \n",
       "5  ['Sensor de estacionamento', 'Teto panorâmico'...   97497.73  "
      ]
     },
     "execution_count": 151,
     "metadata": {},
     "output_type": "execute_result"
    }
   ],
   "source": [
    "dataset.head()"
   ]
  }
 ],
 "metadata": {
  "colab": {
   "collapsed_sections": [
    "htjoBLwiD0_F",
    "xo76nR8rD0_0",
    "JLs5c0DeD1AR",
    "mNODkmHCD1AV",
    "Q5J0R7d3D1Ag",
    "QhoSRfPsD1Ai",
    "E-agaqakD1Ai",
    "qFj6Cc7dD1Ak",
    "-NGRwX0AD1Al",
    "-q3AlSg3D1Aq",
    "5CfEcU58D1Aq",
    "6w62Sl5ZD1A0",
    "OADZiBP2D1A0",
    "PwSlYSVAD1A2",
    "8zNYrmFbD1A9",
    "J44K-dMOD1A9",
    "MQaK8GV5D1BA",
    "uQ5lNnKrD1BD",
    "2qa7RC03D1BD",
    "kIey8_OcD1BF",
    "VYVIKd1-D1BG",
    "pJK2tQgYD1BK",
    "fCCXs0reD1BL",
    "y5V-1AK-D1BN",
    "wZjqlHe9D1BN",
    "7RPXPm1XD1BQ",
    "G3DMSk97D1BR",
    "SYKEe3vCD1BT",
    "eAbwq1oLD1BW",
    "_XKXcWO-D1BY",
    "ciJ4dw_FD1BZ",
    "HnUzHFQPD1Ba"
   ],
   "provenance": [],
   "toc_visible": true
  },
  "kernelspec": {
   "display_name": "Python 3 (ipykernel)",
   "language": "python",
   "name": "python3"
  },
  "language_info": {
   "codemirror_mode": {
    "name": "ipython",
    "version": 3
   },
   "file_extension": ".py",
   "mimetype": "text/x-python",
   "name": "python",
   "nbconvert_exporter": "python",
   "pygments_lexer": "ipython3",
   "version": "3.9.12"
  }
 },
 "nbformat": 4,
 "nbformat_minor": 1
}
