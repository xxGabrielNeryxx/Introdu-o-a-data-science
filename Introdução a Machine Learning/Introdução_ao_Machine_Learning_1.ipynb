{
  "nbformat": 4,
  "nbformat_minor": 0,
  "metadata": {
    "colab": {
      "provenance": [],
      "collapsed_sections": []
    },
    "kernelspec": {
      "name": "python3",
      "display_name": "Python 3"
    },
    "language_info": {
      "name": "python"
    }
  },
  "cells": [
    {
      "cell_type": "code",
      "execution_count": null,
      "metadata": {
        "id": "je4_hD5ZZBdW"
      },
      "outputs": [],
      "source": [
        "#Caracteristicas de um porco (1 sim, 0 não)\n",
        "#1ªcaracteristica de um porco) pelo longo?\n",
        "#2ª caracteristica de um porco) perna curta?\n",
        "#3ª caracteristica de um porco) faz auau?\n",
        "porco1 = [0, 1, 0]\n",
        "porco2 = [0, 1, 1]\n",
        "porco3 = [1, 1, 0]\n",
        "\n",
        "#Caracteristicas de um cachorro (1 sim, 0 não)\n",
        "#1ªcaracteristica de um cachorro) pelo longo?\n",
        "#2ª caracteristica de um cachorro) perna curta?\n",
        "#3ª caracteristica de um cachorro) faz auau?\n",
        "\n",
        "cachorro1 = [0, 1, 1]\n",
        "cachorro2 = [1, 0, 1]\n",
        "cachorro3 = [1, 1, 1]\n",
        "\n",
        "dados = [porco1, porco2, porco3, cachorro1, cachorro2, cachorro3] \n",
        "classes = [1,1,1,0,0,0] #são as classificaçoes/categorias dos meus dados, sendo que:\n",
        "                        #1 => porco\n",
        "                        #0 => cachorro"
      ]
    },
    {
      "cell_type": "code",
      "source": [
        "from sklearn.svm import LinearSVC #importo o estimador (modelo)\n",
        "\n",
        "model = LinearSVC() #instancio o estimador\n",
        "model.fit(dados, classes) #faço o modelo se adaptar aos meus dados e as classes (treino ele)"
      ],
      "metadata": {
        "colab": {
          "base_uri": "https://localhost:8080/"
        },
        "id": "CX8nH_ouaRlq",
        "outputId": "b44219f6-477a-493c-9a04-0d7cc0a1ddcd"
      },
      "execution_count": null,
      "outputs": [
        {
          "output_type": "execute_result",
          "data": {
            "text/plain": [
              "LinearSVC()"
            ]
          },
          "metadata": {},
          "execution_count": 43
        }
      ]
    },
    {
      "cell_type": "code",
      "source": [
        "animal_misterioso = [1, 1, 1]\n",
        "#Obs: Predict espera um array 2D, logo coloco mais um []\n",
        "model.predict([animal_misterioso]) #Pesso para o algoritmo predizer qual o animal misterioso"
      ],
      "metadata": {
        "colab": {
          "base_uri": "https://localhost:8080/"
        },
        "id": "ODDLjWi2cBU9",
        "outputId": "c794f29a-084b-4910-85ac-c82152324639"
      },
      "execution_count": null,
      "outputs": [
        {
          "output_type": "execute_result",
          "data": {
            "text/plain": [
              "array([0])"
            ]
          },
          "metadata": {},
          "execution_count": 44
        }
      ]
    },
    {
      "cell_type": "code",
      "source": [
        "misterio1 = [1,1,1]\n",
        "misterio2 = [1,1,0]\n",
        "misterio3 = [0,1,1]\n",
        "\n",
        "teste = [misterio1,misterio2,misterio3]\n",
        "previsoes = model.predict(teste)#gera [0,1,0], porem era para ser [0,1,1], logo errou o ultimo\n",
        "previsoes #resultado do modelo"
      ],
      "metadata": {
        "colab": {
          "base_uri": "https://localhost:8080/"
        },
        "id": "2ieC_dv8cl2H",
        "outputId": "d3de2469-776d-48a5-9ff7-a020e633dd7e"
      },
      "execution_count": null,
      "outputs": [
        {
          "output_type": "execute_result",
          "data": {
            "text/plain": [
              "array([0, 1, 0])"
            ]
          },
          "metadata": {},
          "execution_count": 45
        }
      ]
    },
    {
      "cell_type": "code",
      "source": [
        "teste_classes = [0,1,1]#resultado esperado"
      ],
      "metadata": {
        "id": "sBlWmC8-dMEB"
      },
      "execution_count": null,
      "outputs": []
    },
    {
      "cell_type": "code",
      "source": [
        "corretos = (previsoes == teste_classes).sum() #retorna o numero de elementos verdadeiros\n",
        "total = len(teste)\n",
        "taxa_acerto = corretos/total\n",
        "print(f\"Taxa de acerto: {taxa_acerto*100}\")\n"
      ],
      "metadata": {
        "colab": {
          "base_uri": "https://localhost:8080/"
        },
        "id": "tKXXKqKvd_JV",
        "outputId": "8b1176d1-1bbb-4e37-8801-981222fd9748"
      },
      "execution_count": null,
      "outputs": [
        {
          "output_type": "stream",
          "name": "stdout",
          "text": [
            "Taxa de acerto: 66.66666666666666\n"
          ]
        }
      ]
    },
    {
      "cell_type": "code",
      "source": [
        "#o sklearn tem metodos de medir a acurracia de um algoritmo\n",
        "from sklearn.metrics import accuracy_score\n",
        "taxa_acerto = accuracy_score(teste_classes, previsoes)# 1o parametro é o gabarito do teste e o 2o é o resultado do modelo\n",
        "taxa_acerto"
      ],
      "metadata": {
        "colab": {
          "base_uri": "https://localhost:8080/"
        },
        "id": "nz5LKrgtfDZN",
        "outputId": "61956a95-0f99-477c-d6b9-51255169034f"
      },
      "execution_count": null,
      "outputs": [
        {
          "output_type": "execute_result",
          "data": {
            "text/plain": [
              "0.6666666666666666"
            ]
          },
          "metadata": {},
          "execution_count": 48
        }
      ]
    },
    {
      "cell_type": "code",
      "source": [
        "# Um modelo funciona como uma função matematica\n",
        "#f(x) = y\n",
        "#f é o modelo\n",
        "#x são os dados\n",
        "#y são as classes (gabarito)\n",
        "#BIZU: Colocar x e y nos nomes das variáveis que representam os dados e labels respectivamente\n",
        "treino_x = [porco1, porco2, porco3, cachorro1, cachorro2, cachorro3] \n",
        "treino_y = [1,1,1,0,0,0] #As calsses tabem são chamadas de labels (etiquetas)\n"
      ],
      "metadata": {
        "id": "dIg9nbumecfe"
      },
      "execution_count": null,
      "outputs": []
    },
    {
      "cell_type": "code",
      "source": [
        "#Fazendo o mesmo algoritmo, mas mudando o nome das variáveis\n",
        "model = LinearSVC()\n",
        "model.fit(treino_x, treino_y)\n",
        "\n",
        "misterio1 = [1,1,1]\n",
        "misterio2 = [1,1,0]\n",
        "misterio3 = [0,1,1]\n",
        "\n",
        "teste_x = [misterio1,misterio2,misterio3]\n",
        "teste_y = [0,1,1] #resultado esperado\n",
        "previsoes = model.predict(teste_x)\n",
        "previsoes "
      ],
      "metadata": {
        "colab": {
          "base_uri": "https://localhost:8080/"
        },
        "id": "1FKzAp6ReXky",
        "outputId": "d2e12934-9c4c-49a3-dda7-4862c36ece49"
      },
      "execution_count": null,
      "outputs": [
        {
          "output_type": "execute_result",
          "data": {
            "text/plain": [
              "array([0, 1, 0])"
            ]
          },
          "metadata": {},
          "execution_count": 50
        }
      ]
    },
    {
      "cell_type": "code",
      "source": [
        "taxa_acerto = accuracy_score(teste_y, previsoes)\n",
        "print(f\"Taxa de acerto: %.2f\" % (taxa_acerto*100))"
      ],
      "metadata": {
        "colab": {
          "base_uri": "https://localhost:8080/"
        },
        "id": "2-C6-ghynat-",
        "outputId": "01841c89-3805-4e98-f054-a8d9e834879d"
      },
      "execution_count": null,
      "outputs": [
        {
          "output_type": "stream",
          "name": "stdout",
          "text": [
            "Taxa de acerto: 66.67\n"
          ]
        }
      ]
    }
  ]
}